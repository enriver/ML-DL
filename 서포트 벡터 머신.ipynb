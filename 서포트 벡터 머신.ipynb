{
 "cells": [
  {
   "cell_type": "markdown",
   "metadata": {},
   "source": [
    "## 선형 분류기 훈련하기\n",
    "### 서포트 벡터 분류기(SVC)를 사용하여 클래스 사이 마진을 최대화하는 초평면 찾기"
   ]
  },
  {
   "cell_type": "code",
   "execution_count": 1,
   "metadata": {},
   "outputs": [],
   "source": [
    "from sklearn.svm import LinearSVC\n",
    "from sklearn import datasets\n",
    "from sklearn.preprocessing import StandardScaler\n",
    "import numpy as np"
   ]
  },
  {
   "cell_type": "code",
   "execution_count": 6,
   "metadata": {},
   "outputs": [],
   "source": [
    "# 데이터 로드\n",
    "\n",
    "iris=datasets.load_iris()\n",
    "X=iris.data[:100,:2]\n",
    "y=iris.target[:100]"
   ]
  },
  {
   "cell_type": "code",
   "execution_count": 3,
   "metadata": {},
   "outputs": [],
   "source": [
    "# 특성 표준화\n",
    "\n",
    "scaler=StandardScaler()\n",
    "X_std=scaler.fit_transform(X)"
   ]
  },
  {
   "cell_type": "code",
   "execution_count": 4,
   "metadata": {},
   "outputs": [],
   "source": [
    "# 서포트 벡터 분류기 생성\n",
    "\n",
    "svc=LinearSVC(C=1.0)"
   ]
  },
  {
   "cell_type": "code",
   "execution_count": 7,
   "metadata": {},
   "outputs": [],
   "source": [
    "# 모델 훈련\n",
    "\n",
    "model=svc.fit(X_std,y)"
   ]
  },
  {
   "cell_type": "markdown",
   "metadata": {},
   "source": [
    "위의 문제 해결 방안을 그림을 그려서 직관적으로 이해하기"
   ]
  },
  {
   "cell_type": "code",
   "execution_count": 8,
   "metadata": {},
   "outputs": [],
   "source": [
    "from matplotlib import pyplot as plt"
   ]
  },
  {
   "cell_type": "code",
   "execution_count": 10,
   "metadata": {},
   "outputs": [
    {
     "data": {
      "image/png": "[encoded data removed]",
      "text/plain": [
       "<Figure size 432x288 with 1 Axes>"
      ]
     },
     "metadata": {
      "needs_background": "light"
     },
     "output_type": "display_data"
    },
    {
     "data": {
      "text/plain": [
       "((-2.75, 2.75, -3.5353222250864045, 3.954061390361236), None)"
      ]
     },
     "execution_count": 10,
     "metadata": {},
     "output_type": "execute_result"
    }
   ],
   "source": [
    "# 클래스를 색으로 구분한 산점도 그리기\n",
    "\n",
    "color=['black' if c==0 else 'lightgrey' for c in y]\n",
    "plt.scatter(X_std[:,0],X_std[:,1],c=color)\n",
    "\n",
    "# 초평면 생성\n",
    "\n",
    "w=svc.coef_[0]\n",
    "a=-w[0]/w[1]\n",
    "xx=np.linspace(-2.5,2.5)\n",
    "\n",
    "yy=a*xx-(svc.intercept_[0])/w[1]\n",
    "\n",
    "# 초평면 그리기\n",
    "plt.plot(xx,yy)\n",
    "plt.axis('off'), plt.show()"
   ]
  },
  {
   "cell_type": "markdown",
   "metadata": {},
   "source": [
    "이 그래프에서 클래스 0의 샘플은 검은색이고 클래스 1의 샘플은 밝은 회색이다.\n",
    "\n",
    "이 초평면은 새로운 샘플을 분류하기 위한 결정 경계이다."
   ]
  },
  {
   "cell_type": "code",
   "execution_count": 11,
   "metadata": {},
   "outputs": [],
   "source": [
    "''' 새로운 샘플을 만들어 초평면이 클래스를 잘 분류하고 있는지 확인'''\n",
    "\n",
    "new_observation=[[-2,3]]"
   ]
  },
  {
   "cell_type": "code",
   "execution_count": 12,
   "metadata": {},
   "outputs": [
    {
     "data": {
      "text/plain": [
       "array([0])"
      ]
     },
     "execution_count": 12,
     "metadata": {},
     "output_type": "execute_result"
    }
   ],
   "source": [
    "# 새로운 샘플의 클래스 예측\n",
    "\n",
    "svc.predict(new_observation)"
   ]
  },
  {
   "cell_type": "markdown",
   "metadata": {},
   "source": [
    "### SVC 의 특징\n",
    "\n",
    "- 다중 클래스의 분류 환경에서도 잘 동작한다.\n",
    "- 초평면은 완전 선형이다. (즉, 곡선이 아니다.)\n",
    "\n",
    "***\n",
    "\n",
    "일반적으로는 클래스를 완벽하게 구분할 수 없다. 이런 경우에는 초평면의 마진을 최대화하는 SVC와 분류 오차를 최소화하는 것의 균형을 잡아야 한다.\n",
    "\n",
    "SVC에서 오차에 부과하는 패널티인 하이퍼 파라미터 C를 사용해 분류 오차의 최소화를 계획한다\n",
    "\n",
    "***\n",
    "\n",
    "- C가 작으면 분류기는 잘못 분류된 데이터 포인트를 허용한다(편향이 커지고 분산이 낮아짐)\n",
    "- C가 크면 분류기는 잘못 분류된 데이터에 큰 패널티를 부과한다. 결국 잘못 분류된 데이터를 피하기 위해 이 데이터 뒤로 결정 경계가 기울어진다 (편향이 낮고 분산이 높아짐)\n",
    "\n",
    "사이킷런에서는 C는 매개변수 C로 지정한다. 기본값은 1.0이며, C는 학습 알고리즘의 하이퍼파라미터로 다루어야한다."
   ]
  },
  {
   "cell_type": "code",
   "execution_count": 13,
   "metadata": {},
   "outputs": [
    {
     "data": {
      "text/plain": [
       "array([-6.84224538])"
      ]
     },
     "execution_count": 13,
     "metadata": {},
     "output_type": "execute_result"
    }
   ],
   "source": [
    "# decision_function 메소드를 사용해 분류에 대한 신뢰도를 확인할 수 있다.\n",
    "\n",
    "svc.decision_function(new_observation)"
   ]
  },
  {
   "cell_type": "markdown",
   "metadata": {},
   "source": [
    "## 커널을 사용해 선형적으로 구분되지 않는 클래스 다루기\n",
    "### 비선형 결정 경계를 만들기 위해 커널 함수를 사용한 서포트 벡터 머신 훈련"
   ]
  },
  {
   "cell_type": "code",
   "execution_count": 14,
   "metadata": {},
   "outputs": [],
   "source": [
    "from sklearn.svm import SVC\n",
    "from sklearn import datasets\n",
    "from sklearn.preprocessing import StandardScaler\n",
    "import numpy as np"
   ]
  },
  {
   "cell_type": "code",
   "execution_count": 15,
   "metadata": {},
   "outputs": [],
   "source": [
    "# 랜덤 시드 지정\n",
    "\n",
    "np.random.seed(0)"
   ]
  },
  {
   "cell_type": "code",
   "execution_count": 18,
   "metadata": {},
   "outputs": [],
   "source": [
    "# 두 개의 특성 생성\n",
    "\n",
    "features=np.random.randn(200,2) # (200,2) shape 의 난수 생성"
   ]
  },
  {
   "cell_type": "code",
   "execution_count": 19,
   "metadata": {},
   "outputs": [],
   "source": [
    "# XOR 연산을 사용하여 선형적으로 구분할 수 없는 클래스 생성\n",
    "\n",
    "target_xor=np.logical_xor(features[:,0]>0, features[:,1]>0)\n",
    "target=np.where(target_xor,0,1)"
   ]
  },
  {
   "cell_type": "code",
   "execution_count": 20,
   "metadata": {},
   "outputs": [],
   "source": [
    "# 방사 기저 함수 커널을 사용한 서포트 벡터 머신 생성\n",
    "\n",
    "svc=SVC(kernel='rbf', random_state=0, gamma=1, C=1)"
   ]
  },
  {
   "cell_type": "code",
   "execution_count": 21,
   "metadata": {},
   "outputs": [],
   "source": [
    "# 분류기 훈련\n",
    "\n",
    "model=svc.fit(features, target)"
   ]
  },
  {
   "cell_type": "code",
   "execution_count": 22,
   "metadata": {},
   "outputs": [],
   "source": [
    "''' 커널을 이해하기 위한 샘플 예제'''\n",
    "\n",
    "from matplotlib.colors import ListedColormap\n",
    "import matplotlib.pyplot as plt"
   ]
  },
  {
   "cell_type": "code",
   "execution_count": 35,
   "metadata": {},
   "outputs": [],
   "source": [
    "def plot_decision_regions(X,y,classifier):\n",
    "    cmap=ListedColormap(('red','blue'))\n",
    "    xx1,xx2=np.meshgrid(np.arange(-3,3,0.02), np.arange(-3,3,0.02))\n",
    "    Z=classifier.predict(np.array([xx1.ravel(), xx2.ravel()]).T)\n",
    "    Z=Z.reshape(xx1.shape)\n",
    "    plt.contourf(xx1,xx2,Z,alpha=0.1, cmap=cmap)\n",
    "    \n",
    "    for idx, cl in enumerate(np.unique(y)):\n",
    "        plt.scatter(x=X[y==cl, 0], y=X[y==cl, 1],\n",
    "                   alpha=0.8, c=cmap.colors[idx],\n",
    "                   marker='+', label=cl)"
   ]
  },
  {
   "cell_type": "code",
   "execution_count": 36,
   "metadata": {},
   "outputs": [],
   "source": [
    "# 선형 커널을 사용한 서포트 벡터 분류기 생성\n",
    "\n",
    "svc_linear=SVC(kernel='linear', random_state=0, C=1)"
   ]
  },
  {
   "cell_type": "code",
   "execution_count": 39,
   "metadata": {},
   "outputs": [],
   "source": [
    "# 모델 훈련\n",
    "\n",
    "model=svc_linear.fit(features, target)"
   ]
  },
  {
   "cell_type": "code",
   "execution_count": 40,
   "metadata": {},
   "outputs": [
    {
     "data": {
      "image/png": "[encoded data removed]",
      "text/plain": [
       "<Figure size 432x288 with 1 Axes>"
      ]
     },
     "metadata": {
      "needs_background": "light"
     },
     "output_type": "display_data"
    }
   ],
   "source": [
    "# 샘플과 초평면 그리기\n",
    "\n",
    "plot_decision_regions(features, target, classifier=svc_linear)\n",
    "plt.axis('off'), plt.show();"
   ]
  },
  {
   "cell_type": "code",
   "execution_count": 41,
   "metadata": {},
   "outputs": [],
   "source": [
    "# 선형 커널을 방사 기저 함수 커널로 바꾼 뒤 훈련\n",
    "\n",
    "svc=SVC(kernel='rbf', random_state=0, gamma=1, C=1)\n",
    "model=svc.fit(features,target)"
   ]
  },
  {
   "cell_type": "code",
   "execution_count": 42,
   "metadata": {},
   "outputs": [
    {
     "data": {
      "image/png": "[encoded data removed]",
      "text/plain": [
       "<Figure size 432x288 with 1 Axes>"
      ]
     },
     "metadata": {
      "needs_background": "light"
     },
     "output_type": "display_data"
    }
   ],
   "source": [
    "# 샘플과 초평면 그리기\n",
    "\n",
    "plot_decision_regions(features,target,classifier=svc)\n",
    "plt.axis('off'), plt.show();"
   ]
  },
  {
   "cell_type": "markdown",
   "metadata": {},
   "source": [
    "## 예측 확률 계산하기"
   ]
  },
  {
   "cell_type": "code",
   "execution_count": 44,
   "metadata": {},
   "outputs": [],
   "source": [
    "from sklearn.svm import SVC\n",
    "from sklearn import datasets\n",
    "from sklearn.preprocessing import StandardScaler\n",
    "import numpy as np"
   ]
  },
  {
   "cell_type": "code",
   "execution_count": 45,
   "metadata": {},
   "outputs": [],
   "source": [
    "# 데이터 로드\n",
    "\n",
    "iris=datasets.load_iris()\n",
    "X=iris.data\n",
    "y=iris.target"
   ]
  },
  {
   "cell_type": "code",
   "execution_count": 46,
   "metadata": {},
   "outputs": [],
   "source": [
    "# 특성 표준화\n",
    "\n",
    "scaler=StandardScaler()\n",
    "X_std=scaler.fit_transform(X)"
   ]
  },
  {
   "cell_type": "code",
   "execution_count": 47,
   "metadata": {},
   "outputs": [],
   "source": [
    "# 서포트 벡터 분류기 생성\n",
    "\n",
    "svc=SVC(kernel='linear', probability=True, random_state=0)"
   ]
  },
  {
   "cell_type": "code",
   "execution_count": 48,
   "metadata": {},
   "outputs": [],
   "source": [
    "# 분류기 훈련\n",
    "\n",
    "model=svc.fit(X_std, y)"
   ]
  },
  {
   "cell_type": "code",
   "execution_count": 50,
   "metadata": {},
   "outputs": [],
   "source": [
    "# 새로운 샘플 생성\n",
    "\n",
    "new_observation=[[.4,.4,.4,.4]]"
   ]
  },
  {
   "cell_type": "code",
   "execution_count": 51,
   "metadata": {},
   "outputs": [
    {
     "data": {
      "text/plain": [
       "array([[0.00582525, 0.96725691, 0.02691783]])"
      ]
     },
     "execution_count": 51,
     "metadata": {},
     "output_type": "execute_result"
    }
   ],
   "source": [
    "# 예측 확률 확인\n",
    "\n",
    "model.predict_proba(new_observation)"
   ]
  },
  {
   "cell_type": "markdown",
   "metadata": {},
   "source": [
    "실용적인 측면에서 예측 확률을 만드는데 두가지 이슈가 있다.\n",
    "\n",
    "1) 교차검증으로 또 다른 모델을 훈련해야 하기 때문에 예측 확률을 만드는것이 모델 훈련 시간을 증가시킨다  \n",
    "2) 예측 확률이 교차검증으로 만들어지기 때문에 예측 클래스와 항상 일치하지 않는다"
   ]
  },
  {
   "cell_type": "markdown",
   "metadata": {},
   "source": [
    "## 서포트 벡터 식별하기\n",
    "### 결정 초평면의 서포트 벡터가 어떤 샘플인지 식별하기"
   ]
  },
  {
   "cell_type": "code",
   "execution_count": 52,
   "metadata": {},
   "outputs": [],
   "source": [
    "from sklearn.svm import SVC\n",
    "from sklearn import datasets\n",
    "from sklearn.preprocessing import StandardScaler\n",
    "import numpy as np"
   ]
  },
  {
   "cell_type": "code",
   "execution_count": 53,
   "metadata": {},
   "outputs": [],
   "source": [
    "# 데이터를 로드하고 두개의 클래슴나 선택하기\n",
    "\n",
    "iris=datasets.load_iris()\n",
    "X=iris.data[:100,:]\n",
    "y=iris.target[:100]"
   ]
  },
  {
   "cell_type": "code",
   "execution_count": 54,
   "metadata": {},
   "outputs": [],
   "source": [
    "# 특성 표준화하기\n",
    "\n",
    "scaler=StandardScaler()\n",
    "X_std=scaler.fit_transform(X)"
   ]
  },
  {
   "cell_type": "code",
   "execution_count": 55,
   "metadata": {},
   "outputs": [],
   "source": [
    "# 서포트 벡터 분류기 만들기\n",
    "\n",
    "svc=SVC(kernel='linear', random_state=0)"
   ]
  },
  {
   "cell_type": "code",
   "execution_count": 56,
   "metadata": {},
   "outputs": [],
   "source": [
    "# 모델 훈련\n",
    "\n",
    "model=svc.fit(X_std, y)"
   ]
  },
  {
   "cell_type": "code",
   "execution_count": 57,
   "metadata": {},
   "outputs": [
    {
     "data": {
      "text/plain": [
       "array([[-0.5810659 ,  0.42196824, -0.80497402, -0.50860702],\n",
       "       [-1.52079513, -1.67737625, -1.08231219, -0.86427627],\n",
       "       [-0.89430898, -1.4674418 ,  0.30437864,  0.38056609],\n",
       "       [-0.5810659 , -1.25750735,  0.09637501,  0.55840072]])"
      ]
     },
     "execution_count": 57,
     "metadata": {},
     "output_type": "execute_result"
    }
   ],
   "source": [
    "# 서포트 벡터 확인\n",
    "\n",
    "model.support_vectors_"
   ]
  },
  {
   "cell_type": "markdown",
   "metadata": {},
   "source": [
    "서포트 벡터 머신은 초평면이 비교적 소수의 샘플에 의해 결정된다는 사실에서 이름이 유래했다.\n",
    "\n",
    "이런 샘플을 **서포트 벡터** 라고 부른다. 따라서 이런 서포트 벡터는 모델에서 아주 중요하다.\n",
    "\n",
    "예를들어, 서포트 벡터가 아닌 샘플은 삭제해도 모델이 변하지 않는다. 하지만 서포트 벡터를 삭제하면 초평면이 만드는 최대 마진이 달라질 것이다."
   ]
  },
  {
   "cell_type": "code",
   "execution_count": 58,
   "metadata": {},
   "outputs": [
    {
     "data": {
      "text/plain": [
       "array([[-0.5810659 ,  0.42196824, -0.80497402, -0.50860702],\n",
       "       [-1.52079513, -1.67737625, -1.08231219, -0.86427627],\n",
       "       [-0.89430898, -1.4674418 ,  0.30437864,  0.38056609],\n",
       "       [-0.5810659 , -1.25750735,  0.09637501,  0.55840072]])"
      ]
     },
     "execution_count": 58,
     "metadata": {},
     "output_type": "execute_result"
    }
   ],
   "source": [
    "# 서포트 벡터 확인하는 법 : support_vectors_\n",
    "\n",
    "model.support_vectors_"
   ]
  },
  {
   "cell_type": "code",
   "execution_count": 59,
   "metadata": {},
   "outputs": [
    {
     "data": {
      "text/plain": [
       "array([23, 41, 57, 98])"
      ]
     },
     "execution_count": 59,
     "metadata": {},
     "output_type": "execute_result"
    }
   ],
   "source": [
    "# 서포트벡터의 인덱스 확인하는 법 : support_\n",
    "\n",
    "model.support_"
   ]
  },
  {
   "cell_type": "code",
   "execution_count": 60,
   "metadata": {},
   "outputs": [
    {
     "data": {
      "text/plain": [
       "array([2, 2])"
      ]
     },
     "execution_count": 60,
     "metadata": {},
     "output_type": "execute_result"
    }
   ],
   "source": [
    "# 각 클래스에 속한 서포트 벡터의 개수 확인하는 법 : n_support_\n",
    "\n",
    "model.n_support_"
   ]
  },
  {
   "cell_type": "markdown",
   "metadata": {},
   "source": [
    "## 불균형한 클래스 다루기\n",
    "### class_weight 매개변수를 사용하여 소수 클래스를 잘못 분류했을 때 패널티 증가시키기"
   ]
  },
  {
   "cell_type": "code",
   "execution_count": 61,
   "metadata": {},
   "outputs": [],
   "source": [
    "from sklearn.svm import SVC\n",
    "from sklearn import datasets\n",
    "from sklearn.preprocessing import StandardScaler\n",
    "import numpy as np"
   ]
  },
  {
   "cell_type": "code",
   "execution_count": 62,
   "metadata": {},
   "outputs": [],
   "source": [
    "# 데이터를 로드하고 두 개의 클래스만 선택하기\n",
    "\n",
    "iris=datasets.load_iris()\n",
    "X=iris.data[:100,:]\n",
    "y=iris.target[:100]"
   ]
  },
  {
   "cell_type": "code",
   "execution_count": 63,
   "metadata": {},
   "outputs": [],
   "source": [
    "# 처음 40개 샘플을 제거하여 불균형한 클래스 만들기\n",
    "\n",
    "X=X[40:,:]\n",
    "y=y[40:]"
   ]
  },
  {
   "cell_type": "code",
   "execution_count": 64,
   "metadata": {},
   "outputs": [],
   "source": [
    "# 타깃 벡터에서 0 이 아닌 클래스는 모두 1로 만들기\n",
    "\n",
    "y=np.where((y!=0),1,0)"
   ]
  },
  {
   "cell_type": "code",
   "execution_count": 65,
   "metadata": {},
   "outputs": [],
   "source": [
    "# 특성 표준화하기\n",
    "\n",
    "scaler=StandardScaler()\n",
    "X_std=scaler.fit_transform(X)"
   ]
  },
  {
   "cell_type": "code",
   "execution_count": 66,
   "metadata": {},
   "outputs": [],
   "source": [
    "# 서포트 벡터 분류기 생성\n",
    "\n",
    "svc=SVC(kernel='linear', class_weight='balanced', C=1.0, random_state=0)"
   ]
  },
  {
   "cell_type": "code",
   "execution_count": 67,
   "metadata": {},
   "outputs": [],
   "source": [
    "# 분류기 훈련\n",
    "\n",
    "model=svc.fit(X_std, y)"
   ]
  },
  {
   "cell_type": "markdown",
   "metadata": {},
   "source": [
    "서포트 벡터 머신에서 C는 샘플의 분류 오차에 대한 패널티를 결정하는 하이퍼파라미터 이다.\n",
    "\n",
    "서포트 벡터 머신에서 불균형한 클래스를 다루는 한 가지 방법은 클래스별로 C를 가중하는 것이다.\n",
    "\n",
    "사이킷런에서 SVC를 사용할 때 class_weight='balanced' 로 지정하여 자동으로 C값을 지정할 수 있다."
   ]
  }
 ],
 "metadata": {
  "kernelspec": {
   "display_name": "Python 3",
   "language": "python",
   "name": "python3"
  },
  "language_info": {
   "codemirror_mode": {
    "name": "ipython",
    "version": 3
   },
   "file_extension": ".py",
   "mimetype": "text/x-python",
   "name": "python",
   "nbconvert_exporter": "python",
   "pygments_lexer": "ipython3",
   "version": "3.7.6"
  }
 },
 "nbformat": 4,
 "nbformat_minor": 4
}
