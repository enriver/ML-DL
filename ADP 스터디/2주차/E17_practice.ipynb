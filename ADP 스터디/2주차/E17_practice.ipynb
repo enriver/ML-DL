{
 "cells": [
  {
   "cell_type": "code",
   "execution_count": 1,
   "metadata": {},
   "outputs": [],
   "source": [
    "import pandas as pd\n",
    "import numpy as np\n",
    "import seaborn as sns\n",
    "import matplotlib.pyplot as plt\n",
    "\n",
    "%matplotlib inline"
   ]
  },
  {
   "cell_type": "markdown",
   "metadata": {},
   "source": [
    "# Housing Data"
   ]
  },
  {
   "cell_type": "markdown",
   "metadata": {},
   "source": [
    "#### Data Load"
   ]
  },
  {
   "cell_type": "code",
   "execution_count": 90,
   "metadata": {},
   "outputs": [
    {
     "data": {
      "text/plain": [
       "(100, 7)"
      ]
     },
     "execution_count": 90,
     "metadata": {},
     "output_type": "execute_result"
    }
   ],
   "source": [
    "house=pd.read_excel('./data/price.xlsx')\n",
    "\n",
    "house.shape"
   ]
  },
  {
   "cell_type": "code",
   "execution_count": 91,
   "metadata": {},
   "outputs": [
    {
     "data": {
      "text/html": [
       "<div>\n",
       "<style scoped>\n",
       "    .dataframe tbody tr th:only-of-type {\n",
       "        vertical-align: middle;\n",
       "    }\n",
       "\n",
       "    .dataframe tbody tr th {\n",
       "        vertical-align: top;\n",
       "    }\n",
       "\n",
       "    .dataframe thead th {\n",
       "        text-align: right;\n",
       "    }\n",
       "</style>\n",
       "<table border=\"1\" class=\"dataframe\">\n",
       "  <thead>\n",
       "    <tr style=\"text-align: right;\">\n",
       "      <th></th>\n",
       "      <th></th>\n",
       "      <th>price</th>\n",
       "      <th>rooms</th>\n",
       "      <th>room_size</th>\n",
       "      <th>balcony</th>\n",
       "      <th>bathroom</th>\n",
       "      <th>state</th>\n",
       "    </tr>\n",
       "  </thead>\n",
       "  <tbody>\n",
       "    <tr>\n",
       "      <th>0</th>\n",
       "      <td>1</td>\n",
       "      <td>1281493</td>\n",
       "      <td>1</td>\n",
       "      <td>10824</td>\n",
       "      <td>2</td>\n",
       "      <td>0</td>\n",
       "      <td>new</td>\n",
       "    </tr>\n",
       "    <tr>\n",
       "      <th>1</th>\n",
       "      <td>2</td>\n",
       "      <td>5142487</td>\n",
       "      <td>3</td>\n",
       "      <td>6633</td>\n",
       "      <td>1</td>\n",
       "      <td>1</td>\n",
       "      <td>new</td>\n",
       "    </tr>\n",
       "    <tr>\n",
       "      <th>2</th>\n",
       "      <td>3</td>\n",
       "      <td>5348138</td>\n",
       "      <td>4</td>\n",
       "      <td>31737</td>\n",
       "      <td>1</td>\n",
       "      <td>2</td>\n",
       "      <td>good</td>\n",
       "    </tr>\n",
       "    <tr>\n",
       "      <th>3</th>\n",
       "      <td>4</td>\n",
       "      <td>411926</td>\n",
       "      <td>4</td>\n",
       "      <td>12451</td>\n",
       "      <td>2</td>\n",
       "      <td>2</td>\n",
       "      <td>good</td>\n",
       "    </tr>\n",
       "    <tr>\n",
       "      <th>4</th>\n",
       "      <td>5</td>\n",
       "      <td>9207012</td>\n",
       "      <td>5</td>\n",
       "      <td>26703</td>\n",
       "      <td>2</td>\n",
       "      <td>2</td>\n",
       "      <td>new</td>\n",
       "    </tr>\n",
       "  </tbody>\n",
       "</table>\n",
       "</div>"
      ],
      "text/plain": [
       "        price  rooms  room_size  balcony  bathroom state\n",
       "0  1  1281493      1      10824        2         0   new\n",
       "1  2  5142487      3       6633        1         1   new\n",
       "2  3  5348138      4      31737        1         2  good\n",
       "3  4   411926      4      12451        2         2  good\n",
       "4  5  9207012      5      26703        2         2   new"
      ]
     },
     "execution_count": 91,
     "metadata": {},
     "output_type": "execute_result"
    }
   ],
   "source": [
    "house.head()"
   ]
  },
  {
   "cell_type": "markdown",
   "metadata": {},
   "source": [
    "### 1-1 EDA 및 데이터 전처리 (시각화 필수)"
   ]
  },
  {
   "cell_type": "code",
   "execution_count": 92,
   "metadata": {},
   "outputs": [
    {
     "name": "stdout",
     "output_type": "stream",
     "text": [
      "<class 'pandas.core.frame.DataFrame'>\n",
      "RangeIndex: 100 entries, 0 to 99\n",
      "Data columns (total 7 columns):\n",
      " #   Column     Non-Null Count  Dtype \n",
      "---  ------     --------------  ----- \n",
      " 0              100 non-null    int64 \n",
      " 1   price      100 non-null    int64 \n",
      " 2   rooms      100 non-null    int64 \n",
      " 3   room_size  100 non-null    int64 \n",
      " 4   balcony    100 non-null    int64 \n",
      " 5   bathroom   100 non-null    int64 \n",
      " 6   state      100 non-null    object\n",
      "dtypes: int64(6), object(1)\n",
      "memory usage: 5.6+ KB\n"
     ]
    }
   ],
   "source": [
    "house.info()"
   ]
  },
  {
   "cell_type": "code",
   "execution_count": 93,
   "metadata": {},
   "outputs": [
    {
     "data": {
      "text/plain": [
       "                int64\n",
       "price           int64\n",
       "rooms        category\n",
       "room_size       int64\n",
       "balcony      category\n",
       "bathroom     category\n",
       "state        category\n",
       "dtype: object"
      ]
     },
     "execution_count": 93,
     "metadata": {},
     "output_type": "execute_result"
    }
   ],
   "source": [
    "catvar=['rooms','balcony','bathroom','state']\n",
    "\n",
    "for var in catvar:\n",
    "    house[var]=house[var].astype('category')\n",
    "\n",
    "house.dtypes"
   ]
  },
  {
   "cell_type": "code",
   "execution_count": 94,
   "metadata": {},
   "outputs": [
    {
     "data": {
      "text/html": [
       "<div>\n",
       "<style scoped>\n",
       "    .dataframe tbody tr th:only-of-type {\n",
       "        vertical-align: middle;\n",
       "    }\n",
       "\n",
       "    .dataframe tbody tr th {\n",
       "        vertical-align: top;\n",
       "    }\n",
       "\n",
       "    .dataframe thead th {\n",
       "        text-align: right;\n",
       "    }\n",
       "</style>\n",
       "<table border=\"1\" class=\"dataframe\">\n",
       "  <thead>\n",
       "    <tr style=\"text-align: right;\">\n",
       "      <th></th>\n",
       "      <th>price</th>\n",
       "      <th>rooms</th>\n",
       "      <th>room_size</th>\n",
       "      <th>balcony</th>\n",
       "      <th>bathroom</th>\n",
       "      <th>state</th>\n",
       "    </tr>\n",
       "  </thead>\n",
       "  <tbody>\n",
       "    <tr>\n",
       "      <th>0</th>\n",
       "      <td>1281493</td>\n",
       "      <td>1</td>\n",
       "      <td>10824</td>\n",
       "      <td>2</td>\n",
       "      <td>0</td>\n",
       "      <td>new</td>\n",
       "    </tr>\n",
       "    <tr>\n",
       "      <th>1</th>\n",
       "      <td>5142487</td>\n",
       "      <td>3</td>\n",
       "      <td>6633</td>\n",
       "      <td>1</td>\n",
       "      <td>1</td>\n",
       "      <td>new</td>\n",
       "    </tr>\n",
       "    <tr>\n",
       "      <th>2</th>\n",
       "      <td>5348138</td>\n",
       "      <td>4</td>\n",
       "      <td>31737</td>\n",
       "      <td>1</td>\n",
       "      <td>2</td>\n",
       "      <td>good</td>\n",
       "    </tr>\n",
       "    <tr>\n",
       "      <th>3</th>\n",
       "      <td>411926</td>\n",
       "      <td>4</td>\n",
       "      <td>12451</td>\n",
       "      <td>2</td>\n",
       "      <td>2</td>\n",
       "      <td>good</td>\n",
       "    </tr>\n",
       "    <tr>\n",
       "      <th>4</th>\n",
       "      <td>9207012</td>\n",
       "      <td>5</td>\n",
       "      <td>26703</td>\n",
       "      <td>2</td>\n",
       "      <td>2</td>\n",
       "      <td>new</td>\n",
       "    </tr>\n",
       "  </tbody>\n",
       "</table>\n",
       "</div>"
      ],
      "text/plain": [
       "     price rooms  room_size balcony bathroom state\n",
       "0  1281493     1      10824       2        0   new\n",
       "1  5142487     3       6633       1        1   new\n",
       "2  5348138     4      31737       1        2  good\n",
       "3   411926     4      12451       2        2  good\n",
       "4  9207012     5      26703       2        2   new"
      ]
     },
     "execution_count": 94,
     "metadata": {},
     "output_type": "execute_result"
    }
   ],
   "source": [
    "house=house.drop(house.columns[0],axis=1)\n",
    "house.head()"
   ]
  },
  {
   "cell_type": "code",
   "execution_count": 95,
   "metadata": {},
   "outputs": [
    {
     "data": {
      "text/plain": [
       "price        0.0\n",
       "rooms        0.0\n",
       "room_size    0.0\n",
       "balcony      0.0\n",
       "bathroom     0.0\n",
       "state        0.0\n",
       "dtype: float64"
      ]
     },
     "execution_count": 95,
     "metadata": {},
     "output_type": "execute_result"
    }
   ],
   "source": [
    "house.isnull().sum()/len(house)"
   ]
  },
  {
   "cell_type": "code",
   "execution_count": 96,
   "metadata": {},
   "outputs": [
    {
     "data": {
      "text/plain": [
       "<matplotlib.axes._subplots.AxesSubplot at 0x19a05f397c8>"
      ]
     },
     "execution_count": 96,
     "metadata": {},
     "output_type": "execute_result"
    },
    {
     "data": {
      "image/png": "[encoded data removed]",
      "text/plain": [
       "<Figure size 360x360 with 2 Axes>"
      ]
     },
     "metadata": {
      "needs_background": "light"
     },
     "output_type": "display_data"
    }
   ],
   "source": [
    "plt.figure(figsize=(5,5))\n",
    "sns.heatmap(house.isnull())"
   ]
  },
  {
   "cell_type": "code",
   "execution_count": 97,
   "metadata": {},
   "outputs": [
    {
     "data": {
      "text/html": [
       "<div>\n",
       "<style scoped>\n",
       "    .dataframe tbody tr th:only-of-type {\n",
       "        vertical-align: middle;\n",
       "    }\n",
       "\n",
       "    .dataframe tbody tr th {\n",
       "        vertical-align: top;\n",
       "    }\n",
       "\n",
       "    .dataframe thead th {\n",
       "        text-align: right;\n",
       "    }\n",
       "</style>\n",
       "<table border=\"1\" class=\"dataframe\">\n",
       "  <thead>\n",
       "    <tr style=\"text-align: right;\">\n",
       "      <th></th>\n",
       "      <th>price</th>\n",
       "      <th>room_size</th>\n",
       "    </tr>\n",
       "  </thead>\n",
       "  <tbody>\n",
       "    <tr>\n",
       "      <th>count</th>\n",
       "      <td>1.000000e+02</td>\n",
       "      <td>100.000000</td>\n",
       "    </tr>\n",
       "    <tr>\n",
       "      <th>mean</th>\n",
       "      <td>5.665433e+06</td>\n",
       "      <td>17019.780000</td>\n",
       "    </tr>\n",
       "    <tr>\n",
       "      <th>std</th>\n",
       "      <td>2.914561e+06</td>\n",
       "      <td>9135.300103</td>\n",
       "    </tr>\n",
       "    <tr>\n",
       "      <th>min</th>\n",
       "      <td>4.119260e+05</td>\n",
       "      <td>2356.000000</td>\n",
       "    </tr>\n",
       "    <tr>\n",
       "      <th>25%</th>\n",
       "      <td>3.271225e+06</td>\n",
       "      <td>9249.000000</td>\n",
       "    </tr>\n",
       "    <tr>\n",
       "      <th>50%</th>\n",
       "      <td>5.647677e+06</td>\n",
       "      <td>15664.000000</td>\n",
       "    </tr>\n",
       "    <tr>\n",
       "      <th>75%</th>\n",
       "      <td>8.206102e+06</td>\n",
       "      <td>24885.750000</td>\n",
       "    </tr>\n",
       "    <tr>\n",
       "      <th>max</th>\n",
       "      <td>9.981755e+06</td>\n",
       "      <td>32210.000000</td>\n",
       "    </tr>\n",
       "  </tbody>\n",
       "</table>\n",
       "</div>"
      ],
      "text/plain": [
       "              price     room_size\n",
       "count  1.000000e+02    100.000000\n",
       "mean   5.665433e+06  17019.780000\n",
       "std    2.914561e+06   9135.300103\n",
       "min    4.119260e+05   2356.000000\n",
       "25%    3.271225e+06   9249.000000\n",
       "50%    5.647677e+06  15664.000000\n",
       "75%    8.206102e+06  24885.750000\n",
       "max    9.981755e+06  32210.000000"
      ]
     },
     "execution_count": 97,
     "metadata": {},
     "output_type": "execute_result"
    }
   ],
   "source": [
    "house[['price','room_size']].describe()"
   ]
  },
  {
   "cell_type": "code",
   "execution_count": 98,
   "metadata": {},
   "outputs": [
    {
     "data": {
      "text/plain": [
       "<matplotlib.axes._subplots.AxesSubplot at 0x19a0623b788>"
      ]
     },
     "execution_count": 98,
     "metadata": {},
     "output_type": "execute_result"
    },
    {
     "data": {
      "image/png": "[encoded data removed]",
      "text/plain": [
       "<Figure size 864x720 with 4 Axes>"
      ]
     },
     "metadata": {
      "needs_background": "light"
     },
     "output_type": "display_data"
    }
   ],
   "source": [
    "figure,axes=plt.subplots(ncols=2,nrows=2)\n",
    "figure.set_size_inches(12,10)\n",
    "\n",
    "sns.distplot(house['price'], ax=axes[0][0])\n",
    "sns.distplot(house['room_size'], ax=axes[0][1])\n",
    "sns.boxplot(house['price'],ax=axes[1][0])\n",
    "sns.boxplot(house['price'],ax=axes[1][1])"
   ]
  },
  {
   "cell_type": "code",
   "execution_count": 99,
   "metadata": {},
   "outputs": [
    {
     "name": "stdout",
     "output_type": "stream",
     "text": [
      "2    27\n",
      "4    20\n",
      "1    20\n",
      "3    17\n",
      "5    16\n",
      "Name: rooms, dtype: int64\n"
     ]
    },
    {
     "data": {
      "text/plain": [
       "<matplotlib.axes._subplots.AxesSubplot at 0x19a06318c08>"
      ]
     },
     "execution_count": 99,
     "metadata": {},
     "output_type": "execute_result"
    },
    {
     "data": {
      "image/png": "[encoded data removed]",
      "text/plain": [
       "<Figure size 432x288 with 1 Axes>"
      ]
     },
     "metadata": {
      "needs_background": "light"
     },
     "output_type": "display_data"
    }
   ],
   "source": [
    "print(house['rooms'].value_counts())\n",
    "sns.countplot(data=house, x='rooms')"
   ]
  },
  {
   "cell_type": "code",
   "execution_count": 100,
   "metadata": {},
   "outputs": [
    {
     "name": "stdout",
     "output_type": "stream",
     "text": [
      "2    38\n",
      "1    36\n",
      "0    26\n",
      "Name: balcony, dtype: int64\n"
     ]
    },
    {
     "data": {
      "text/plain": [
       "<matplotlib.axes._subplots.AxesSubplot at 0x19a06373248>"
      ]
     },
     "execution_count": 100,
     "metadata": {},
     "output_type": "execute_result"
    },
    {
     "data": {
      "image/png": "[encoded data removed]",
      "text/plain": [
       "<Figure size 432x288 with 1 Axes>"
      ]
     },
     "metadata": {
      "needs_background": "light"
     },
     "output_type": "display_data"
    }
   ],
   "source": [
    "print(house['balcony'].value_counts())\n",
    "sns.countplot(data=house, x='balcony')"
   ]
  },
  {
   "cell_type": "code",
   "execution_count": 101,
   "metadata": {},
   "outputs": [
    {
     "name": "stdout",
     "output_type": "stream",
     "text": [
      "2    34\n",
      "1    33\n",
      "0    33\n",
      "Name: bathroom, dtype: int64\n"
     ]
    },
    {
     "data": {
      "text/plain": [
       "<matplotlib.axes._subplots.AxesSubplot at 0x19a063d3348>"
      ]
     },
     "execution_count": 101,
     "metadata": {},
     "output_type": "execute_result"
    },
    {
     "data": {
      "image/png": "[encoded data removed]",
      "text/plain": [
       "<Figure size 432x288 with 1 Axes>"
      ]
     },
     "metadata": {
      "needs_background": "light"
     },
     "output_type": "display_data"
    }
   ],
   "source": [
    "print(house['bathroom'].value_counts())\n",
    "sns.countplot(data=house, x='bathroom')"
   ]
  },
  {
   "cell_type": "code",
   "execution_count": 102,
   "metadata": {},
   "outputs": [
    {
     "name": "stdout",
     "output_type": "stream",
     "text": [
      "new     61\n",
      "good    23\n",
      "old     16\n",
      "Name: state, dtype: int64\n"
     ]
    },
    {
     "data": {
      "text/plain": [
       "<matplotlib.axes._subplots.AxesSubplot at 0x19a0642a7c8>"
      ]
     },
     "execution_count": 102,
     "metadata": {},
     "output_type": "execute_result"
    },
    {
     "data": {
      "image/png": "[encoded data removed]",
      "text/plain": [
       "<Figure size 432x288 with 1 Axes>"
      ]
     },
     "metadata": {
      "needs_background": "light"
     },
     "output_type": "display_data"
    }
   ],
   "source": [
    "print(house['state'].value_counts())\n",
    "sns.countplot(data=house, x='state')"
   ]
  },
  {
   "cell_type": "code",
   "execution_count": 103,
   "metadata": {},
   "outputs": [
    {
     "data": {
      "text/html": [
       "<div>\n",
       "<style scoped>\n",
       "    .dataframe tbody tr th:only-of-type {\n",
       "        vertical-align: middle;\n",
       "    }\n",
       "\n",
       "    .dataframe tbody tr th {\n",
       "        vertical-align: top;\n",
       "    }\n",
       "\n",
       "    .dataframe thead th {\n",
       "        text-align: right;\n",
       "    }\n",
       "</style>\n",
       "<table border=\"1\" class=\"dataframe\">\n",
       "  <thead>\n",
       "    <tr style=\"text-align: right;\">\n",
       "      <th></th>\n",
       "      <th>price</th>\n",
       "      <th>room_size</th>\n",
       "      <th>rooms_2</th>\n",
       "      <th>rooms_3</th>\n",
       "      <th>rooms_4</th>\n",
       "      <th>rooms_5</th>\n",
       "      <th>balcony_1</th>\n",
       "      <th>balcony_2</th>\n",
       "      <th>bathroom_1</th>\n",
       "      <th>bathroom_2</th>\n",
       "      <th>state_new</th>\n",
       "      <th>state_old</th>\n",
       "    </tr>\n",
       "  </thead>\n",
       "  <tbody>\n",
       "    <tr>\n",
       "      <th>0</th>\n",
       "      <td>1281493</td>\n",
       "      <td>10824</td>\n",
       "      <td>0</td>\n",
       "      <td>0</td>\n",
       "      <td>0</td>\n",
       "      <td>0</td>\n",
       "      <td>0</td>\n",
       "      <td>1</td>\n",
       "      <td>0</td>\n",
       "      <td>0</td>\n",
       "      <td>1</td>\n",
       "      <td>0</td>\n",
       "    </tr>\n",
       "    <tr>\n",
       "      <th>1</th>\n",
       "      <td>5142487</td>\n",
       "      <td>6633</td>\n",
       "      <td>0</td>\n",
       "      <td>1</td>\n",
       "      <td>0</td>\n",
       "      <td>0</td>\n",
       "      <td>1</td>\n",
       "      <td>0</td>\n",
       "      <td>1</td>\n",
       "      <td>0</td>\n",
       "      <td>1</td>\n",
       "      <td>0</td>\n",
       "    </tr>\n",
       "    <tr>\n",
       "      <th>2</th>\n",
       "      <td>5348138</td>\n",
       "      <td>31737</td>\n",
       "      <td>0</td>\n",
       "      <td>0</td>\n",
       "      <td>1</td>\n",
       "      <td>0</td>\n",
       "      <td>1</td>\n",
       "      <td>0</td>\n",
       "      <td>0</td>\n",
       "      <td>1</td>\n",
       "      <td>0</td>\n",
       "      <td>0</td>\n",
       "    </tr>\n",
       "    <tr>\n",
       "      <th>3</th>\n",
       "      <td>411926</td>\n",
       "      <td>12451</td>\n",
       "      <td>0</td>\n",
       "      <td>0</td>\n",
       "      <td>1</td>\n",
       "      <td>0</td>\n",
       "      <td>0</td>\n",
       "      <td>1</td>\n",
       "      <td>0</td>\n",
       "      <td>1</td>\n",
       "      <td>0</td>\n",
       "      <td>0</td>\n",
       "    </tr>\n",
       "    <tr>\n",
       "      <th>4</th>\n",
       "      <td>9207012</td>\n",
       "      <td>26703</td>\n",
       "      <td>0</td>\n",
       "      <td>0</td>\n",
       "      <td>0</td>\n",
       "      <td>1</td>\n",
       "      <td>0</td>\n",
       "      <td>1</td>\n",
       "      <td>0</td>\n",
       "      <td>1</td>\n",
       "      <td>1</td>\n",
       "      <td>0</td>\n",
       "    </tr>\n",
       "  </tbody>\n",
       "</table>\n",
       "</div>"
      ],
      "text/plain": [
       "     price  room_size  rooms_2  rooms_3  rooms_4  rooms_5  balcony_1  \\\n",
       "0  1281493      10824        0        0        0        0          0   \n",
       "1  5142487       6633        0        1        0        0          1   \n",
       "2  5348138      31737        0        0        1        0          1   \n",
       "3   411926      12451        0        0        1        0          0   \n",
       "4  9207012      26703        0        0        0        1          0   \n",
       "\n",
       "   balcony_2  bathroom_1  bathroom_2  state_new  state_old  \n",
       "0          1           0           0          1          0  \n",
       "1          0           1           0          1          0  \n",
       "2          0           0           1          0          0  \n",
       "3          1           0           1          0          0  \n",
       "4          1           0           1          1          0  "
      ]
     },
     "execution_count": 103,
     "metadata": {},
     "output_type": "execute_result"
    }
   ],
   "source": [
    "for var in catvar:\n",
    "    house=house.merge(pd.get_dummies(house[var],prefix=var,drop_first=True),left_index=True, right_index=True)\n",
    "    house=house.drop(var, axis=1)\n",
    "    \n",
    "house.head()"
   ]
  },
  {
   "cell_type": "code",
   "execution_count": 104,
   "metadata": {},
   "outputs": [
    {
     "data": {
      "text/plain": [
       "(100, 12)"
      ]
     },
     "execution_count": 104,
     "metadata": {},
     "output_type": "execute_result"
    }
   ],
   "source": [
    "house.shape"
   ]
  },
  {
   "cell_type": "code",
   "execution_count": 105,
   "metadata": {},
   "outputs": [
    {
     "data": {
      "text/plain": [
       "<matplotlib.axes._subplots.AxesSubplot at 0x19a064a64c8>"
      ]
     },
     "execution_count": 105,
     "metadata": {},
     "output_type": "execute_result"
    },
    {
     "data": {
      "image/png": "[encoded data removed]",
      "text/plain": [
       "<Figure size 864x720 with 2 Axes>"
      ]
     },
     "metadata": {
      "needs_background": "light"
     },
     "output_type": "display_data"
    }
   ],
   "source": [
    "plt.figure(figsize=(12,10))\n",
    "sns.heatmap(house.corr(), annot=True)"
   ]
  },
  {
   "cell_type": "markdown",
   "metadata": {},
   "source": [
    "### 1-2 Train/Valid/Test set 데이터 분할하고 시각화"
   ]
  },
  {
   "cell_type": "code",
   "execution_count": 110,
   "metadata": {},
   "outputs": [
    {
     "name": "stdout",
     "output_type": "stream",
     "text": [
      "x: (100, 11)\n",
      "y: (100,)\n"
     ]
    }
   ],
   "source": [
    "from sklearn.preprocessing import StandardScaler\n",
    "from sklearn.model_selection import train_test_split\n",
    "\n",
    "df_y=house['price']\n",
    "df_x=house.drop('price', axis=1)\n",
    "\n",
    "scaler=StandardScaler()\n",
    "df_x_std=scaler.fit_transform(df_x)\n",
    "\n",
    "print('x:',df_x_std.shape)\n",
    "print('y:',df_y.shape)"
   ]
  },
  {
   "cell_type": "code",
   "execution_count": 111,
   "metadata": {},
   "outputs": [
    {
     "name": "stdout",
     "output_type": "stream",
     "text": [
      "x_train :  50\n",
      "x_valid :  30\n",
      "x_test :  20\n"
     ]
    }
   ],
   "source": [
    "x,x_test,y,y_test=train_test_split(df_x_std,df_y, test_size=0.2, random_state=0)\n",
    "x_train,x_val,y_train,y_val=train_test_split(x,y,test_size=0.375, random_state=0)\n",
    "\n",
    "print('x_train : ',len(x_train))\n",
    "print('x_valid : ',len(x_val))\n",
    "print('x_test : ',len(x_test))"
   ]
  },
  {
   "cell_type": "code",
   "execution_count": 112,
   "metadata": {},
   "outputs": [
    {
     "data": {
      "text/plain": [
       "train    50\n",
       "valid    30\n",
       "test     20\n",
       "dtype: int64"
      ]
     },
     "execution_count": 112,
     "metadata": {},
     "output_type": "execute_result"
    }
   ],
   "source": [
    "df=pd.Series({'train':len(x_train), 'valid':len(x_val), 'test':len(x_test)})\n",
    "df"
   ]
  },
  {
   "cell_type": "code",
   "execution_count": 113,
   "metadata": {},
   "outputs": [
    {
     "data": {
      "text/plain": [
       "([<matplotlib.patches.Wedge at 0x19a068bb788>,\n",
       "  <matplotlib.patches.Wedge at 0x19a0682e548>,\n",
       "  <matplotlib.patches.Wedge at 0x19a0684dd48>],\n",
       " [Text(0.7070663706551934, 0.8426488874308758, 'train'),\n",
       "  Text(-0.07673216221396004, -1.097320452412134, 'valid'),\n",
       "  Text(-1.0973204488200412, 0.0767322135832378, 'test')],\n",
       " [Text(0.3856725658119236, 0.4596266658713868, '50.0%'),\n",
       "  Text(-0.04185390666216001, -0.5985384285884368, '30.0%'),\n",
       "  Text(-0.5985384266291133, 0.04185393468176606, '20.0%')])"
      ]
     },
     "execution_count": 113,
     "metadata": {},
     "output_type": "execute_result"
    },
    {
     "data": {
      "image/png": "[encoded data removed]",
      "text/plain": [
       "<Figure size 432x288 with 1 Axes>"
      ]
     },
     "metadata": {},
     "output_type": "display_data"
    }
   ],
   "source": [
    "plt.pie(df, labels=df.index, startangle=140, counterclock=False,autopct='%.1f%%')"
   ]
  },
  {
   "cell_type": "markdown",
   "metadata": {},
   "source": [
    "### 1-3 교호작용항까지 고려한 회귀분석 수행 및 변수 선택 과정"
   ]
  },
  {
   "cell_type": "code",
   "execution_count": 121,
   "metadata": {},
   "outputs": [],
   "source": [
    "from sklearn.preprocessing import PolynomialFeatures\n",
    "from sklearn.linear_model import LinearRegression\n",
    "from sklearn.metrics import mean_squared_error,mean_absolute_error,r2_score\n",
    "\n",
    "poly=PolynomialFeatures(degree=2, interaction_only=True).fit(x_train)\n",
    "\n",
    "reg=LinearRegression()\n",
    "reg.fit(poly.transform(x_train), y_train)\n",
    "\n",
    "y_pred=reg.predict(poly.transform(x_val))"
   ]
  },
  {
   "cell_type": "code",
   "execution_count": 125,
   "metadata": {},
   "outputs": [
    {
     "name": "stdout",
     "output_type": "stream",
     "text": [
      "MSE :  3.1003410139885225e+39\n",
      "MAE :  3.5243370717065044e+19\n",
      "R2 score :  -3.3670848859047826e+26\n"
     ]
    }
   ],
   "source": [
    "print('MSE : ',mean_squared_error(y_val,y_pred))\n",
    "print('MAE : ',mean_absolute_error(y_val,y_pred))\n",
    "print('R2 score : ',r2_score(y_val,y_pred))"
   ]
  },
  {
   "cell_type": "markdown",
   "metadata": {},
   "source": [
    "### 1-4 벌점, 앙상블을 포함해서 그 외 모형에 적합한 기계학습 모델을 3가지 생성하고 모델 최적화 (MSE, MAPE, R2 스코어 사용)"
   ]
  },
  {
   "cell_type": "code",
   "execution_count": null,
   "metadata": {},
   "outputs": [],
   "source": []
  },
  {
   "cell_type": "code",
   "execution_count": null,
   "metadata": {},
   "outputs": [],
   "source": []
  },
  {
   "cell_type": "code",
   "execution_count": null,
   "metadata": {},
   "outputs": [],
   "source": []
  },
  {
   "cell_type": "markdown",
   "metadata": {},
   "source": [
    "# Corona"
   ]
  },
  {
   "cell_type": "code",
   "execution_count": 2,
   "metadata": {},
   "outputs": [
    {
     "data": {
      "text/plain": [
       "(260, 6)"
      ]
     },
     "execution_count": 2,
     "metadata": {},
     "output_type": "execute_result"
    }
   ],
   "source": [
    "corona=pd.read_excel('./data/corona.xlsx',parse_dates=['date'])\n",
    "corona.shape"
   ]
  },
  {
   "cell_type": "code",
   "execution_count": 3,
   "metadata": {},
   "outputs": [
    {
     "data": {
      "text/html": [
       "<div>\n",
       "<style scoped>\n",
       "    .dataframe tbody tr th:only-of-type {\n",
       "        vertical-align: middle;\n",
       "    }\n",
       "\n",
       "    .dataframe tbody tr th {\n",
       "        vertical-align: top;\n",
       "    }\n",
       "\n",
       "    .dataframe thead th {\n",
       "        text-align: right;\n",
       "    }\n",
       "</style>\n",
       "<table border=\"1\" class=\"dataframe\">\n",
       "  <thead>\n",
       "    <tr style=\"text-align: right;\">\n",
       "      <th></th>\n",
       "      <th>country</th>\n",
       "      <th>date</th>\n",
       "      <th>confirmed</th>\n",
       "      <th>death</th>\n",
       "      <th>test</th>\n",
       "      <th>population</th>\n",
       "    </tr>\n",
       "  </thead>\n",
       "  <tbody>\n",
       "    <tr>\n",
       "      <th>0</th>\n",
       "      <td>Afghanistan</td>\n",
       "      <td>2020-01-01</td>\n",
       "      <td>70</td>\n",
       "      <td>18</td>\n",
       "      <td>35.0</td>\n",
       "      <td>542774</td>\n",
       "    </tr>\n",
       "    <tr>\n",
       "      <th>1</th>\n",
       "      <td>Afghanistan</td>\n",
       "      <td>2020-01-02</td>\n",
       "      <td>104</td>\n",
       "      <td>21</td>\n",
       "      <td>17.0</td>\n",
       "      <td>542774</td>\n",
       "    </tr>\n",
       "    <tr>\n",
       "      <th>2</th>\n",
       "      <td>Afghanistan</td>\n",
       "      <td>2020-01-03</td>\n",
       "      <td>172</td>\n",
       "      <td>47</td>\n",
       "      <td>34.0</td>\n",
       "      <td>542774</td>\n",
       "    </tr>\n",
       "    <tr>\n",
       "      <th>3</th>\n",
       "      <td>Afghanistan</td>\n",
       "      <td>2020-01-04</td>\n",
       "      <td>192</td>\n",
       "      <td>58</td>\n",
       "      <td>10.0</td>\n",
       "      <td>542774</td>\n",
       "    </tr>\n",
       "    <tr>\n",
       "      <th>4</th>\n",
       "      <td>Afghanistan</td>\n",
       "      <td>2020-01-05</td>\n",
       "      <td>262</td>\n",
       "      <td>62</td>\n",
       "      <td>35.0</td>\n",
       "      <td>542774</td>\n",
       "    </tr>\n",
       "  </tbody>\n",
       "</table>\n",
       "</div>"
      ],
      "text/plain": [
       "       country       date  confirmed  death  test  population\n",
       "0  Afghanistan 2020-01-01         70     18  35.0      542774\n",
       "1  Afghanistan 2020-01-02        104     21  17.0      542774\n",
       "2  Afghanistan 2020-01-03        172     47  34.0      542774\n",
       "3  Afghanistan 2020-01-04        192     58  10.0      542774\n",
       "4  Afghanistan 2020-01-05        262     62  35.0      542774"
      ]
     },
     "execution_count": 3,
     "metadata": {},
     "output_type": "execute_result"
    }
   ],
   "source": [
    "corona.head()"
   ]
  },
  {
   "cell_type": "code",
   "execution_count": 4,
   "metadata": {},
   "outputs": [
    {
     "name": "stdout",
     "output_type": "stream",
     "text": [
      "<class 'pandas.core.frame.DataFrame'>\n",
      "RangeIndex: 260 entries, 0 to 259\n",
      "Data columns (total 6 columns):\n",
      " #   Column      Non-Null Count  Dtype         \n",
      "---  ------      --------------  -----         \n",
      " 0   country     260 non-null    object        \n",
      " 1   date        260 non-null    datetime64[ns]\n",
      " 2   confirmed   260 non-null    int64         \n",
      " 3   death       260 non-null    int64         \n",
      " 4   test        260 non-null    float64       \n",
      " 5   population  260 non-null    int64         \n",
      "dtypes: datetime64[ns](1), float64(1), int64(3), object(1)\n",
      "memory usage: 12.3+ KB\n"
     ]
    }
   ],
   "source": [
    "corona.info()"
   ]
  },
  {
   "cell_type": "code",
   "execution_count": 5,
   "metadata": {},
   "outputs": [
    {
     "data": {
      "text/plain": [
       "country       0.0\n",
       "date          0.0\n",
       "confirmed     0.0\n",
       "death         0.0\n",
       "test          0.0\n",
       "population    0.0\n",
       "dtype: float64"
      ]
     },
     "execution_count": 5,
     "metadata": {},
     "output_type": "execute_result"
    }
   ],
   "source": [
    "corona.isnull().sum()/len(corona)"
   ]
  },
  {
   "cell_type": "code",
   "execution_count": 6,
   "metadata": {},
   "outputs": [
    {
     "data": {
      "text/html": [
       "<div>\n",
       "<style scoped>\n",
       "    .dataframe tbody tr th:only-of-type {\n",
       "        vertical-align: middle;\n",
       "    }\n",
       "\n",
       "    .dataframe tbody tr th {\n",
       "        vertical-align: top;\n",
       "    }\n",
       "\n",
       "    .dataframe thead th {\n",
       "        text-align: right;\n",
       "    }\n",
       "</style>\n",
       "<table border=\"1\" class=\"dataframe\">\n",
       "  <thead>\n",
       "    <tr style=\"text-align: right;\">\n",
       "      <th></th>\n",
       "      <th>confirmed</th>\n",
       "      <th>death</th>\n",
       "      <th>test</th>\n",
       "      <th>population</th>\n",
       "    </tr>\n",
       "  </thead>\n",
       "  <tbody>\n",
       "    <tr>\n",
       "      <th>count</th>\n",
       "      <td>260.000000</td>\n",
       "      <td>260.000000</td>\n",
       "      <td>260.000000</td>\n",
       "      <td>2.600000e+02</td>\n",
       "    </tr>\n",
       "    <tr>\n",
       "      <th>mean</th>\n",
       "      <td>545.861538</td>\n",
       "      <td>157.061538</td>\n",
       "      <td>24.953846</td>\n",
       "      <td>1.510596e+06</td>\n",
       "    </tr>\n",
       "    <tr>\n",
       "      <th>std</th>\n",
       "      <td>298.968051</td>\n",
       "      <td>93.868038</td>\n",
       "      <td>13.945142</td>\n",
       "      <td>1.748081e+06</td>\n",
       "    </tr>\n",
       "    <tr>\n",
       "      <th>min</th>\n",
       "      <td>11.000000</td>\n",
       "      <td>3.000000</td>\n",
       "      <td>0.000000</td>\n",
       "      <td>2.019580e+05</td>\n",
       "    </tr>\n",
       "    <tr>\n",
       "      <th>25%</th>\n",
       "      <td>295.500000</td>\n",
       "      <td>78.250000</td>\n",
       "      <td>12.500000</td>\n",
       "      <td>4.697180e+05</td>\n",
       "    </tr>\n",
       "    <tr>\n",
       "      <th>50%</th>\n",
       "      <td>561.000000</td>\n",
       "      <td>148.000000</td>\n",
       "      <td>25.250000</td>\n",
       "      <td>6.023400e+05</td>\n",
       "    </tr>\n",
       "    <tr>\n",
       "      <th>75%</th>\n",
       "      <td>793.000000</td>\n",
       "      <td>228.250000</td>\n",
       "      <td>36.500000</td>\n",
       "      <td>1.752199e+06</td>\n",
       "    </tr>\n",
       "    <tr>\n",
       "      <th>max</th>\n",
       "      <td>1284.000000</td>\n",
       "      <td>375.000000</td>\n",
       "      <td>50.000000</td>\n",
       "      <td>6.674899e+06</td>\n",
       "    </tr>\n",
       "  </tbody>\n",
       "</table>\n",
       "</div>"
      ],
      "text/plain": [
       "         confirmed       death        test    population\n",
       "count   260.000000  260.000000  260.000000  2.600000e+02\n",
       "mean    545.861538  157.061538   24.953846  1.510596e+06\n",
       "std     298.968051   93.868038   13.945142  1.748081e+06\n",
       "min      11.000000    3.000000    0.000000  2.019580e+05\n",
       "25%     295.500000   78.250000   12.500000  4.697180e+05\n",
       "50%     561.000000  148.000000   25.250000  6.023400e+05\n",
       "75%     793.000000  228.250000   36.500000  1.752199e+06\n",
       "max    1284.000000  375.000000   50.000000  6.674899e+06"
      ]
     },
     "execution_count": 6,
     "metadata": {},
     "output_type": "execute_result"
    }
   ],
   "source": [
    "corona.describe()"
   ]
  },
  {
   "cell_type": "markdown",
   "metadata": {},
   "source": [
    "### 2-1 인구대비 확진자 비율이 가장 높은 5개 국가"
   ]
  },
  {
   "cell_type": "code",
   "execution_count": 7,
   "metadata": {},
   "outputs": [
    {
     "data": {
      "text/html": [
       "<div>\n",
       "<style scoped>\n",
       "    .dataframe tbody tr th:only-of-type {\n",
       "        vertical-align: middle;\n",
       "    }\n",
       "\n",
       "    .dataframe tbody tr th {\n",
       "        vertical-align: top;\n",
       "    }\n",
       "\n",
       "    .dataframe thead th {\n",
       "        text-align: right;\n",
       "    }\n",
       "</style>\n",
       "<table border=\"1\" class=\"dataframe\">\n",
       "  <thead>\n",
       "    <tr style=\"text-align: right;\">\n",
       "      <th></th>\n",
       "      <th>country</th>\n",
       "      <th>date</th>\n",
       "      <th>confirmed</th>\n",
       "      <th>death</th>\n",
       "      <th>test</th>\n",
       "      <th>population</th>\n",
       "      <th>confirmed_rate</th>\n",
       "    </tr>\n",
       "  </thead>\n",
       "  <tbody>\n",
       "    <tr>\n",
       "      <th>0</th>\n",
       "      <td>Afghanistan</td>\n",
       "      <td>2020-01-01</td>\n",
       "      <td>70</td>\n",
       "      <td>18</td>\n",
       "      <td>35.0</td>\n",
       "      <td>542774</td>\n",
       "      <td>0.000129</td>\n",
       "    </tr>\n",
       "    <tr>\n",
       "      <th>1</th>\n",
       "      <td>Afghanistan</td>\n",
       "      <td>2020-01-02</td>\n",
       "      <td>104</td>\n",
       "      <td>21</td>\n",
       "      <td>17.0</td>\n",
       "      <td>542774</td>\n",
       "      <td>0.000192</td>\n",
       "    </tr>\n",
       "    <tr>\n",
       "      <th>2</th>\n",
       "      <td>Afghanistan</td>\n",
       "      <td>2020-01-03</td>\n",
       "      <td>172</td>\n",
       "      <td>47</td>\n",
       "      <td>34.0</td>\n",
       "      <td>542774</td>\n",
       "      <td>0.000317</td>\n",
       "    </tr>\n",
       "    <tr>\n",
       "      <th>3</th>\n",
       "      <td>Afghanistan</td>\n",
       "      <td>2020-01-04</td>\n",
       "      <td>192</td>\n",
       "      <td>58</td>\n",
       "      <td>10.0</td>\n",
       "      <td>542774</td>\n",
       "      <td>0.000354</td>\n",
       "    </tr>\n",
       "    <tr>\n",
       "      <th>4</th>\n",
       "      <td>Afghanistan</td>\n",
       "      <td>2020-01-05</td>\n",
       "      <td>262</td>\n",
       "      <td>62</td>\n",
       "      <td>35.0</td>\n",
       "      <td>542774</td>\n",
       "      <td>0.000483</td>\n",
       "    </tr>\n",
       "  </tbody>\n",
       "</table>\n",
       "</div>"
      ],
      "text/plain": [
       "       country       date  confirmed  death  test  population  confirmed_rate\n",
       "0  Afghanistan 2020-01-01         70     18  35.0      542774        0.000129\n",
       "1  Afghanistan 2020-01-02        104     21  17.0      542774        0.000192\n",
       "2  Afghanistan 2020-01-03        172     47  34.0      542774        0.000317\n",
       "3  Afghanistan 2020-01-04        192     58  10.0      542774        0.000354\n",
       "4  Afghanistan 2020-01-05        262     62  35.0      542774        0.000483"
      ]
     },
     "execution_count": 7,
     "metadata": {},
     "output_type": "execute_result"
    }
   ],
   "source": [
    "corona['confirmed_rate']=corona['confirmed']/corona['population']\n",
    "corona.head()"
   ]
  },
  {
   "cell_type": "code",
   "execution_count": 8,
   "metadata": {},
   "outputs": [
    {
     "data": {
      "text/html": [
       "<div>\n",
       "<style scoped>\n",
       "    .dataframe tbody tr th:only-of-type {\n",
       "        vertical-align: middle;\n",
       "    }\n",
       "\n",
       "    .dataframe tbody tr th {\n",
       "        vertical-align: top;\n",
       "    }\n",
       "\n",
       "    .dataframe thead th {\n",
       "        text-align: right;\n",
       "    }\n",
       "</style>\n",
       "<table border=\"1\" class=\"dataframe\">\n",
       "  <thead>\n",
       "    <tr style=\"text-align: right;\">\n",
       "      <th></th>\n",
       "      <th>confirmed_rate</th>\n",
       "    </tr>\n",
       "    <tr>\n",
       "      <th>country</th>\n",
       "      <th></th>\n",
       "    </tr>\n",
       "  </thead>\n",
       "  <tbody>\n",
       "    <tr>\n",
       "      <th>France</th>\n",
       "      <td>5.656622</td>\n",
       "    </tr>\n",
       "    <tr>\n",
       "      <th>Cyprus</th>\n",
       "      <td>3.721921</td>\n",
       "    </tr>\n",
       "    <tr>\n",
       "      <th>Haiti</th>\n",
       "      <td>3.717374</td>\n",
       "    </tr>\n",
       "    <tr>\n",
       "      <th>Belarus</th>\n",
       "      <td>2.518569</td>\n",
       "    </tr>\n",
       "    <tr>\n",
       "      <th>Afghanistan</th>\n",
       "      <td>2.104375</td>\n",
       "    </tr>\n",
       "  </tbody>\n",
       "</table>\n",
       "</div>"
      ],
      "text/plain": [
       "             confirmed_rate\n",
       "country                    \n",
       "France             5.656622\n",
       "Cyprus             3.721921\n",
       "Haiti              3.717374\n",
       "Belarus            2.518569\n",
       "Afghanistan        2.104375"
      ]
     },
     "execution_count": 8,
     "metadata": {},
     "output_type": "execute_result"
    }
   ],
   "source": [
    "confirmed_rate=pd.DataFrame(corona.groupby('country')['confirmed_rate'].sum()*100)\n",
    "result=confirmed_rate.sort_values(by='confirmed_rate',ascending=False).head(5)\n",
    "result"
   ]
  },
  {
   "cell_type": "code",
   "execution_count": 9,
   "metadata": {},
   "outputs": [
    {
     "data": {
      "text/plain": [
       "Text(0.5, 1.0, 'Top 5 Having High Corona Percentages Countries')"
      ]
     },
     "execution_count": 9,
     "metadata": {},
     "output_type": "execute_result"
    },
    {
     "data": {
      "image/png": "[encoded data removed]",
      "text/plain": [
       "<Figure size 432x288 with 1 Axes>"
      ]
     },
     "metadata": {
      "needs_background": "light"
     },
     "output_type": "display_data"
    }
   ],
   "source": [
    "sns.barplot(x=result.index, y='confirmed_rate', data=result)\n",
    "plt.title('Top 5 Having High Corona Percentages Countries')"
   ]
  },
  {
   "cell_type": "markdown",
   "metadata": {},
   "source": [
    "### 2-1에서 선택된 국가들의 일일확진자, 누적확진자, 일일 사망, 누적 사망자 추이를 시계열 그래프로 나타내시오"
   ]
  },
  {
   "cell_type": "code",
   "execution_count": 10,
   "metadata": {},
   "outputs": [
    {
     "data": {
      "text/plain": [
       "['Cyprus', 'Haiti', 'Belarus', 'Afghanistan']"
      ]
     },
     "execution_count": 10,
     "metadata": {},
     "output_type": "execute_result"
    }
   ],
   "source": [
    "top_4_country=['Cyprus','Haiti','Belarus','Afghanistan']\n",
    "top_4_country"
   ]
  },
  {
   "cell_type": "code",
   "execution_count": 11,
   "metadata": {},
   "outputs": [
    {
     "name": "stdout",
     "output_type": "stream",
     "text": [
      "        country  confirmed  confirmed_cumsum  death  death_cumsum\n",
      "0        France         33                33     13            13\n",
      "1        France        132               165     16            29\n",
      "2        France        195               360     24            53\n",
      "3        France        287               647     34            87\n",
      "4        France        334               981     42           129\n",
      "..          ...        ...               ...    ...           ...\n",
      "95  Afghanistan        843              7688    172          1628\n",
      "96  Afghanistan        900              8588    173          1801\n",
      "97  Afghanistan        904              9492    187          1988\n",
      "98  Afghanistan        916             10408    215          2203\n",
      "99  Afghanistan       1014             11422    223          2426\n",
      "\n",
      "[100 rows x 5 columns]\n"
     ]
    },
    {
     "data": {
      "text/html": [
       "<div>\n",
       "<style scoped>\n",
       "    .dataframe tbody tr th:only-of-type {\n",
       "        vertical-align: middle;\n",
       "    }\n",
       "\n",
       "    .dataframe tbody tr th {\n",
       "        vertical-align: top;\n",
       "    }\n",
       "\n",
       "    .dataframe thead th {\n",
       "        text-align: right;\n",
       "    }\n",
       "</style>\n",
       "<table border=\"1\" class=\"dataframe\">\n",
       "  <thead>\n",
       "    <tr style=\"text-align: right;\">\n",
       "      <th></th>\n",
       "      <th>country</th>\n",
       "      <th>confirmed</th>\n",
       "      <th>confirmed_cumsum</th>\n",
       "      <th>death</th>\n",
       "      <th>death_cumsum</th>\n",
       "    </tr>\n",
       "  </thead>\n",
       "  <tbody>\n",
       "    <tr>\n",
       "      <th>0</th>\n",
       "      <td>France</td>\n",
       "      <td>33</td>\n",
       "      <td>33</td>\n",
       "      <td>13</td>\n",
       "      <td>13</td>\n",
       "    </tr>\n",
       "    <tr>\n",
       "      <th>1</th>\n",
       "      <td>France</td>\n",
       "      <td>132</td>\n",
       "      <td>165</td>\n",
       "      <td>16</td>\n",
       "      <td>29</td>\n",
       "    </tr>\n",
       "    <tr>\n",
       "      <th>2</th>\n",
       "      <td>France</td>\n",
       "      <td>195</td>\n",
       "      <td>360</td>\n",
       "      <td>24</td>\n",
       "      <td>53</td>\n",
       "    </tr>\n",
       "    <tr>\n",
       "      <th>3</th>\n",
       "      <td>France</td>\n",
       "      <td>287</td>\n",
       "      <td>647</td>\n",
       "      <td>34</td>\n",
       "      <td>87</td>\n",
       "    </tr>\n",
       "    <tr>\n",
       "      <th>4</th>\n",
       "      <td>France</td>\n",
       "      <td>334</td>\n",
       "      <td>981</td>\n",
       "      <td>42</td>\n",
       "      <td>129</td>\n",
       "    </tr>\n",
       "  </tbody>\n",
       "</table>\n",
       "</div>"
      ],
      "text/plain": [
       "  country  confirmed  confirmed_cumsum  death  death_cumsum\n",
       "0  France         33                33     13            13\n",
       "1  France        132               165     16            29\n",
       "2  France        195               360     24            53\n",
       "3  France        287               647     34            87\n",
       "4  France        334               981     42           129"
      ]
     },
     "execution_count": 11,
     "metadata": {},
     "output_type": "execute_result"
    }
   ],
   "source": [
    "high_rates=pd.DataFrame()\n",
    "\n",
    "country=corona[corona['country']=='France']\n",
    "confirmed_cumsum=country['confirmed'].cumsum()\n",
    "death_cumsum=country['death'].cumsum()\n",
    "confirmed=country['confirmed']\n",
    "death=country['death']\n",
    "\n",
    "data={'country':'France',\n",
    "     'confirmed':confirmed,\n",
    "     'confirmed_cumsum':confirmed_cumsum,\n",
    "     'death':death,\n",
    "     'death_cumsum':death_cumsum}\n",
    "\n",
    "high_rates=pd.DataFrame(data)\n",
    "\n",
    "for i in top_4_country:\n",
    "    country=corona[corona['country']==i]\n",
    "    confirmed_cumsum=country['confirmed'].cumsum()\n",
    "    death_cumsum=country['death'].cumsum()\n",
    "    confirmed=country['confirmed']\n",
    "    death=country['death']\n",
    "    \n",
    "    data={'country':i,\n",
    "         'confirmed':confirmed,\n",
    "         'confirmed_cumsum':confirmed_cumsum,\n",
    "         'death':death,\n",
    "         'death_cumsum':death_cumsum}\n",
    "    \n",
    "    high_rates=pd.concat([high_rates,(pd.DataFrame(data))], axis=0)\n",
    "    \n",
    "high_rates.reset_index(inplace=True, drop=True)\n",
    "\n",
    "print(high_rates)\n",
    "high_rates.head()"
   ]
  },
  {
   "cell_type": "code",
   "execution_count": 12,
   "metadata": {},
   "outputs": [],
   "source": [
    "def trends_graph(df):\n",
    "    figure,axes=plt.subplots(nrows=2, ncols=2)\n",
    "    figure.set_size_inches(15,15)\n",
    "    \n",
    "    axes[0][0].set(title='Confirmed')\n",
    "    axes[0][1].set(title='Confirmed_cumsum')\n",
    "    axes[1][0].set(title='Death')\n",
    "    axes[1][1].set(title='Death_cumsum')\n",
    "    \n",
    "    sns.pointplot(data=df, y='confirmed',x=np.arange(0,len(df)),ax=axes[0][0])\n",
    "    sns.pointplot(data=df, y='confirmed_cumsum',x=np.arange(0,len(df)),ax=axes[0][1],color='red')\n",
    "    sns.pointplot(data=df, y='death',x=np.arange(0,len(df)),ax=axes[1][0],color='green')\n",
    "    sns.pointplot(data=df, y='death_cumsum',x=np.arange(0,len(df)),ax=axes[1][1],color='purple')\n",
    "    \n",
    "    plt.show()"
   ]
  },
  {
   "cell_type": "code",
   "execution_count": 13,
   "metadata": {},
   "outputs": [
    {
     "name": "stdout",
     "output_type": "stream",
     "text": [
      "France - Corona Trends\n"
     ]
    },
    {
     "data": {
      "image/png": "[encoded data removed]",
      "text/plain": [
       "<Figure size 1080x1080 with 4 Axes>"
      ]
     },
     "metadata": {
      "needs_background": "light"
     },
     "output_type": "display_data"
    }
   ],
   "source": [
    "print('France - Corona Trends')\n",
    "trends_graph(high_rates[high_rates['country']=='France'])"
   ]
  },
  {
   "cell_type": "code",
   "execution_count": 14,
   "metadata": {},
   "outputs": [
    {
     "name": "stdout",
     "output_type": "stream",
     "text": [
      "Cyprus - Corona Trends\n"
     ]
    },
    {
     "data": {
      "image/png": "[encoded data removed]",
      "text/plain": [
       "<Figure size 1080x1080 with 4 Axes>"
      ]
     },
     "metadata": {
      "needs_background": "light"
     },
     "output_type": "display_data"
    }
   ],
   "source": [
    "print('Cyprus - Corona Trends')\n",
    "trends_graph(high_rates[high_rates['country']=='Cyprus'])"
   ]
  },
  {
   "cell_type": "code",
   "execution_count": 15,
   "metadata": {},
   "outputs": [
    {
     "name": "stdout",
     "output_type": "stream",
     "text": [
      "Haiti - Corona Trends\n"
     ]
    },
    {
     "data": {
      "image/png": "[encoded data removed]",
      "text/plain": [
       "<Figure size 1080x1080 with 4 Axes>"
      ]
     },
     "metadata": {
      "needs_background": "light"
     },
     "output_type": "display_data"
    }
   ],
   "source": [
    "print('Haiti - Corona Trends')\n",
    "trends_graph(high_rates[high_rates['country']=='Haiti'])"
   ]
  },
  {
   "cell_type": "code",
   "execution_count": 16,
   "metadata": {},
   "outputs": [
    {
     "name": "stdout",
     "output_type": "stream",
     "text": [
      "Belarus - Corona Trends\n"
     ]
    },
    {
     "data": {
      "image/png": "[encoded data removed]",
      "text/plain": [
       "<Figure size 1080x1080 with 4 Axes>"
      ]
     },
     "metadata": {
      "needs_background": "light"
     },
     "output_type": "display_data"
    }
   ],
   "source": [
    "print('Belarus - Corona Trends')\n",
    "trends_graph(high_rates[high_rates['country']=='Belarus'])"
   ]
  },
  {
   "cell_type": "code",
   "execution_count": 17,
   "metadata": {},
   "outputs": [
    {
     "name": "stdout",
     "output_type": "stream",
     "text": [
      "Afghanistan - Corona Trends\n"
     ]
    },
    {
     "data": {
      "image/png": "[encoded data removed]",
      "text/plain": [
       "<Figure size 1080x1080 with 4 Axes>"
      ]
     },
     "metadata": {
      "needs_background": "light"
     },
     "output_type": "display_data"
    }
   ],
   "source": [
    "print('Afghanistan - Corona Trends')\n",
    "trends_graph(high_rates[high_rates['country']=='Afghanistan'])"
   ]
  },
  {
   "cell_type": "markdown",
   "metadata": {},
   "source": [
    "### 2-2 코로나 위험지수를 개발하고 위험지수가 높은 국가 10개를 추려내서 막대그래프로 시각화하기"
   ]
  },
  {
   "cell_type": "code",
   "execution_count": 18,
   "metadata": {},
   "outputs": [
    {
     "data": {
      "text/plain": [
       "<matplotlib.axes._subplots.AxesSubplot at 0x1edb30d8448>"
      ]
     },
     "execution_count": 18,
     "metadata": {},
     "output_type": "execute_result"
    },
    {
     "data": {
      "image/png": "[encoded data removed]",
      "text/plain": [
       "<Figure size 864x360 with 2 Axes>"
      ]
     },
     "metadata": {
      "needs_background": "light"
     },
     "output_type": "display_data"
    }
   ],
   "source": [
    "figure,axes=plt.subplots(ncols=2)\n",
    "figure.set_size_inches(12,5)\n",
    "\n",
    "sns.distplot(corona['death'],ax=axes[0])\n",
    "sns.boxplot(corona['death'],ax=axes[1])"
   ]
  },
  {
   "cell_type": "code",
   "execution_count": 19,
   "metadata": {},
   "outputs": [
    {
     "data": {
      "text/plain": [
       "count    260.000000\n",
       "mean     157.061538\n",
       "std       93.868038\n",
       "min        3.000000\n",
       "25%       78.250000\n",
       "50%      148.000000\n",
       "75%      228.250000\n",
       "max      375.000000\n",
       "Name: death, dtype: float64"
      ]
     },
     "execution_count": 19,
     "metadata": {},
     "output_type": "execute_result"
    }
   ],
   "source": [
    "corona.death.describe()"
   ]
  },
  {
   "cell_type": "markdown",
   "metadata": {},
   "source": [
    "위험지수를 사망자수를 확진자수로 나눈 값으로 산정"
   ]
  },
  {
   "cell_type": "code",
   "execution_count": 34,
   "metadata": {},
   "outputs": [
    {
     "data": {
      "text/html": [
       "<div>\n",
       "<style scoped>\n",
       "    .dataframe tbody tr th:only-of-type {\n",
       "        vertical-align: middle;\n",
       "    }\n",
       "\n",
       "    .dataframe tbody tr th {\n",
       "        vertical-align: top;\n",
       "    }\n",
       "\n",
       "    .dataframe thead th {\n",
       "        text-align: right;\n",
       "    }\n",
       "</style>\n",
       "<table border=\"1\" class=\"dataframe\">\n",
       "  <thead>\n",
       "    <tr style=\"text-align: right;\">\n",
       "      <th></th>\n",
       "      <th>country</th>\n",
       "      <th>confirmed</th>\n",
       "      <th>death</th>\n",
       "      <th>danger</th>\n",
       "    </tr>\n",
       "  </thead>\n",
       "  <tbody>\n",
       "    <tr>\n",
       "      <th>0</th>\n",
       "      <td>Cameroon</td>\n",
       "      <td>9493</td>\n",
       "      <td>3754</td>\n",
       "      <td>39.544928</td>\n",
       "    </tr>\n",
       "    <tr>\n",
       "      <th>1</th>\n",
       "      <td>Thailand</td>\n",
       "      <td>9380</td>\n",
       "      <td>3617</td>\n",
       "      <td>38.560768</td>\n",
       "    </tr>\n",
       "    <tr>\n",
       "      <th>2</th>\n",
       "      <td>Kiribati</td>\n",
       "      <td>12089</td>\n",
       "      <td>4356</td>\n",
       "      <td>36.032757</td>\n",
       "    </tr>\n",
       "    <tr>\n",
       "      <th>3</th>\n",
       "      <td>Republic of Moldova</td>\n",
       "      <td>8636</td>\n",
       "      <td>2931</td>\n",
       "      <td>33.939324</td>\n",
       "    </tr>\n",
       "    <tr>\n",
       "      <th>4</th>\n",
       "      <td>Mauritania</td>\n",
       "      <td>11241</td>\n",
       "      <td>3738</td>\n",
       "      <td>33.253269</td>\n",
       "    </tr>\n",
       "    <tr>\n",
       "      <th>5</th>\n",
       "      <td>Nigeria</td>\n",
       "      <td>9158</td>\n",
       "      <td>2994</td>\n",
       "      <td>32.692728</td>\n",
       "    </tr>\n",
       "    <tr>\n",
       "      <th>6</th>\n",
       "      <td>Cyprus</td>\n",
       "      <td>10571</td>\n",
       "      <td>3194</td>\n",
       "      <td>30.214738</td>\n",
       "    </tr>\n",
       "    <tr>\n",
       "      <th>7</th>\n",
       "      <td>Sierra Leone</td>\n",
       "      <td>10157</td>\n",
       "      <td>2859</td>\n",
       "      <td>28.148075</td>\n",
       "    </tr>\n",
       "    <tr>\n",
       "      <th>8</th>\n",
       "      <td>Haiti</td>\n",
       "      <td>12358</td>\n",
       "      <td>3361</td>\n",
       "      <td>27.196957</td>\n",
       "    </tr>\n",
       "    <tr>\n",
       "      <th>9</th>\n",
       "      <td>Uzbekistan</td>\n",
       "      <td>11801</td>\n",
       "      <td>2980</td>\n",
       "      <td>25.252097</td>\n",
       "    </tr>\n",
       "  </tbody>\n",
       "</table>\n",
       "</div>"
      ],
      "text/plain": [
       "               country  confirmed  death     danger\n",
       "0             Cameroon       9493   3754  39.544928\n",
       "1             Thailand       9380   3617  38.560768\n",
       "2             Kiribati      12089   4356  36.032757\n",
       "3  Republic of Moldova       8636   2931  33.939324\n",
       "4           Mauritania      11241   3738  33.253269\n",
       "5              Nigeria       9158   2994  32.692728\n",
       "6               Cyprus      10571   3194  30.214738\n",
       "7         Sierra Leone      10157   2859  28.148075\n",
       "8                Haiti      12358   3361  27.196957\n",
       "9           Uzbekistan      11801   2980  25.252097"
      ]
     },
     "execution_count": 34,
     "metadata": {},
     "output_type": "execute_result"
    }
   ],
   "source": [
    "danger_rank=corona.groupby('country')[['confirmed','death']].sum()\n",
    "danger_rank=pd.DataFrame(danger_rank).reset_index()\n",
    "\n",
    "danger_rank['danger']=danger_rank['death']/danger_rank['confirmed']*100\n",
    "\n",
    "danger_top10=danger_rank.sort_values(by='danger', ascending=False).head(10).reset_index(drop=True)\n",
    "\n",
    "danger_top10"
   ]
  },
  {
   "cell_type": "code",
   "execution_count": 35,
   "metadata": {},
   "outputs": [
    {
     "data": {
      "text/plain": [
       "<matplotlib.axes._subplots.AxesSubplot at 0x1edb321f608>"
      ]
     },
     "execution_count": 35,
     "metadata": {},
     "output_type": "execute_result"
    },
    {
     "data": {
      "image/png": "[encoded data removed]",
      "text/plain": [
       "<Figure size 864x360 with 1 Axes>"
      ]
     },
     "metadata": {
      "needs_background": "light"
     },
     "output_type": "display_data"
    }
   ],
   "source": [
    "plt.figure(figsize=(12,5))\n",
    "sns.barplot(x='country',y='danger',data=danger_top10)"
   ]
  },
  {
   "cell_type": "markdown",
   "metadata": {},
   "source": [
    "### 2-3 시계열 모델링 및 비선형 모델링 진행"
   ]
  },
  {
   "cell_type": "code",
   "execution_count": null,
   "metadata": {},
   "outputs": [],
   "source": []
  },
  {
   "cell_type": "code",
   "execution_count": null,
   "metadata": {},
   "outputs": [],
   "source": []
  },
  {
   "cell_type": "code",
   "execution_count": null,
   "metadata": {},
   "outputs": [],
   "source": []
  },
  {
   "cell_type": "markdown",
   "metadata": {},
   "source": [
    "# Survey"
   ]
  },
  {
   "cell_type": "code",
   "execution_count": 37,
   "metadata": {},
   "outputs": [
    {
     "data": {
      "text/plain": [
       "(200, 107)"
      ]
     },
     "execution_count": 37,
     "metadata": {},
     "output_type": "execute_result"
    }
   ],
   "source": [
    "survey=pd.read_excel('./data/analysis.xlsx')\n",
    "survey.shape"
   ]
  },
  {
   "cell_type": "code",
   "execution_count": 38,
   "metadata": {},
   "outputs": [
    {
     "data": {
      "text/html": [
       "<div>\n",
       "<style scoped>\n",
       "    .dataframe tbody tr th:only-of-type {\n",
       "        vertical-align: middle;\n",
       "    }\n",
       "\n",
       "    .dataframe tbody tr th {\n",
       "        vertical-align: top;\n",
       "    }\n",
       "\n",
       "    .dataframe thead th {\n",
       "        text-align: right;\n",
       "    }\n",
       "</style>\n",
       "<table border=\"1\" class=\"dataframe\">\n",
       "  <thead>\n",
       "    <tr style=\"text-align: right;\">\n",
       "      <th></th>\n",
       "      <th>ID</th>\n",
       "      <th>group</th>\n",
       "      <th>1.1</th>\n",
       "      <th>1.2</th>\n",
       "      <th>1.3</th>\n",
       "      <th>1.4</th>\n",
       "      <th>1.5</th>\n",
       "      <th>1.6</th>\n",
       "      <th>1.7</th>\n",
       "      <th>1.8</th>\n",
       "      <th>...</th>\n",
       "      <th>8.5</th>\n",
       "      <th>8.6</th>\n",
       "      <th>8.7</th>\n",
       "      <th>8.8</th>\n",
       "      <th>8.9</th>\n",
       "      <th>8.10</th>\n",
       "      <th>8.11</th>\n",
       "      <th>8.12</th>\n",
       "      <th>8.13</th>\n",
       "      <th>8.14</th>\n",
       "    </tr>\n",
       "  </thead>\n",
       "  <tbody>\n",
       "    <tr>\n",
       "      <th>0</th>\n",
       "      <td>1</td>\n",
       "      <td>A</td>\n",
       "      <td>3</td>\n",
       "      <td>5</td>\n",
       "      <td>4</td>\n",
       "      <td>2</td>\n",
       "      <td>4</td>\n",
       "      <td>5</td>\n",
       "      <td>2</td>\n",
       "      <td>5</td>\n",
       "      <td>...</td>\n",
       "      <td>4</td>\n",
       "      <td>3</td>\n",
       "      <td>5</td>\n",
       "      <td>4</td>\n",
       "      <td>4</td>\n",
       "      <td>1</td>\n",
       "      <td>3</td>\n",
       "      <td>1</td>\n",
       "      <td>2</td>\n",
       "      <td>5</td>\n",
       "    </tr>\n",
       "    <tr>\n",
       "      <th>1</th>\n",
       "      <td>2</td>\n",
       "      <td>A</td>\n",
       "      <td>3</td>\n",
       "      <td>1</td>\n",
       "      <td>5</td>\n",
       "      <td>3</td>\n",
       "      <td>4</td>\n",
       "      <td>4</td>\n",
       "      <td>5</td>\n",
       "      <td>2</td>\n",
       "      <td>...</td>\n",
       "      <td>5</td>\n",
       "      <td>1</td>\n",
       "      <td>4</td>\n",
       "      <td>2</td>\n",
       "      <td>4</td>\n",
       "      <td>4</td>\n",
       "      <td>3</td>\n",
       "      <td>2</td>\n",
       "      <td>1</td>\n",
       "      <td>3</td>\n",
       "    </tr>\n",
       "    <tr>\n",
       "      <th>2</th>\n",
       "      <td>3</td>\n",
       "      <td>A</td>\n",
       "      <td>1</td>\n",
       "      <td>5</td>\n",
       "      <td>4</td>\n",
       "      <td>4</td>\n",
       "      <td>3</td>\n",
       "      <td>3</td>\n",
       "      <td>5</td>\n",
       "      <td>5</td>\n",
       "      <td>...</td>\n",
       "      <td>1</td>\n",
       "      <td>3</td>\n",
       "      <td>3</td>\n",
       "      <td>3</td>\n",
       "      <td>2</td>\n",
       "      <td>1</td>\n",
       "      <td>4</td>\n",
       "      <td>3</td>\n",
       "      <td>5</td>\n",
       "      <td>2</td>\n",
       "    </tr>\n",
       "    <tr>\n",
       "      <th>3</th>\n",
       "      <td>4</td>\n",
       "      <td>A</td>\n",
       "      <td>1</td>\n",
       "      <td>3</td>\n",
       "      <td>1</td>\n",
       "      <td>2</td>\n",
       "      <td>4</td>\n",
       "      <td>3</td>\n",
       "      <td>3</td>\n",
       "      <td>2</td>\n",
       "      <td>...</td>\n",
       "      <td>3</td>\n",
       "      <td>2</td>\n",
       "      <td>5</td>\n",
       "      <td>3</td>\n",
       "      <td>2</td>\n",
       "      <td>1</td>\n",
       "      <td>1</td>\n",
       "      <td>2</td>\n",
       "      <td>5</td>\n",
       "      <td>3</td>\n",
       "    </tr>\n",
       "    <tr>\n",
       "      <th>4</th>\n",
       "      <td>5</td>\n",
       "      <td>A</td>\n",
       "      <td>2</td>\n",
       "      <td>5</td>\n",
       "      <td>5</td>\n",
       "      <td>2</td>\n",
       "      <td>4</td>\n",
       "      <td>2</td>\n",
       "      <td>5</td>\n",
       "      <td>3</td>\n",
       "      <td>...</td>\n",
       "      <td>3</td>\n",
       "      <td>4</td>\n",
       "      <td>2</td>\n",
       "      <td>5</td>\n",
       "      <td>2</td>\n",
       "      <td>1</td>\n",
       "      <td>1</td>\n",
       "      <td>5</td>\n",
       "      <td>5</td>\n",
       "      <td>1</td>\n",
       "    </tr>\n",
       "  </tbody>\n",
       "</table>\n",
       "<p>5 rows × 107 columns</p>\n",
       "</div>"
      ],
      "text/plain": [
       "   ID group  1.1  1.2  1.3  1.4  1.5  1.6  1.7  1.8  ...  8.5  8.6  8.7  8.8  \\\n",
       "0   1     A    3    5    4    2    4    5    2    5  ...    4    3    5    4   \n",
       "1   2     A    3    1    5    3    4    4    5    2  ...    5    1    4    2   \n",
       "2   3     A    1    5    4    4    3    3    5    5  ...    1    3    3    3   \n",
       "3   4     A    1    3    1    2    4    3    3    2  ...    3    2    5    3   \n",
       "4   5     A    2    5    5    2    4    2    5    3  ...    3    4    2    5   \n",
       "\n",
       "   8.9  8.10  8.11  8.12  8.13  8.14  \n",
       "0    4     1     3     1     2     5  \n",
       "1    4     4     3     2     1     3  \n",
       "2    2     1     4     3     5     2  \n",
       "3    2     1     1     2     5     3  \n",
       "4    2     1     1     5     5     1  \n",
       "\n",
       "[5 rows x 107 columns]"
      ]
     },
     "execution_count": 38,
     "metadata": {},
     "output_type": "execute_result"
    }
   ],
   "source": [
    "survey.head()"
   ]
  },
  {
   "cell_type": "code",
   "execution_count": 42,
   "metadata": {},
   "outputs": [
    {
     "data": {
      "text/plain": [
       "array(['ID', 'group', '1.1', '1.2', '1.3', '1.4', '1.5', '1.6', '1.7',\n",
       "       '1.8', '2.1', '2.2', '2.3', '2.4', '2.5', '2.6', '2.7', '2.8',\n",
       "       '2.9', '2.10', '2.11', '2.12', '2.13', '3.1', '3.2', '3.3', '3.4',\n",
       "       '3.5', '3.6', '3.7', '3.8', '3.9', '3.10', '3.11', '3.12', '3.13',\n",
       "       '3.14', '4.1', '4.2', '4.3', '4.4', '4.5', '4.6', '4.7', '4.8',\n",
       "       '4.9', '4.10', '4.11', '4.12', '4.13', '4.14', '5.1', '5.2', '5.3',\n",
       "       '5.4', '5.5', '5.6', '5.7', '5.8', '5.9', '5.10', '5.11', '5.12',\n",
       "       '5.13', '6.1', '6.2', '6.3', '6.4', '6.5', '6.6', '6.7', '6.8',\n",
       "       '6.9', '6.10', '6.11', '6.12', '6.13', '6.14', '6.15', '6.16',\n",
       "       '7.1', '7.2', '7.3', '7.4', '7.5', '7.6', '7.7', '7.8', '7.9',\n",
       "       '7.10', '7.11', '7.12', '7.13', '8.1', '8.2', '8.3', '8.4', '8.5',\n",
       "       '8.6', '8.7', '8.8', '8.9', '8.10', '8.11', '8.12', '8.13', '8.14'],\n",
       "      dtype=object)"
      ]
     },
     "execution_count": 42,
     "metadata": {},
     "output_type": "execute_result"
    }
   ],
   "source": [
    "survey.columns.values"
   ]
  },
  {
   "cell_type": "markdown",
   "metadata": {},
   "source": [
    "### 3-1 항목별, 그룹별 만족도 응답의 평균, 표준편차, 왜도, 첨도 구하기"
   ]
  },
  {
   "cell_type": "code",
   "execution_count": 46,
   "metadata": {},
   "outputs": [
    {
     "data": {
      "text/html": [
       "<div>\n",
       "<style scoped>\n",
       "    .dataframe tbody tr th:only-of-type {\n",
       "        vertical-align: middle;\n",
       "    }\n",
       "\n",
       "    .dataframe tbody tr th {\n",
       "        vertical-align: top;\n",
       "    }\n",
       "\n",
       "    .dataframe thead th {\n",
       "        text-align: right;\n",
       "    }\n",
       "</style>\n",
       "<table border=\"1\" class=\"dataframe\">\n",
       "  <thead>\n",
       "    <tr style=\"text-align: right;\">\n",
       "      <th></th>\n",
       "      <th>1.1</th>\n",
       "      <th>1.2</th>\n",
       "      <th>1.3</th>\n",
       "      <th>1.4</th>\n",
       "      <th>1.5</th>\n",
       "      <th>1.6</th>\n",
       "      <th>1.7</th>\n",
       "      <th>1.8</th>\n",
       "      <th>2.1</th>\n",
       "      <th>2.2</th>\n",
       "      <th>...</th>\n",
       "      <th>8.5</th>\n",
       "      <th>8.6</th>\n",
       "      <th>8.7</th>\n",
       "      <th>8.8</th>\n",
       "      <th>8.9</th>\n",
       "      <th>8.10</th>\n",
       "      <th>8.11</th>\n",
       "      <th>8.12</th>\n",
       "      <th>8.13</th>\n",
       "      <th>8.14</th>\n",
       "    </tr>\n",
       "    <tr>\n",
       "      <th>group</th>\n",
       "      <th></th>\n",
       "      <th></th>\n",
       "      <th></th>\n",
       "      <th></th>\n",
       "      <th></th>\n",
       "      <th></th>\n",
       "      <th></th>\n",
       "      <th></th>\n",
       "      <th></th>\n",
       "      <th></th>\n",
       "      <th></th>\n",
       "      <th></th>\n",
       "      <th></th>\n",
       "      <th></th>\n",
       "      <th></th>\n",
       "      <th></th>\n",
       "      <th></th>\n",
       "      <th></th>\n",
       "      <th></th>\n",
       "      <th></th>\n",
       "      <th></th>\n",
       "    </tr>\n",
       "  </thead>\n",
       "  <tbody>\n",
       "    <tr>\n",
       "      <th>A</th>\n",
       "      <td>2.81</td>\n",
       "      <td>3.19</td>\n",
       "      <td>3.33</td>\n",
       "      <td>2.57</td>\n",
       "      <td>3.24</td>\n",
       "      <td>3.05</td>\n",
       "      <td>3.00</td>\n",
       "      <td>2.95</td>\n",
       "      <td>2.90</td>\n",
       "      <td>3.19</td>\n",
       "      <td>...</td>\n",
       "      <td>2.90</td>\n",
       "      <td>3.19</td>\n",
       "      <td>3.24</td>\n",
       "      <td>3.52</td>\n",
       "      <td>2.95</td>\n",
       "      <td>2.95</td>\n",
       "      <td>3.48</td>\n",
       "      <td>2.62</td>\n",
       "      <td>3.43</td>\n",
       "      <td>3.10</td>\n",
       "    </tr>\n",
       "    <tr>\n",
       "      <th>B</th>\n",
       "      <td>2.92</td>\n",
       "      <td>3.08</td>\n",
       "      <td>2.67</td>\n",
       "      <td>3.24</td>\n",
       "      <td>3.09</td>\n",
       "      <td>2.88</td>\n",
       "      <td>2.86</td>\n",
       "      <td>2.95</td>\n",
       "      <td>2.98</td>\n",
       "      <td>2.79</td>\n",
       "      <td>...</td>\n",
       "      <td>3.02</td>\n",
       "      <td>2.91</td>\n",
       "      <td>2.91</td>\n",
       "      <td>2.76</td>\n",
       "      <td>2.80</td>\n",
       "      <td>2.82</td>\n",
       "      <td>2.92</td>\n",
       "      <td>2.98</td>\n",
       "      <td>3.24</td>\n",
       "      <td>3.06</td>\n",
       "    </tr>\n",
       "    <tr>\n",
       "      <th>C</th>\n",
       "      <td>2.74</td>\n",
       "      <td>3.07</td>\n",
       "      <td>2.41</td>\n",
       "      <td>3.00</td>\n",
       "      <td>2.96</td>\n",
       "      <td>3.04</td>\n",
       "      <td>3.15</td>\n",
       "      <td>3.19</td>\n",
       "      <td>2.63</td>\n",
       "      <td>3.26</td>\n",
       "      <td>...</td>\n",
       "      <td>2.59</td>\n",
       "      <td>2.33</td>\n",
       "      <td>3.22</td>\n",
       "      <td>3.22</td>\n",
       "      <td>3.07</td>\n",
       "      <td>2.85</td>\n",
       "      <td>2.41</td>\n",
       "      <td>2.56</td>\n",
       "      <td>2.85</td>\n",
       "      <td>3.19</td>\n",
       "    </tr>\n",
       "    <tr>\n",
       "      <th>D</th>\n",
       "      <td>3.19</td>\n",
       "      <td>2.76</td>\n",
       "      <td>2.81</td>\n",
       "      <td>2.81</td>\n",
       "      <td>3.00</td>\n",
       "      <td>2.90</td>\n",
       "      <td>2.81</td>\n",
       "      <td>2.57</td>\n",
       "      <td>3.14</td>\n",
       "      <td>2.86</td>\n",
       "      <td>...</td>\n",
       "      <td>3.19</td>\n",
       "      <td>3.10</td>\n",
       "      <td>3.14</td>\n",
       "      <td>3.43</td>\n",
       "      <td>3.38</td>\n",
       "      <td>3.29</td>\n",
       "      <td>2.33</td>\n",
       "      <td>3.05</td>\n",
       "      <td>2.95</td>\n",
       "      <td>2.95</td>\n",
       "    </tr>\n",
       "    <tr>\n",
       "      <th>E</th>\n",
       "      <td>2.76</td>\n",
       "      <td>3.44</td>\n",
       "      <td>3.36</td>\n",
       "      <td>2.88</td>\n",
       "      <td>2.72</td>\n",
       "      <td>2.76</td>\n",
       "      <td>2.88</td>\n",
       "      <td>3.04</td>\n",
       "      <td>2.76</td>\n",
       "      <td>3.08</td>\n",
       "      <td>...</td>\n",
       "      <td>3.32</td>\n",
       "      <td>3.32</td>\n",
       "      <td>3.20</td>\n",
       "      <td>3.00</td>\n",
       "      <td>2.56</td>\n",
       "      <td>2.92</td>\n",
       "      <td>2.68</td>\n",
       "      <td>2.56</td>\n",
       "      <td>2.96</td>\n",
       "      <td>2.68</td>\n",
       "    </tr>\n",
       "    <tr>\n",
       "      <th>F</th>\n",
       "      <td>3.19</td>\n",
       "      <td>3.05</td>\n",
       "      <td>2.76</td>\n",
       "      <td>2.86</td>\n",
       "      <td>2.86</td>\n",
       "      <td>2.43</td>\n",
       "      <td>2.81</td>\n",
       "      <td>3.43</td>\n",
       "      <td>2.29</td>\n",
       "      <td>2.76</td>\n",
       "      <td>...</td>\n",
       "      <td>2.86</td>\n",
       "      <td>2.86</td>\n",
       "      <td>2.76</td>\n",
       "      <td>2.90</td>\n",
       "      <td>2.57</td>\n",
       "      <td>3.14</td>\n",
       "      <td>3.10</td>\n",
       "      <td>3.38</td>\n",
       "      <td>3.29</td>\n",
       "      <td>3.14</td>\n",
       "    </tr>\n",
       "    <tr>\n",
       "      <th>G</th>\n",
       "      <td>3.11</td>\n",
       "      <td>2.84</td>\n",
       "      <td>2.84</td>\n",
       "      <td>2.74</td>\n",
       "      <td>3.21</td>\n",
       "      <td>3.05</td>\n",
       "      <td>2.89</td>\n",
       "      <td>2.68</td>\n",
       "      <td>2.74</td>\n",
       "      <td>2.79</td>\n",
       "      <td>...</td>\n",
       "      <td>2.47</td>\n",
       "      <td>2.84</td>\n",
       "      <td>2.84</td>\n",
       "      <td>3.16</td>\n",
       "      <td>2.95</td>\n",
       "      <td>3.26</td>\n",
       "      <td>3.26</td>\n",
       "      <td>3.11</td>\n",
       "      <td>3.47</td>\n",
       "      <td>2.95</td>\n",
       "    </tr>\n",
       "  </tbody>\n",
       "</table>\n",
       "<p>7 rows × 105 columns</p>\n",
       "</div>"
      ],
      "text/plain": [
       "        1.1   1.2   1.3   1.4   1.5   1.6   1.7   1.8   2.1   2.2  ...   8.5  \\\n",
       "group                                                              ...         \n",
       "A      2.81  3.19  3.33  2.57  3.24  3.05  3.00  2.95  2.90  3.19  ...  2.90   \n",
       "B      2.92  3.08  2.67  3.24  3.09  2.88  2.86  2.95  2.98  2.79  ...  3.02   \n",
       "C      2.74  3.07  2.41  3.00  2.96  3.04  3.15  3.19  2.63  3.26  ...  2.59   \n",
       "D      3.19  2.76  2.81  2.81  3.00  2.90  2.81  2.57  3.14  2.86  ...  3.19   \n",
       "E      2.76  3.44  3.36  2.88  2.72  2.76  2.88  3.04  2.76  3.08  ...  3.32   \n",
       "F      3.19  3.05  2.76  2.86  2.86  2.43  2.81  3.43  2.29  2.76  ...  2.86   \n",
       "G      3.11  2.84  2.84  2.74  3.21  3.05  2.89  2.68  2.74  2.79  ...  2.47   \n",
       "\n",
       "        8.6   8.7   8.8   8.9  8.10  8.11  8.12  8.13  8.14  \n",
       "group                                                        \n",
       "A      3.19  3.24  3.52  2.95  2.95  3.48  2.62  3.43  3.10  \n",
       "B      2.91  2.91  2.76  2.80  2.82  2.92  2.98  3.24  3.06  \n",
       "C      2.33  3.22  3.22  3.07  2.85  2.41  2.56  2.85  3.19  \n",
       "D      3.10  3.14  3.43  3.38  3.29  2.33  3.05  2.95  2.95  \n",
       "E      3.32  3.20  3.00  2.56  2.92  2.68  2.56  2.96  2.68  \n",
       "F      2.86  2.76  2.90  2.57  3.14  3.10  3.38  3.29  3.14  \n",
       "G      2.84  2.84  3.16  2.95  3.26  3.26  3.11  3.47  2.95  \n",
       "\n",
       "[7 rows x 105 columns]"
      ]
     },
     "execution_count": 46,
     "metadata": {},
     "output_type": "execute_result"
    }
   ],
   "source": [
    "summary_mean=pd.DataFrame(survey.groupby('group').mean().apply(lambda x: round(x,2)))\n",
    "\n",
    "summary_mean.drop('ID', axis=1)"
   ]
  },
  {
   "cell_type": "code",
   "execution_count": 47,
   "metadata": {},
   "outputs": [
    {
     "data": {
      "text/html": [
       "<div>\n",
       "<style scoped>\n",
       "    .dataframe tbody tr th:only-of-type {\n",
       "        vertical-align: middle;\n",
       "    }\n",
       "\n",
       "    .dataframe tbody tr th {\n",
       "        vertical-align: top;\n",
       "    }\n",
       "\n",
       "    .dataframe thead th {\n",
       "        text-align: right;\n",
       "    }\n",
       "</style>\n",
       "<table border=\"1\" class=\"dataframe\">\n",
       "  <thead>\n",
       "    <tr style=\"text-align: right;\">\n",
       "      <th></th>\n",
       "      <th>1.1</th>\n",
       "      <th>1.2</th>\n",
       "      <th>1.3</th>\n",
       "      <th>1.4</th>\n",
       "      <th>1.5</th>\n",
       "      <th>1.6</th>\n",
       "      <th>1.7</th>\n",
       "      <th>1.8</th>\n",
       "      <th>2.1</th>\n",
       "      <th>2.2</th>\n",
       "      <th>...</th>\n",
       "      <th>8.5</th>\n",
       "      <th>8.6</th>\n",
       "      <th>8.7</th>\n",
       "      <th>8.8</th>\n",
       "      <th>8.9</th>\n",
       "      <th>8.10</th>\n",
       "      <th>8.11</th>\n",
       "      <th>8.12</th>\n",
       "      <th>8.13</th>\n",
       "      <th>8.14</th>\n",
       "    </tr>\n",
       "    <tr>\n",
       "      <th>group</th>\n",
       "      <th></th>\n",
       "      <th></th>\n",
       "      <th></th>\n",
       "      <th></th>\n",
       "      <th></th>\n",
       "      <th></th>\n",
       "      <th></th>\n",
       "      <th></th>\n",
       "      <th></th>\n",
       "      <th></th>\n",
       "      <th></th>\n",
       "      <th></th>\n",
       "      <th></th>\n",
       "      <th></th>\n",
       "      <th></th>\n",
       "      <th></th>\n",
       "      <th></th>\n",
       "      <th></th>\n",
       "      <th></th>\n",
       "      <th></th>\n",
       "      <th></th>\n",
       "    </tr>\n",
       "  </thead>\n",
       "  <tbody>\n",
       "    <tr>\n",
       "      <th>A</th>\n",
       "      <td>1.33</td>\n",
       "      <td>1.60</td>\n",
       "      <td>1.65</td>\n",
       "      <td>1.25</td>\n",
       "      <td>1.34</td>\n",
       "      <td>1.53</td>\n",
       "      <td>1.30</td>\n",
       "      <td>1.36</td>\n",
       "      <td>1.51</td>\n",
       "      <td>1.50</td>\n",
       "      <td>...</td>\n",
       "      <td>1.37</td>\n",
       "      <td>1.47</td>\n",
       "      <td>1.51</td>\n",
       "      <td>1.12</td>\n",
       "      <td>1.12</td>\n",
       "      <td>1.56</td>\n",
       "      <td>1.36</td>\n",
       "      <td>1.28</td>\n",
       "      <td>1.33</td>\n",
       "      <td>1.55</td>\n",
       "    </tr>\n",
       "    <tr>\n",
       "      <th>B</th>\n",
       "      <td>1.40</td>\n",
       "      <td>1.40</td>\n",
       "      <td>1.45</td>\n",
       "      <td>1.38</td>\n",
       "      <td>1.48</td>\n",
       "      <td>1.38</td>\n",
       "      <td>1.52</td>\n",
       "      <td>1.34</td>\n",
       "      <td>1.40</td>\n",
       "      <td>1.34</td>\n",
       "      <td>...</td>\n",
       "      <td>1.43</td>\n",
       "      <td>1.40</td>\n",
       "      <td>1.32</td>\n",
       "      <td>1.38</td>\n",
       "      <td>1.48</td>\n",
       "      <td>1.51</td>\n",
       "      <td>1.44</td>\n",
       "      <td>1.40</td>\n",
       "      <td>1.44</td>\n",
       "      <td>1.40</td>\n",
       "    </tr>\n",
       "    <tr>\n",
       "      <th>C</th>\n",
       "      <td>1.48</td>\n",
       "      <td>1.41</td>\n",
       "      <td>1.39</td>\n",
       "      <td>1.36</td>\n",
       "      <td>1.34</td>\n",
       "      <td>1.51</td>\n",
       "      <td>1.41</td>\n",
       "      <td>1.39</td>\n",
       "      <td>1.52</td>\n",
       "      <td>1.46</td>\n",
       "      <td>...</td>\n",
       "      <td>1.19</td>\n",
       "      <td>1.33</td>\n",
       "      <td>1.22</td>\n",
       "      <td>1.63</td>\n",
       "      <td>1.44</td>\n",
       "      <td>1.17</td>\n",
       "      <td>1.37</td>\n",
       "      <td>1.45</td>\n",
       "      <td>1.29</td>\n",
       "      <td>1.59</td>\n",
       "    </tr>\n",
       "    <tr>\n",
       "      <th>D</th>\n",
       "      <td>1.75</td>\n",
       "      <td>1.18</td>\n",
       "      <td>1.50</td>\n",
       "      <td>1.25</td>\n",
       "      <td>1.48</td>\n",
       "      <td>1.51</td>\n",
       "      <td>1.44</td>\n",
       "      <td>1.16</td>\n",
       "      <td>1.53</td>\n",
       "      <td>1.53</td>\n",
       "      <td>...</td>\n",
       "      <td>1.33</td>\n",
       "      <td>1.41</td>\n",
       "      <td>1.49</td>\n",
       "      <td>1.40</td>\n",
       "      <td>1.40</td>\n",
       "      <td>1.38</td>\n",
       "      <td>1.53</td>\n",
       "      <td>1.53</td>\n",
       "      <td>1.66</td>\n",
       "      <td>1.43</td>\n",
       "    </tr>\n",
       "    <tr>\n",
       "      <th>E</th>\n",
       "      <td>1.39</td>\n",
       "      <td>1.36</td>\n",
       "      <td>1.47</td>\n",
       "      <td>1.42</td>\n",
       "      <td>1.34</td>\n",
       "      <td>1.30</td>\n",
       "      <td>1.27</td>\n",
       "      <td>1.51</td>\n",
       "      <td>1.45</td>\n",
       "      <td>1.15</td>\n",
       "      <td>...</td>\n",
       "      <td>1.65</td>\n",
       "      <td>1.49</td>\n",
       "      <td>1.38</td>\n",
       "      <td>1.32</td>\n",
       "      <td>1.36</td>\n",
       "      <td>1.32</td>\n",
       "      <td>1.52</td>\n",
       "      <td>1.39</td>\n",
       "      <td>1.27</td>\n",
       "      <td>1.46</td>\n",
       "    </tr>\n",
       "    <tr>\n",
       "      <th>F</th>\n",
       "      <td>1.54</td>\n",
       "      <td>1.53</td>\n",
       "      <td>1.48</td>\n",
       "      <td>1.31</td>\n",
       "      <td>1.28</td>\n",
       "      <td>1.50</td>\n",
       "      <td>1.17</td>\n",
       "      <td>1.33</td>\n",
       "      <td>1.38</td>\n",
       "      <td>1.51</td>\n",
       "      <td>...</td>\n",
       "      <td>1.42</td>\n",
       "      <td>1.56</td>\n",
       "      <td>1.55</td>\n",
       "      <td>1.55</td>\n",
       "      <td>1.40</td>\n",
       "      <td>1.65</td>\n",
       "      <td>1.45</td>\n",
       "      <td>1.24</td>\n",
       "      <td>1.38</td>\n",
       "      <td>1.56</td>\n",
       "    </tr>\n",
       "    <tr>\n",
       "      <th>G</th>\n",
       "      <td>1.79</td>\n",
       "      <td>1.21</td>\n",
       "      <td>1.68</td>\n",
       "      <td>1.48</td>\n",
       "      <td>1.27</td>\n",
       "      <td>1.27</td>\n",
       "      <td>1.33</td>\n",
       "      <td>1.38</td>\n",
       "      <td>1.48</td>\n",
       "      <td>1.44</td>\n",
       "      <td>...</td>\n",
       "      <td>1.12</td>\n",
       "      <td>1.34</td>\n",
       "      <td>1.54</td>\n",
       "      <td>1.30</td>\n",
       "      <td>1.27</td>\n",
       "      <td>1.37</td>\n",
       "      <td>1.41</td>\n",
       "      <td>1.66</td>\n",
       "      <td>1.50</td>\n",
       "      <td>1.65</td>\n",
       "    </tr>\n",
       "  </tbody>\n",
       "</table>\n",
       "<p>7 rows × 105 columns</p>\n",
       "</div>"
      ],
      "text/plain": [
       "        1.1   1.2   1.3   1.4   1.5   1.6   1.7   1.8   2.1   2.2  ...   8.5  \\\n",
       "group                                                              ...         \n",
       "A      1.33  1.60  1.65  1.25  1.34  1.53  1.30  1.36  1.51  1.50  ...  1.37   \n",
       "B      1.40  1.40  1.45  1.38  1.48  1.38  1.52  1.34  1.40  1.34  ...  1.43   \n",
       "C      1.48  1.41  1.39  1.36  1.34  1.51  1.41  1.39  1.52  1.46  ...  1.19   \n",
       "D      1.75  1.18  1.50  1.25  1.48  1.51  1.44  1.16  1.53  1.53  ...  1.33   \n",
       "E      1.39  1.36  1.47  1.42  1.34  1.30  1.27  1.51  1.45  1.15  ...  1.65   \n",
       "F      1.54  1.53  1.48  1.31  1.28  1.50  1.17  1.33  1.38  1.51  ...  1.42   \n",
       "G      1.79  1.21  1.68  1.48  1.27  1.27  1.33  1.38  1.48  1.44  ...  1.12   \n",
       "\n",
       "        8.6   8.7   8.8   8.9  8.10  8.11  8.12  8.13  8.14  \n",
       "group                                                        \n",
       "A      1.47  1.51  1.12  1.12  1.56  1.36  1.28  1.33  1.55  \n",
       "B      1.40  1.32  1.38  1.48  1.51  1.44  1.40  1.44  1.40  \n",
       "C      1.33  1.22  1.63  1.44  1.17  1.37  1.45  1.29  1.59  \n",
       "D      1.41  1.49  1.40  1.40  1.38  1.53  1.53  1.66  1.43  \n",
       "E      1.49  1.38  1.32  1.36  1.32  1.52  1.39  1.27  1.46  \n",
       "F      1.56  1.55  1.55  1.40  1.65  1.45  1.24  1.38  1.56  \n",
       "G      1.34  1.54  1.30  1.27  1.37  1.41  1.66  1.50  1.65  \n",
       "\n",
       "[7 rows x 105 columns]"
      ]
     },
     "execution_count": 47,
     "metadata": {},
     "output_type": "execute_result"
    }
   ],
   "source": [
    "summary_std=pd.DataFrame(survey.groupby('group').std().apply(lambda x: round(x,2)))\n",
    "\n",
    "summary_std.drop('ID', axis=1)"
   ]
  },
  {
   "cell_type": "code",
   "execution_count": 48,
   "metadata": {},
   "outputs": [
    {
     "data": {
      "text/html": [
       "<div>\n",
       "<style scoped>\n",
       "    .dataframe tbody tr th:only-of-type {\n",
       "        vertical-align: middle;\n",
       "    }\n",
       "\n",
       "    .dataframe tbody tr th {\n",
       "        vertical-align: top;\n",
       "    }\n",
       "\n",
       "    .dataframe thead th {\n",
       "        text-align: right;\n",
       "    }\n",
       "</style>\n",
       "<table border=\"1\" class=\"dataframe\">\n",
       "  <thead>\n",
       "    <tr style=\"text-align: right;\">\n",
       "      <th></th>\n",
       "      <th>1.1</th>\n",
       "      <th>1.2</th>\n",
       "      <th>1.3</th>\n",
       "      <th>1.4</th>\n",
       "      <th>1.5</th>\n",
       "      <th>1.6</th>\n",
       "      <th>1.7</th>\n",
       "      <th>1.8</th>\n",
       "      <th>2.1</th>\n",
       "      <th>2.2</th>\n",
       "      <th>...</th>\n",
       "      <th>8.5</th>\n",
       "      <th>8.6</th>\n",
       "      <th>8.7</th>\n",
       "      <th>8.8</th>\n",
       "      <th>8.9</th>\n",
       "      <th>8.10</th>\n",
       "      <th>8.11</th>\n",
       "      <th>8.12</th>\n",
       "      <th>8.13</th>\n",
       "      <th>8.14</th>\n",
       "    </tr>\n",
       "    <tr>\n",
       "      <th>group</th>\n",
       "      <th></th>\n",
       "      <th></th>\n",
       "      <th></th>\n",
       "      <th></th>\n",
       "      <th></th>\n",
       "      <th></th>\n",
       "      <th></th>\n",
       "      <th></th>\n",
       "      <th></th>\n",
       "      <th></th>\n",
       "      <th></th>\n",
       "      <th></th>\n",
       "      <th></th>\n",
       "      <th></th>\n",
       "      <th></th>\n",
       "      <th></th>\n",
       "      <th></th>\n",
       "      <th></th>\n",
       "      <th></th>\n",
       "      <th></th>\n",
       "      <th></th>\n",
       "    </tr>\n",
       "  </thead>\n",
       "  <tbody>\n",
       "    <tr>\n",
       "      <th>A</th>\n",
       "      <td>0.24</td>\n",
       "      <td>-0.34</td>\n",
       "      <td>-0.37</td>\n",
       "      <td>0.25</td>\n",
       "      <td>-0.62</td>\n",
       "      <td>0.10</td>\n",
       "      <td>0.15</td>\n",
       "      <td>-0.04</td>\n",
       "      <td>0.08</td>\n",
       "      <td>-0.16</td>\n",
       "      <td>...</td>\n",
       "      <td>0.19</td>\n",
       "      <td>-0.15</td>\n",
       "      <td>-0.26</td>\n",
       "      <td>-0.30</td>\n",
       "      <td>0.34</td>\n",
       "      <td>-0.09</td>\n",
       "      <td>-0.73</td>\n",
       "      <td>0.34</td>\n",
       "      <td>-0.33</td>\n",
       "      <td>0.00</td>\n",
       "    </tr>\n",
       "    <tr>\n",
       "      <th>B</th>\n",
       "      <td>0.07</td>\n",
       "      <td>-0.21</td>\n",
       "      <td>0.30</td>\n",
       "      <td>-0.20</td>\n",
       "      <td>-0.01</td>\n",
       "      <td>0.15</td>\n",
       "      <td>0.13</td>\n",
       "      <td>0.05</td>\n",
       "      <td>0.06</td>\n",
       "      <td>0.24</td>\n",
       "      <td>...</td>\n",
       "      <td>-0.09</td>\n",
       "      <td>0.03</td>\n",
       "      <td>0.13</td>\n",
       "      <td>0.20</td>\n",
       "      <td>0.17</td>\n",
       "      <td>0.24</td>\n",
       "      <td>0.17</td>\n",
       "      <td>-0.01</td>\n",
       "      <td>-0.12</td>\n",
       "      <td>-0.15</td>\n",
       "    </tr>\n",
       "    <tr>\n",
       "      <th>C</th>\n",
       "      <td>0.33</td>\n",
       "      <td>-0.14</td>\n",
       "      <td>0.67</td>\n",
       "      <td>0.10</td>\n",
       "      <td>0.07</td>\n",
       "      <td>-0.14</td>\n",
       "      <td>-0.28</td>\n",
       "      <td>-0.26</td>\n",
       "      <td>0.55</td>\n",
       "      <td>-0.25</td>\n",
       "      <td>...</td>\n",
       "      <td>0.14</td>\n",
       "      <td>0.81</td>\n",
       "      <td>-0.46</td>\n",
       "      <td>-0.21</td>\n",
       "      <td>0.11</td>\n",
       "      <td>-0.00</td>\n",
       "      <td>0.65</td>\n",
       "      <td>0.53</td>\n",
       "      <td>0.07</td>\n",
       "      <td>-0.08</td>\n",
       "    </tr>\n",
       "    <tr>\n",
       "      <th>D</th>\n",
       "      <td>-0.14</td>\n",
       "      <td>0.31</td>\n",
       "      <td>0.26</td>\n",
       "      <td>-0.11</td>\n",
       "      <td>0.10</td>\n",
       "      <td>0.18</td>\n",
       "      <td>0.37</td>\n",
       "      <td>0.75</td>\n",
       "      <td>-0.08</td>\n",
       "      <td>0.08</td>\n",
       "      <td>...</td>\n",
       "      <td>0.04</td>\n",
       "      <td>0.05</td>\n",
       "      <td>-0.17</td>\n",
       "      <td>-0.50</td>\n",
       "      <td>-0.28</td>\n",
       "      <td>-0.32</td>\n",
       "      <td>0.86</td>\n",
       "      <td>0.00</td>\n",
       "      <td>0.08</td>\n",
       "      <td>0.09</td>\n",
       "    </tr>\n",
       "    <tr>\n",
       "      <th>E</th>\n",
       "      <td>0.27</td>\n",
       "      <td>-0.24</td>\n",
       "      <td>-0.52</td>\n",
       "      <td>0.04</td>\n",
       "      <td>0.22</td>\n",
       "      <td>0.11</td>\n",
       "      <td>0.24</td>\n",
       "      <td>-0.15</td>\n",
       "      <td>0.19</td>\n",
       "      <td>-0.35</td>\n",
       "      <td>...</td>\n",
       "      <td>-0.26</td>\n",
       "      <td>-0.68</td>\n",
       "      <td>-0.08</td>\n",
       "      <td>0.00</td>\n",
       "      <td>0.35</td>\n",
       "      <td>0.28</td>\n",
       "      <td>0.28</td>\n",
       "      <td>0.37</td>\n",
       "      <td>-0.05</td>\n",
       "      <td>0.26</td>\n",
       "    </tr>\n",
       "    <tr>\n",
       "      <th>F</th>\n",
       "      <td>-0.17</td>\n",
       "      <td>0.10</td>\n",
       "      <td>0.25</td>\n",
       "      <td>0.14</td>\n",
       "      <td>0.29</td>\n",
       "      <td>0.64</td>\n",
       "      <td>0.20</td>\n",
       "      <td>-0.33</td>\n",
       "      <td>0.81</td>\n",
       "      <td>0.06</td>\n",
       "      <td>...</td>\n",
       "      <td>0.05</td>\n",
       "      <td>0.09</td>\n",
       "      <td>0.17</td>\n",
       "      <td>-0.00</td>\n",
       "      <td>0.50</td>\n",
       "      <td>-0.25</td>\n",
       "      <td>-0.29</td>\n",
       "      <td>-0.47</td>\n",
       "      <td>-0.07</td>\n",
       "      <td>-0.17</td>\n",
       "    </tr>\n",
       "    <tr>\n",
       "      <th>G</th>\n",
       "      <td>-0.11</td>\n",
       "      <td>0.33</td>\n",
       "      <td>0.20</td>\n",
       "      <td>0.05</td>\n",
       "      <td>0.10</td>\n",
       "      <td>-0.29</td>\n",
       "      <td>0.21</td>\n",
       "      <td>0.21</td>\n",
       "      <td>0.51</td>\n",
       "      <td>0.29</td>\n",
       "      <td>...</td>\n",
       "      <td>0.20</td>\n",
       "      <td>0.01</td>\n",
       "      <td>-0.01</td>\n",
       "      <td>-0.32</td>\n",
       "      <td>0.29</td>\n",
       "      <td>-0.53</td>\n",
       "      <td>-0.26</td>\n",
       "      <td>-0.10</td>\n",
       "      <td>-0.60</td>\n",
       "      <td>0.26</td>\n",
       "    </tr>\n",
       "  </tbody>\n",
       "</table>\n",
       "<p>7 rows × 105 columns</p>\n",
       "</div>"
      ],
      "text/plain": [
       "        1.1   1.2   1.3   1.4   1.5   1.6   1.7   1.8   2.1   2.2  ...   8.5  \\\n",
       "group                                                              ...         \n",
       "A      0.24 -0.34 -0.37  0.25 -0.62  0.10  0.15 -0.04  0.08 -0.16  ...  0.19   \n",
       "B      0.07 -0.21  0.30 -0.20 -0.01  0.15  0.13  0.05  0.06  0.24  ... -0.09   \n",
       "C      0.33 -0.14  0.67  0.10  0.07 -0.14 -0.28 -0.26  0.55 -0.25  ...  0.14   \n",
       "D     -0.14  0.31  0.26 -0.11  0.10  0.18  0.37  0.75 -0.08  0.08  ...  0.04   \n",
       "E      0.27 -0.24 -0.52  0.04  0.22  0.11  0.24 -0.15  0.19 -0.35  ... -0.26   \n",
       "F     -0.17  0.10  0.25  0.14  0.29  0.64  0.20 -0.33  0.81  0.06  ...  0.05   \n",
       "G     -0.11  0.33  0.20  0.05  0.10 -0.29  0.21  0.21  0.51  0.29  ...  0.20   \n",
       "\n",
       "        8.6   8.7   8.8   8.9  8.10  8.11  8.12  8.13  8.14  \n",
       "group                                                        \n",
       "A     -0.15 -0.26 -0.30  0.34 -0.09 -0.73  0.34 -0.33  0.00  \n",
       "B      0.03  0.13  0.20  0.17  0.24  0.17 -0.01 -0.12 -0.15  \n",
       "C      0.81 -0.46 -0.21  0.11 -0.00  0.65  0.53  0.07 -0.08  \n",
       "D      0.05 -0.17 -0.50 -0.28 -0.32  0.86  0.00  0.08  0.09  \n",
       "E     -0.68 -0.08  0.00  0.35  0.28  0.28  0.37 -0.05  0.26  \n",
       "F      0.09  0.17 -0.00  0.50 -0.25 -0.29 -0.47 -0.07 -0.17  \n",
       "G      0.01 -0.01 -0.32  0.29 -0.53 -0.26 -0.10 -0.60  0.26  \n",
       "\n",
       "[7 rows x 105 columns]"
      ]
     },
     "execution_count": 48,
     "metadata": {},
     "output_type": "execute_result"
    }
   ],
   "source": [
    "summary_skew=pd.DataFrame(survey.groupby('group').skew().apply(lambda x: round(x,2)))\n",
    "\n",
    "summary_skew.drop('ID', axis=1)"
   ]
  },
  {
   "cell_type": "code",
   "execution_count": 52,
   "metadata": {},
   "outputs": [
    {
     "data": {
      "text/html": [
       "<div>\n",
       "<style scoped>\n",
       "    .dataframe tbody tr th:only-of-type {\n",
       "        vertical-align: middle;\n",
       "    }\n",
       "\n",
       "    .dataframe tbody tr th {\n",
       "        vertical-align: top;\n",
       "    }\n",
       "\n",
       "    .dataframe thead th {\n",
       "        text-align: right;\n",
       "    }\n",
       "</style>\n",
       "<table border=\"1\" class=\"dataframe\">\n",
       "  <thead>\n",
       "    <tr style=\"text-align: right;\">\n",
       "      <th></th>\n",
       "      <th>1.1</th>\n",
       "      <th>1.2</th>\n",
       "      <th>1.3</th>\n",
       "      <th>1.4</th>\n",
       "      <th>1.5</th>\n",
       "      <th>1.6</th>\n",
       "      <th>1.7</th>\n",
       "      <th>1.8</th>\n",
       "      <th>2.1</th>\n",
       "      <th>2.2</th>\n",
       "      <th>...</th>\n",
       "      <th>8.5</th>\n",
       "      <th>8.6</th>\n",
       "      <th>8.7</th>\n",
       "      <th>8.8</th>\n",
       "      <th>8.9</th>\n",
       "      <th>8.10</th>\n",
       "      <th>8.11</th>\n",
       "      <th>8.12</th>\n",
       "      <th>8.13</th>\n",
       "      <th>8.14</th>\n",
       "    </tr>\n",
       "    <tr>\n",
       "      <th>group</th>\n",
       "      <th></th>\n",
       "      <th></th>\n",
       "      <th></th>\n",
       "      <th></th>\n",
       "      <th></th>\n",
       "      <th></th>\n",
       "      <th></th>\n",
       "      <th></th>\n",
       "      <th></th>\n",
       "      <th></th>\n",
       "      <th></th>\n",
       "      <th></th>\n",
       "      <th></th>\n",
       "      <th></th>\n",
       "      <th></th>\n",
       "      <th></th>\n",
       "      <th></th>\n",
       "      <th></th>\n",
       "      <th></th>\n",
       "      <th></th>\n",
       "      <th></th>\n",
       "    </tr>\n",
       "  </thead>\n",
       "  <tbody>\n",
       "    <tr>\n",
       "      <th>A</th>\n",
       "      <td>-0.89</td>\n",
       "      <td>-1.41</td>\n",
       "      <td>-1.55</td>\n",
       "      <td>-1.09</td>\n",
       "      <td>-0.68</td>\n",
       "      <td>-1.48</td>\n",
       "      <td>-0.75</td>\n",
       "      <td>-1.13</td>\n",
       "      <td>-1.53</td>\n",
       "      <td>-1.35</td>\n",
       "      <td>...</td>\n",
       "      <td>-0.95</td>\n",
       "      <td>-1.18</td>\n",
       "      <td>-1.36</td>\n",
       "      <td>-0.29</td>\n",
       "      <td>-0.81</td>\n",
       "      <td>-1.62</td>\n",
       "      <td>-0.59</td>\n",
       "      <td>-0.76</td>\n",
       "      <td>-0.90</td>\n",
       "      <td>-1.56</td>\n",
       "    </tr>\n",
       "    <tr>\n",
       "      <th>B</th>\n",
       "      <td>-1.20</td>\n",
       "      <td>-1.27</td>\n",
       "      <td>-1.19</td>\n",
       "      <td>-1.22</td>\n",
       "      <td>-1.42</td>\n",
       "      <td>-1.20</td>\n",
       "      <td>-1.45</td>\n",
       "      <td>-1.22</td>\n",
       "      <td>-1.25</td>\n",
       "      <td>-1.02</td>\n",
       "      <td>...</td>\n",
       "      <td>-1.35</td>\n",
       "      <td>-1.23</td>\n",
       "      <td>-1.11</td>\n",
       "      <td>-1.22</td>\n",
       "      <td>-1.39</td>\n",
       "      <td>-1.42</td>\n",
       "      <td>-1.32</td>\n",
       "      <td>-1.26</td>\n",
       "      <td>-1.46</td>\n",
       "      <td>-1.26</td>\n",
       "    </tr>\n",
       "    <tr>\n",
       "      <th>C</th>\n",
       "      <td>-1.31</td>\n",
       "      <td>-1.27</td>\n",
       "      <td>-0.54</td>\n",
       "      <td>-1.16</td>\n",
       "      <td>-0.90</td>\n",
       "      <td>-1.34</td>\n",
       "      <td>-1.19</td>\n",
       "      <td>-1.27</td>\n",
       "      <td>-1.12</td>\n",
       "      <td>-1.38</td>\n",
       "      <td>...</td>\n",
       "      <td>-1.00</td>\n",
       "      <td>-0.34</td>\n",
       "      <td>-0.79</td>\n",
       "      <td>-1.65</td>\n",
       "      <td>-1.33</td>\n",
       "      <td>-0.68</td>\n",
       "      <td>-0.72</td>\n",
       "      <td>-1.10</td>\n",
       "      <td>-1.01</td>\n",
       "      <td>-1.68</td>\n",
       "    </tr>\n",
       "    <tr>\n",
       "      <th>D</th>\n",
       "      <td>-1.79</td>\n",
       "      <td>-0.43</td>\n",
       "      <td>-1.45</td>\n",
       "      <td>-1.24</td>\n",
       "      <td>-1.39</td>\n",
       "      <td>-1.35</td>\n",
       "      <td>-1.22</td>\n",
       "      <td>0.06</td>\n",
       "      <td>-1.46</td>\n",
       "      <td>-1.46</td>\n",
       "      <td>...</td>\n",
       "      <td>-1.09</td>\n",
       "      <td>-1.24</td>\n",
       "      <td>-1.42</td>\n",
       "      <td>-0.86</td>\n",
       "      <td>-1.29</td>\n",
       "      <td>-1.03</td>\n",
       "      <td>-0.64</td>\n",
       "      <td>-1.62</td>\n",
       "      <td>-1.72</td>\n",
       "      <td>-1.30</td>\n",
       "    </tr>\n",
       "    <tr>\n",
       "      <th>E</th>\n",
       "      <td>-1.04</td>\n",
       "      <td>-1.20</td>\n",
       "      <td>-1.00</td>\n",
       "      <td>-1.25</td>\n",
       "      <td>-0.99</td>\n",
       "      <td>-1.22</td>\n",
       "      <td>-0.59</td>\n",
       "      <td>-1.49</td>\n",
       "      <td>-1.26</td>\n",
       "      <td>-0.54</td>\n",
       "      <td>...</td>\n",
       "      <td>-1.68</td>\n",
       "      <td>-1.05</td>\n",
       "      <td>-1.26</td>\n",
       "      <td>-1.00</td>\n",
       "      <td>-1.22</td>\n",
       "      <td>-1.15</td>\n",
       "      <td>-1.45</td>\n",
       "      <td>-0.99</td>\n",
       "      <td>-0.93</td>\n",
       "      <td>-1.21</td>\n",
       "    </tr>\n",
       "    <tr>\n",
       "      <th>F</th>\n",
       "      <td>-1.50</td>\n",
       "      <td>-1.48</td>\n",
       "      <td>-1.20</td>\n",
       "      <td>-0.84</td>\n",
       "      <td>-0.78</td>\n",
       "      <td>-1.08</td>\n",
       "      <td>-0.36</td>\n",
       "      <td>-0.90</td>\n",
       "      <td>-0.62</td>\n",
       "      <td>-1.51</td>\n",
       "      <td>...</td>\n",
       "      <td>-1.32</td>\n",
       "      <td>-1.60</td>\n",
       "      <td>-1.43</td>\n",
       "      <td>-1.56</td>\n",
       "      <td>-0.86</td>\n",
       "      <td>-1.66</td>\n",
       "      <td>-1.13</td>\n",
       "      <td>-0.58</td>\n",
       "      <td>-1.28</td>\n",
       "      <td>-1.43</td>\n",
       "    </tr>\n",
       "    <tr>\n",
       "      <th>G</th>\n",
       "      <td>-1.96</td>\n",
       "      <td>-0.82</td>\n",
       "      <td>-1.75</td>\n",
       "      <td>-1.61</td>\n",
       "      <td>-1.23</td>\n",
       "      <td>-0.86</td>\n",
       "      <td>-0.95</td>\n",
       "      <td>-1.18</td>\n",
       "      <td>-1.20</td>\n",
       "      <td>-1.32</td>\n",
       "      <td>...</td>\n",
       "      <td>-1.31</td>\n",
       "      <td>-1.19</td>\n",
       "      <td>-1.57</td>\n",
       "      <td>-0.72</td>\n",
       "      <td>-0.86</td>\n",
       "      <td>-1.00</td>\n",
       "      <td>-1.00</td>\n",
       "      <td>-1.73</td>\n",
       "      <td>-1.16</td>\n",
       "      <td>-1.77</td>\n",
       "    </tr>\n",
       "  </tbody>\n",
       "</table>\n",
       "<p>7 rows × 105 columns</p>\n",
       "</div>"
      ],
      "text/plain": [
       "        1.1   1.2   1.3   1.4   1.5   1.6   1.7   1.8   2.1   2.2  ...   8.5  \\\n",
       "group                                                              ...         \n",
       "A     -0.89 -1.41 -1.55 -1.09 -0.68 -1.48 -0.75 -1.13 -1.53 -1.35  ... -0.95   \n",
       "B     -1.20 -1.27 -1.19 -1.22 -1.42 -1.20 -1.45 -1.22 -1.25 -1.02  ... -1.35   \n",
       "C     -1.31 -1.27 -0.54 -1.16 -0.90 -1.34 -1.19 -1.27 -1.12 -1.38  ... -1.00   \n",
       "D     -1.79 -0.43 -1.45 -1.24 -1.39 -1.35 -1.22  0.06 -1.46 -1.46  ... -1.09   \n",
       "E     -1.04 -1.20 -1.00 -1.25 -0.99 -1.22 -0.59 -1.49 -1.26 -0.54  ... -1.68   \n",
       "F     -1.50 -1.48 -1.20 -0.84 -0.78 -1.08 -0.36 -0.90 -0.62 -1.51  ... -1.32   \n",
       "G     -1.96 -0.82 -1.75 -1.61 -1.23 -0.86 -0.95 -1.18 -1.20 -1.32  ... -1.31   \n",
       "\n",
       "        8.6   8.7   8.8   8.9  8.10  8.11  8.12  8.13  8.14  \n",
       "group                                                        \n",
       "A     -1.18 -1.36 -0.29 -0.81 -1.62 -0.59 -0.76 -0.90 -1.56  \n",
       "B     -1.23 -1.11 -1.22 -1.39 -1.42 -1.32 -1.26 -1.46 -1.26  \n",
       "C     -0.34 -0.79 -1.65 -1.33 -0.68 -0.72 -1.10 -1.01 -1.68  \n",
       "D     -1.24 -1.42 -0.86 -1.29 -1.03 -0.64 -1.62 -1.72 -1.30  \n",
       "E     -1.05 -1.26 -1.00 -1.22 -1.15 -1.45 -0.99 -0.93 -1.21  \n",
       "F     -1.60 -1.43 -1.56 -0.86 -1.66 -1.13 -0.58 -1.28 -1.43  \n",
       "G     -1.19 -1.57 -0.72 -0.86 -1.00 -1.00 -1.73 -1.16 -1.77  \n",
       "\n",
       "[7 rows x 105 columns]"
      ]
     },
     "execution_count": 52,
     "metadata": {},
     "output_type": "execute_result"
    }
   ],
   "source": [
    "summary_kurt=pd.DataFrame(survey.groupby('group').apply(pd.DataFrame.kurt).apply(lambda x: round(x,2)))\n",
    "\n",
    "summary_kurt.drop('ID', axis=1)"
   ]
  },
  {
   "cell_type": "markdown",
   "metadata": {},
   "source": [
    "### 3-2 응답항목별 차이가 있는지 분석"
   ]
  },
  {
   "cell_type": "markdown",
   "metadata": {},
   "source": [
    "분산분석을 하는것 같긴한데 앞서 어떤식으로 진행해야하는지 개념에 대한 이해 부족"
   ]
  },
  {
   "cell_type": "code",
   "execution_count": null,
   "metadata": {},
   "outputs": [],
   "source": []
  },
  {
   "cell_type": "markdown",
   "metadata": {},
   "source": [
    "### 3-3 탐색적 요인분석 수행"
   ]
  },
  {
   "cell_type": "code",
   "execution_count": 62,
   "metadata": {},
   "outputs": [],
   "source": [
    "from sklearn.decomposition import FactorAnalysis"
   ]
  },
  {
   "cell_type": "code",
   "execution_count": null,
   "metadata": {},
   "outputs": [],
   "source": []
  },
  {
   "cell_type": "code",
   "execution_count": null,
   "metadata": {},
   "outputs": [],
   "source": []
  },
  {
   "cell_type": "markdown",
   "metadata": {},
   "source": [
    "### 3-4 신뢰성 지수를 개발하는 문제 항목별 신뢰성 지수\n",
    "\n",
    "- 신뢰성지수 : (n*r_mean)/(1+(n-1)*(r_mean))"
   ]
  },
  {
   "cell_type": "code",
   "execution_count": null,
   "metadata": {},
   "outputs": [],
   "source": []
  },
  {
   "cell_type": "code",
   "execution_count": null,
   "metadata": {},
   "outputs": [],
   "source": []
  },
  {
   "cell_type": "code",
   "execution_count": null,
   "metadata": {},
   "outputs": [],
   "source": []
  },
  {
   "cell_type": "code",
   "execution_count": null,
   "metadata": {},
   "outputs": [],
   "source": []
  }
 ],
 "metadata": {
  "kernelspec": {
   "display_name": "Python 3",
   "language": "python",
   "name": "python3"
  },
  "language_info": {
   "codemirror_mode": {
    "name": "ipython",
    "version": 3
   },
   "file_extension": ".py",
   "mimetype": "text/x-python",
   "name": "python",
   "nbconvert_exporter": "python",
   "pygments_lexer": "ipython3",
   "version": "3.7.6"
  }
 },
 "nbformat": 4,
 "nbformat_minor": 4
}
