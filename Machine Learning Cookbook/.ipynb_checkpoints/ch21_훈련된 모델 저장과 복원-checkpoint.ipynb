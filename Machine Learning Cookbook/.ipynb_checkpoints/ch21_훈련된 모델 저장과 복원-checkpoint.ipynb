{
 "cells": [
  {
   "cell_type": "markdown",
   "metadata": {
    "id": "7Cy9io1ndcJ1"
   },
   "source": [
    "## 사이킷런 모델을 저장하고 복원하기"
   ]
  },
  {
   "cell_type": "code",
   "execution_count": 1,
   "metadata": {
    "executionInfo": {
     "elapsed": 2288,
     "status": "ok",
     "timestamp": 1606225035618,
     "user": {
      "displayName": "강의현",
      "photoUrl": "",
      "userId": "04564851941527634728"
     },
     "user_tz": -540
    },
    "id": "0lK2_6KneHIO"
   },
   "outputs": [],
   "source": [
    "from sklearn.ensemble import RandomForestClassifier\n",
    "from sklearn import datasets\n",
    "import joblib"
   ]
  },
  {
   "cell_type": "code",
   "execution_count": 2,
   "metadata": {
    "executionInfo": {
     "elapsed": 1173,
     "status": "ok",
     "timestamp": 1606225048815,
     "user": {
      "displayName": "강의현",
      "photoUrl": "",
      "userId": "04564851941527634728"
     },
     "user_tz": -540
    },
    "id": "B5Vzy9bQeM6G"
   },
   "outputs": [],
   "source": [
    "iris=datasets.load_iris()\n",
    "\n",
    "features=iris.data\n",
    "target=iris.target"
   ]
  },
  {
   "cell_type": "code",
   "execution_count": 3,
   "metadata": {
    "executionInfo": {
     "elapsed": 828,
     "status": "ok",
     "timestamp": 1606225063514,
     "user": {
      "displayName": "강의현",
      "photoUrl": "",
      "userId": "04564851941527634728"
     },
     "user_tz": -540
    },
    "id": "UBPDjvyIeTAp"
   },
   "outputs": [],
   "source": [
    "# 결정 트리 분류기 객체 생성\n",
    "\n",
    "classifier=RandomForestClassifier()"
   ]
  },
  {
   "cell_type": "code",
   "execution_count": 4,
   "metadata": {
    "executionInfo": {
     "elapsed": 1145,
     "status": "ok",
     "timestamp": 1606225078025,
     "user": {
      "displayName": "강의현",
      "photoUrl": "",
      "userId": "04564851941527634728"
     },
     "user_tz": -540
    },
    "id": "ZrGxKvyOeWrd"
   },
   "outputs": [],
   "source": [
    "# 모델 훈련\n",
    "\n",
    "model=classifier.fit(features, target)"
   ]
  },
  {
   "cell_type": "code",
   "execution_count": 5,
   "metadata": {
    "colab": {
     "base_uri": "https://localhost:8080/"
    },
    "executionInfo": {
     "elapsed": 858,
     "status": "ok",
     "timestamp": 1606225097554,
     "user": {
      "displayName": "강의현",
      "photoUrl": "",
      "userId": "04564851941527634728"
     },
     "user_tz": -540
    },
    "id": "gG2gUMZJeaJj",
    "outputId": "e94d028e-4061-4893-bf58-f7c0654205f6"
   },
   "outputs": [
    {
     "data": {
      "text/plain": [
       "['model.pkl']"
      ]
     },
     "execution_count": 5,
     "metadata": {
      "tags": []
     },
     "output_type": "execute_result"
    }
   ],
   "source": [
    "# 모델을 피클 파일로 저장\n",
    "\n",
    "joblib.dump(model, 'model.pkl')"
   ]
  },
  {
   "cell_type": "markdown",
   "metadata": {
    "id": "wORuSIAKee_P"
   },
   "source": [
    "모델을 저장하고 나면 필요한 어플리케이션에서 사이킷런으로 모델을 복원할 수 있다"
   ]
  },
  {
   "cell_type": "code",
   "execution_count": 6,
   "metadata": {
    "executionInfo": {
     "elapsed": 857,
     "status": "ok",
     "timestamp": 1606225136085,
     "user": {
      "displayName": "강의현",
      "photoUrl": "",
      "userId": "04564851941527634728"
     },
     "user_tz": -540
    },
    "id": "SblERWADejaO"
   },
   "outputs": [],
   "source": [
    "# 파일에서 모델 복원\n",
    "\n",
    "classifier_loaded=joblib.load('model.pkl')"
   ]
  },
  {
   "cell_type": "code",
   "execution_count": 7,
   "metadata": {
    "executionInfo": {
     "elapsed": 877,
     "status": "ok",
     "timestamp": 1606225152195,
     "user": {
      "displayName": "강의현",
      "photoUrl": "",
      "userId": "04564851941527634728"
     },
     "user_tz": -540
    },
    "id": "dwwccluNeoZR"
   },
   "outputs": [],
   "source": [
    "# 복원된 모델로 예측 수행\n",
    "\n",
    "new_observation=[[5.2,3.2,1.1,0.1]]"
   ]
  },
  {
   "cell_type": "code",
   "execution_count": 8,
   "metadata": {
    "colab": {
     "base_uri": "https://localhost:8080/"
    },
    "executionInfo": {
     "elapsed": 869,
     "status": "ok",
     "timestamp": 1606225166970,
     "user": {
      "displayName": "강의현",
      "photoUrl": "",
      "userId": "04564851941527634728"
     },
     "user_tz": -540
    },
    "id": "5JiESc8mesUo",
    "outputId": "03e0d9de-c40b-4f21-ff42-e8ce8637af73"
   },
   "outputs": [
    {
     "data": {
      "text/plain": [
       "array([0])"
      ]
     },
     "execution_count": 8,
     "metadata": {
      "tags": []
     },
     "output_type": "execute_result"
    }
   ],
   "source": [
    "# 샘플의 클래스 예측\n",
    "\n",
    "classifier.predict(new_observation)"
   ]
  },
  {
   "cell_type": "markdown",
   "metadata": {
    "id": "TI5wvg99ev7n"
   },
   "source": [
    "혹시 모를 사이킷런 버전 간의 호환을 유의하기 위해\n",
    "파일 이름에 모델에 사용된 사이킷런 버전을 포함시키는 것이 좋다"
   ]
  },
  {
   "cell_type": "code",
   "execution_count": 9,
   "metadata": {
    "executionInfo": {
     "elapsed": 851,
     "status": "ok",
     "timestamp": 1606225228612,
     "user": {
      "displayName": "강의현",
      "photoUrl": "",
      "userId": "04564851941527634728"
     },
     "user_tz": -540
    },
    "id": "ebku3kbRe7QR"
   },
   "outputs": [],
   "source": [
    "import sklearn\n",
    "\n",
    "scikit_version=sklearn.__version__"
   ]
  },
  {
   "cell_type": "code",
   "execution_count": 10,
   "metadata": {
    "colab": {
     "base_uri": "https://localhost:8080/"
    },
    "executionInfo": {
     "elapsed": 975,
     "status": "ok",
     "timestamp": 1606225249263,
     "user": {
      "displayName": "강의현",
      "photoUrl": "",
      "userId": "04564851941527634728"
     },
     "user_tz": -540
    },
    "id": "oE3Oib22e-_F",
    "outputId": "bc1d27dc-eac8-4b92-8593-3a57a353c686"
   },
   "outputs": [
    {
     "data": {
      "text/plain": [
       "['model_0.22.2.post1.pkl']"
      ]
     },
     "execution_count": 10,
     "metadata": {
      "tags": []
     },
     "output_type": "execute_result"
    }
   ],
   "source": [
    "# 모델을 피클 파일로 저장\n",
    "\n",
    "joblib.dump(model,'model_{version}.pkl'.format(version=scikit_version))"
   ]
  },
  {
   "cell_type": "markdown",
   "metadata": {
    "id": "3rkmJ0VefD_5"
   },
   "source": [
    "## 케라스 모델을 저장하고 복원하기"
   ]
  },
  {
   "cell_type": "code",
   "execution_count": 11,
   "metadata": {
    "executionInfo": {
     "elapsed": 876,
     "status": "ok",
     "timestamp": 1606225873049,
     "user": {
      "displayName": "강의현",
      "photoUrl": "",
      "userId": "04564851941527634728"
     },
     "user_tz": -540
    },
    "id": "v45H-4qyfuBq"
   },
   "outputs": [],
   "source": [
    "import numpy as np\n",
    "from keras.datasets import imdb\n",
    "from keras.preprocessing.text import Tokenizer\n",
    "from keras import models\n",
    "from keras import layers\n",
    "from keras.models import load_model"
   ]
  },
  {
   "cell_type": "code",
   "execution_count": 12,
   "metadata": {
    "executionInfo": {
     "elapsed": 896,
     "status": "ok",
     "timestamp": 1606225876265,
     "user": {
      "displayName": "강의현",
      "photoUrl": "",
      "userId": "04564851941527634728"
     },
     "user_tz": -540
    },
    "id": "LvKSAKauhb_U"
   },
   "outputs": [],
   "source": [
    "np.random.seed(0)"
   ]
  },
  {
   "cell_type": "code",
   "execution_count": 13,
   "metadata": {
    "executionInfo": {
     "elapsed": 1177,
     "status": "ok",
     "timestamp": 1606225880214,
     "user": {
      "displayName": "강의현",
      "photoUrl": "",
      "userId": "04564851941527634728"
     },
     "user_tz": -540
    },
    "id": "ob7Z79EfhdBZ"
   },
   "outputs": [],
   "source": [
    "number_of_features=1000"
   ]
  },
  {
   "cell_type": "code",
   "execution_count": 14,
   "metadata": {
    "colab": {
     "base_uri": "https://localhost:8080/"
    },
    "executionInfo": {
     "elapsed": 8356,
     "status": "ok",
     "timestamp": 1606225904433,
     "user": {
      "displayName": "강의현",
      "photoUrl": "",
      "userId": "04564851941527634728"
     },
     "user_tz": -540
    },
    "id": "PwQNuaZ9hd_T",
    "outputId": "9dd2bd87-8fdd-4bda-860f-784c873b5daf"
   },
   "outputs": [
    {
     "name": "stdout",
     "output_type": "stream",
     "text": [
      "Downloading data from https://storage.googleapis.com/tensorflow/tf-keras-datasets/imdb.npz\n",
      "17465344/17464789 [==============================] - 0s 0us/step\n"
     ]
    }
   ],
   "source": [
    "(x_train, y_train), (x_test, y_test)=imdb.load_data(num_words=number_of_features)"
   ]
  },
  {
   "cell_type": "code",
   "execution_count": 15,
   "metadata": {
    "executionInfo": {
     "elapsed": 4968,
     "status": "ok",
     "timestamp": 1606225965432,
     "user": {
      "displayName": "강의현",
      "photoUrl": "",
      "userId": "04564851941527634728"
     },
     "user_tz": -540
    },
    "id": "RErV1VPahiJg"
   },
   "outputs": [],
   "source": [
    "tokenizer=Tokenizer(num_words=number_of_features)\n",
    "train_features=tokenizer.sequences_to_matrix(x_train, mode='binary')\n",
    "test_features=tokenizer.sequences_to_matrix(x_test, mode='binary')"
   ]
  },
  {
   "cell_type": "code",
   "execution_count": 16,
   "metadata": {
    "executionInfo": {
     "elapsed": 1216,
     "status": "ok",
     "timestamp": 1606226006128,
     "user": {
      "displayName": "강의현",
      "photoUrl": "",
      "userId": "04564851941527634728"
     },
     "user_tz": -540
    },
    "id": "sWexPXbThx3i"
   },
   "outputs": [],
   "source": [
    "network=models.Sequential()\n",
    "\n",
    "network.add(layers.Dense(units=16, activation='relu', input_shape=(number_of_features,)))\n",
    "network.add(layers.Dense(units=1, activation='sigmoid'))"
   ]
  },
  {
   "cell_type": "code",
   "execution_count": 17,
   "metadata": {
    "executionInfo": {
     "elapsed": 1592,
     "status": "ok",
     "timestamp": 1606226029416,
     "user": {
      "displayName": "강의현",
      "photoUrl": "",
      "userId": "04564851941527634728"
     },
     "user_tz": -540
    },
    "id": "Um23-fgvh8s5"
   },
   "outputs": [],
   "source": [
    "network.compile(loss='binary_crossentropy',\n",
    "                optimizer='rmsprop',\n",
    "                metrics=['accuracy'])"
   ]
  },
  {
   "cell_type": "code",
   "execution_count": 18,
   "metadata": {
    "colab": {
     "base_uri": "https://localhost:8080/"
    },
    "executionInfo": {
     "elapsed": 3855,
     "status": "ok",
     "timestamp": 1606226149043,
     "user": {
      "displayName": "강의현",
      "photoUrl": "",
      "userId": "04564851941527634728"
     },
     "user_tz": -540
    },
    "id": "Tr1X86P4iCUH",
    "outputId": "b20b63c8-0fcf-44de-fb9a-69d1dd6b4c8f"
   },
   "outputs": [
    {
     "name": "stdout",
     "output_type": "stream",
     "text": [
      "Epoch 1/3\n",
      "250/250 [==============================] - 1s 3ms/step - loss: 0.4164 - accuracy: 0.8191 - val_loss: 0.3366 - val_accuracy: 0.8603\n",
      "Epoch 2/3\n",
      "250/250 [==============================] - 1s 2ms/step - loss: 0.3221 - accuracy: 0.8667 - val_loss: 0.3250 - val_accuracy: 0.8628\n",
      "Epoch 3/3\n",
      "250/250 [==============================] - 1s 2ms/step - loss: 0.3135 - accuracy: 0.8702 - val_loss: 0.3384 - val_accuracy: 0.8554\n"
     ]
    }
   ],
   "source": [
    "history=network.fit(train_features,\n",
    "                    y_train,\n",
    "                    epochs=3,\n",
    "                    verbose=1,\n",
    "                    batch_size=100,\n",
    "                    validation_data=(test_features, y_test))"
   ]
  },
  {
   "cell_type": "code",
   "execution_count": 19,
   "metadata": {
    "executionInfo": {
     "elapsed": 1043,
     "status": "ok",
     "timestamp": 1606226175301,
     "user": {
      "displayName": "강의현",
      "photoUrl": "",
      "userId": "04564851941527634728"
     },
     "user_tz": -540
    },
    "id": "EJf4bl7uie94"
   },
   "outputs": [],
   "source": [
    "# 신경망 모델 저장\n",
    "\n",
    "network.save('model.h5')"
   ]
  },
  {
   "cell_type": "code",
   "execution_count": 20,
   "metadata": {
    "executionInfo": {
     "elapsed": 1185,
     "status": "ok",
     "timestamp": 1606226188576,
     "user": {
      "displayName": "강의현",
      "photoUrl": "",
      "userId": "04564851941527634728"
     },
     "user_tz": -540
    },
    "id": "ZGMkEkZZimD_"
   },
   "outputs": [],
   "source": [
    "# 신경망 모델 복원\n",
    "\n",
    "network=load_model('model.h5')"
   ]
  }
 ],
 "metadata": {
  "colab": {
   "authorship_tag": "ABX9TyMoGmfrOTmBHvwOcGUTBxLr",
   "collapsed_sections": [],
   "name": "ch21_훈련된 모델 저장과 복원.ipynb",
   "provenance": []
  },
  "kernelspec": {
   "display_name": "Python 3",
   "language": "python",
   "name": "python3"
  },
  "language_info": {
   "codemirror_mode": {
    "name": "ipython",
    "version": 3
   },
   "file_extension": ".py",
   "mimetype": "text/x-python",
   "name": "python",
   "nbconvert_exporter": "python",
   "pygments_lexer": "ipython3",
   "version": "3.7.6"
  }
 },
 "nbformat": 4,
 "nbformat_minor": 1
}
