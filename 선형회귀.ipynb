{
 "cells": [
  {
   "cell_type": "markdown",
   "metadata": {},
   "source": [
    "## 직선 학습하기"
   ]
  },
  {
   "cell_type": "code",
   "execution_count": 1,
   "metadata": {},
   "outputs": [],
   "source": [
    "from sklearn.linear_model import LinearRegression\n",
    "from sklearn.datasets import load_boston"
   ]
  },
  {
   "cell_type": "code",
   "execution_count": 3,
   "metadata": {},
   "outputs": [],
   "source": [
    "boston=load_boston()\n",
    "features=boston.data[:,0:2]\n",
    "target=boston.target"
   ]
  },
  {
   "cell_type": "code",
   "execution_count": 12,
   "metadata": {},
   "outputs": [],
   "source": [
    "regression=LinearRegression()"
   ]
  },
  {
   "cell_type": "code",
   "execution_count": 13,
   "metadata": {},
   "outputs": [],
   "source": [
    "model=regression.fit(features,target)"
   ]
  },
  {
   "cell_type": "markdown",
   "metadata": {},
   "source": [
    "선형회귀는 특성과 타깃 벡터 사이의 관계가 거의 선형이라고 가정한다.\n",
    "\n",
    "즉 타깃 벡터에 대한 특성의 효과(계수, 가중치, 파라미터 등)은 상수이다."
   ]
  },
  {
   "cell_type": "code",
   "execution_count": 14,
   "metadata": {},
   "outputs": [
    {
     "data": {
      "text/plain": [
       "22.485628113468223"
      ]
     },
     "execution_count": 14,
     "metadata": {},
     "output_type": "execute_result"
    }
   ],
   "source": [
    "# 모델의 절편\n",
    "\n",
    "model.intercept_"
   ]
  },
  {
   "cell_type": "code",
   "execution_count": 15,
   "metadata": {},
   "outputs": [
    {
     "data": {
      "text/plain": [
       "array([-0.35207832,  0.11610909])"
      ]
     },
     "execution_count": 15,
     "metadata": {},
     "output_type": "execute_result"
    }
   ],
   "source": [
    "# 모델 특성 계수\n",
    "\n",
    "model.coef_"
   ]
  },
  {
   "cell_type": "code",
   "execution_count": 16,
   "metadata": {},
   "outputs": [
    {
     "data": {
      "text/plain": [
       "24000.0"
      ]
     },
     "execution_count": 16,
     "metadata": {},
     "output_type": "execute_result"
    }
   ],
   "source": [
    "'''\n",
    "데이터셋에서 타깃값은 1970년대 보스턴 주택의 중간 가격으로 천달러 단위이다.\n",
    "데이터셋에 있는 첫번째 주택 가격은 다음과 같다\n",
    "'''\n",
    "\n",
    "target[0]*1000"
   ]
  },
  {
   "cell_type": "code",
   "execution_count": 17,
   "metadata": {},
   "outputs": [
    {
     "data": {
      "text/plain": [
       "24573.366631705547"
      ]
     },
     "execution_count": 17,
     "metadata": {},
     "output_type": "execute_result"
    }
   ],
   "source": [
    "# predict 메소드를 사용하여 주택값을 예측할 수 있다.\n",
    "\n",
    "model.predict(features)[0]*1000"
   ]
  },
  {
   "cell_type": "markdown",
   "metadata": {},
   "source": [
    "선형 회귀의 주요 장점은 해석이 용이하다는 것이다.\n",
    "\n",
    "모델의 계수는 특성이 타깃값에 미치는 영향의 크기이다."
   ]
  },
  {
   "cell_type": "code",
   "execution_count": 19,
   "metadata": {},
   "outputs": [
    {
     "data": {
      "text/plain": [
       "-352.07831564026765"
      ]
     },
     "execution_count": 19,
     "metadata": {},
     "output_type": "execute_result"
    }
   ],
   "source": [
    "# 1번째 특성인 인당 범죄율이 1 증가할때마다 집값에 미치는 영향 살펴보기\n",
    "\n",
    "model.coef_[0]*1000"
   ]
  },
  {
   "cell_type": "markdown",
   "metadata": {},
   "source": [
    "인구당 범죄율이 1 증가할때마다 집값이 약 $350 정도 감소함을 알 수 있다."
   ]
  },
  {
   "cell_type": "markdown",
   "metadata": {},
   "source": [
    "## 교차 특성 다루기\n",
    "### 타깃 변수에 영향을 미치면서 다른 특성에 의존하는 특성의 의존성 잡기"
   ]
  },
  {
   "cell_type": "code",
   "execution_count": 20,
   "metadata": {},
   "outputs": [],
   "source": [
    "from sklearn.linear_model import LinearRegression\n",
    "from sklearn.datasets import load_boston\n",
    "from sklearn.preprocessing import PolynomialFeatures"
   ]
  },
  {
   "cell_type": "code",
   "execution_count": 21,
   "metadata": {},
   "outputs": [],
   "source": [
    "boston=load_boston()\n",
    "features=boston.data[:,0:2]\n",
    "target=boston.target"
   ]
  },
  {
   "cell_type": "code",
   "execution_count": 24,
   "metadata": {},
   "outputs": [],
   "source": [
    "# 교차항 생성\n",
    "\n",
    "interaction=PolynomialFeatures(degree=3, include_bias=False, interaction_only=True)\n",
    "features_interaction=interaction.fit_transform(features)"
   ]
  },
  {
   "cell_type": "code",
   "execution_count": 25,
   "metadata": {},
   "outputs": [],
   "source": [
    "# 선형 회귀모델 생성\n",
    "\n",
    "reg=LinearRegression()"
   ]
  },
  {
   "cell_type": "code",
   "execution_count": 27,
   "metadata": {},
   "outputs": [],
   "source": [
    "# 선형 회귀모델 훈련\n",
    "\n",
    "model=reg.fit(features_interaction, target)"
   ]
  },
  {
   "cell_type": "markdown",
   "metadata": {},
   "source": [
    "교차항을 만드는 까닭은, 각 특성이 독립적으로 존재할때 타깃에 미치는 영향보다 함께 있음으로써 미치는 영향이 클 경우를 고려하기 때문이다"
   ]
  },
  {
   "cell_type": "code",
   "execution_count": 28,
   "metadata": {},
   "outputs": [
    {
     "data": {
      "text/plain": [
       "array([6.32e-03, 1.80e+01])"
      ]
     },
     "execution_count": 28,
     "metadata": {},
     "output_type": "execute_result"
    }
   ],
   "source": [
    "# 첫번째 특성 확인\n",
    "\n",
    "features[0]"
   ]
  },
  {
   "cell_type": "code",
   "execution_count": 29,
   "metadata": {},
   "outputs": [],
   "source": [
    "import numpy as np\n",
    "\n",
    "# 각 샘플에서 첫번째와 두번째 특성을 곱한다.\n",
    "\n",
    "interaction_term=np.multiply(features[:,0], features[:,1])"
   ]
  },
  {
   "cell_type": "code",
   "execution_count": 30,
   "metadata": {},
   "outputs": [
    {
     "data": {
      "text/plain": [
       "0.11376"
      ]
     },
     "execution_count": 30,
     "metadata": {},
     "output_type": "execute_result"
    }
   ],
   "source": [
    "# 첫번째 샘플의 교차항 확인\n",
    "\n",
    "interaction_term[0]"
   ]
  },
  {
   "cell_type": "markdown",
   "metadata": {},
   "source": [
    "PolynomialFeatures 의 매개변수\n",
    "\n",
    "- interaction_only : True 로 지정할 경우 교차항만 반환\n",
    "- include_bias : False 로 지정할 경우 절편(bias) 라고 불리는 1 값을 추가하지 않음\n",
    "- degree : 교차항을 만들 최대 특성의 수를 결정한다."
   ]
  },
  {
   "cell_type": "code",
   "execution_count": 31,
   "metadata": {},
   "outputs": [
    {
     "data": {
      "text/plain": [
       "array([6.3200e-03, 1.8000e+01, 1.1376e-01])"
      ]
     },
     "execution_count": 31,
     "metadata": {},
     "output_type": "execute_result"
    }
   ],
   "source": [
    "# PolynomialFeatures 를 사용했을 때의 첫번째 교차항 확인\n",
    "\n",
    "features_interaction[0]"
   ]
  },
  {
   "cell_type": "markdown",
   "metadata": {},
   "source": [
    "## 비선형 관계 학습"
   ]
  },
  {
   "cell_type": "code",
   "execution_count": 32,
   "metadata": {},
   "outputs": [],
   "source": [
    "from sklearn.linear_model import LinearRegression\n",
    "from sklearn.datasets import load_boston\n",
    "from sklearn.preprocessing import PolynomialFeatures"
   ]
  },
  {
   "cell_type": "code",
   "execution_count": 33,
   "metadata": {},
   "outputs": [],
   "source": [
    "boston=load_boston()\n",
    "features=boston.data[:,0:1]\n",
    "target=boston.target"
   ]
  },
  {
   "cell_type": "code",
   "execution_count": 34,
   "metadata": {},
   "outputs": [],
   "source": [
    "# 다항특성 x^2, x^3  생성\n",
    "\n",
    "polynomial=PolynomialFeatures(degree=3, include_bias=False)\n",
    "features_poly=polynomial.fit_transform(features)"
   ]
  },
  {
   "cell_type": "code",
   "execution_count": 35,
   "metadata": {},
   "outputs": [],
   "source": [
    "# 선형 회귀 모델을 만든다.\n",
    "\n",
    "reg=LinearRegression()"
   ]
  },
  {
   "cell_type": "code",
   "execution_count": 36,
   "metadata": {},
   "outputs": [],
   "source": [
    "# 모델 훈련\n",
    "\n",
    "model=reg.fit(features_poly, target)"
   ]
  },
  {
   "cell_type": "code",
   "execution_count": 38,
   "metadata": {},
   "outputs": [
    {
     "name": "stdout",
     "output_type": "stream",
     "text": [
      "[0.00632]  첫번째 샘플 값\n",
      "[3.99424e-05]  첫번째 샘플의 거듭제곱 값\n",
      "[2.52435968e-07]  첫번째 샘플의 세제곱 값\n"
     ]
    }
   ],
   "source": [
    "print(features[0],\" 첫번째 샘플 값\")\n",
    "print(features[0]**2,\" 첫번째 샘플의 거듭제곱 값\")\n",
    "print(features[0]**3,\" 첫번째 샘플의 세제곱 값\")"
   ]
  },
  {
   "cell_type": "code",
   "execution_count": 39,
   "metadata": {},
   "outputs": [
    {
     "data": {
      "text/plain": [
       "array([6.32000000e-03, 3.99424000e-05, 2.52435968e-07])"
      ]
     },
     "execution_count": 39,
     "metadata": {},
     "output_type": "execute_result"
    }
   ],
   "source": [
    "# PolynomialFeatures 결과\n",
    "\n",
    "features_poly[0]"
   ]
  },
  {
   "cell_type": "markdown",
   "metadata": {},
   "source": [
    "## 규제로 분산 줄이기\n",
    "### 선형 회귀의 분산을 줄이는 방법 --> 리지/라소 같은 축소 페널티(규제) 가 포함된 학습 알고리즘 사용"
   ]
  },
  {
   "cell_type": "code",
   "execution_count": 41,
   "metadata": {},
   "outputs": [],
   "source": [
    "from sklearn.linear_model import Ridge\n",
    "from sklearn.datasets import load_boston\n",
    "from sklearn.preprocessing import StandardScaler"
   ]
  },
  {
   "cell_type": "code",
   "execution_count": 43,
   "metadata": {},
   "outputs": [],
   "source": [
    "boston=load_boston()\n",
    "features=boston.data\n",
    "target=boston.target"
   ]
  },
  {
   "cell_type": "code",
   "execution_count": 44,
   "metadata": {},
   "outputs": [],
   "source": [
    "# 특성 표준화\n",
    "\n",
    "scaler=StandardScaler()\n",
    "features_standard=scaler.fit_transform(features)"
   ]
  },
  {
   "cell_type": "code",
   "execution_count": 45,
   "metadata": {},
   "outputs": [],
   "source": [
    "# alpha 값을 지정한 리지 회귀 생성\n",
    "\n",
    "regression=Ridge(alpha=0.5)"
   ]
  },
  {
   "cell_type": "code",
   "execution_count": 46,
   "metadata": {},
   "outputs": [],
   "source": [
    "# 선형 회귀모델 훈련\n",
    "\n",
    "model=regression.fit(features_standard, target)"
   ]
  },
  {
   "cell_type": "markdown",
   "metadata": {},
   "source": [
    "리지 회귀에서 규제는 모든 계수의 제곱합에 튜닝 파라미터를 곱한것이다.\n",
    "\n",
    "라소 회귀에서 규제는 모든 계수의 절대값에 튜닝 파라미터를 곱한것이다.\n",
    "\n",
    "alpha 값이 클수록 더 간단한 모델을 구성한다.\n",
    "\n",
    "좋은 alpha 값을 선택하기 위해서 RidgeCV 같은 클래스를 사용한다."
   ]
  },
  {
   "cell_type": "code",
   "execution_count": 47,
   "metadata": {},
   "outputs": [],
   "source": [
    "from sklearn.linear_model import RidgeCV"
   ]
  },
  {
   "cell_type": "code",
   "execution_count": 48,
   "metadata": {},
   "outputs": [],
   "source": [
    "# 세 개의 alpha 값에 대한 리지 회귀 생성\n",
    "\n",
    "reg_cv=RidgeCV(alphas=[0.1,1.0,10.0])"
   ]
  },
  {
   "cell_type": "code",
   "execution_count": 49,
   "metadata": {},
   "outputs": [],
   "source": [
    "# 선형 회귀모델 훈련\n",
    "\n",
    "model_cv=reg_cv.fit(features_standard, target)"
   ]
  },
  {
   "cell_type": "code",
   "execution_count": 50,
   "metadata": {},
   "outputs": [
    {
     "data": {
      "text/plain": [
       "array([-0.91987132,  1.06646104,  0.11738487,  0.68512693, -2.02901013,\n",
       "        2.68275376,  0.01315848, -3.07733968,  2.59153764, -2.0105579 ,\n",
       "       -2.05238455,  0.84884839, -3.73066646])"
      ]
     },
     "execution_count": 50,
     "metadata": {},
     "output_type": "execute_result"
    }
   ],
   "source": [
    "# 계수 확인\n",
    "\n",
    "model_cv.coef_"
   ]
  },
  {
   "cell_type": "code",
   "execution_count": 51,
   "metadata": {},
   "outputs": [
    {
     "data": {
      "text/plain": [
       "1.0"
      ]
     },
     "execution_count": 51,
     "metadata": {},
     "output_type": "execute_result"
    }
   ],
   "source": [
    "# 최선의 모델이 사용한 alpha 값 확인\n",
    "\n",
    "model_cv.alpha_"
   ]
  },
  {
   "cell_type": "markdown",
   "metadata": {},
   "source": [
    "RidgeCV 클래스의 cv 매개변수를 사용하여 교차검증 방식을 지정할 수 있다.\n",
    "\n",
    "Default는 None 으로 리브원아웃 방식을 사용하고, 정수를 지정하면 GridSearchCV를 사용하여 교차검증을 진행한다"
   ]
  },
  {
   "cell_type": "code",
   "execution_count": 52,
   "metadata": {},
   "outputs": [],
   "source": [
    "# 5폴드 교차검증 사용하여 리지 회귀 만들기\n",
    "\n",
    "reg_cv=RidgeCV(alphas=[0.1,1.0,10.0], cv=5)"
   ]
  },
  {
   "cell_type": "code",
   "execution_count": 53,
   "metadata": {},
   "outputs": [],
   "source": [
    "# 선형 회귀모델 훈련\n",
    "model_cv=reg_cv.fit(features_standard, target)"
   ]
  },
  {
   "cell_type": "code",
   "execution_count": 54,
   "metadata": {},
   "outputs": [
    {
     "data": {
      "text/plain": [
       "10.0"
      ]
     },
     "execution_count": 54,
     "metadata": {},
     "output_type": "execute_result"
    }
   ],
   "source": [
    "# alpha 값 확인\n",
    "\n",
    "model_cv.alpha_"
   ]
  },
  {
   "cell_type": "markdown",
   "metadata": {},
   "source": [
    "## 라쏘 회귀로 특성 줄이기\n",
    "### 특성의 수를 줄여서 선형 회귀모델을 단순하게 구성"
   ]
  },
  {
   "cell_type": "code",
   "execution_count": 55,
   "metadata": {},
   "outputs": [],
   "source": [
    "from sklearn.linear_model import Lasso\n",
    "from sklearn.datasets import load_boston\n",
    "from sklearn.preprocessing import StandardScaler"
   ]
  },
  {
   "cell_type": "code",
   "execution_count": 56,
   "metadata": {},
   "outputs": [],
   "source": [
    "# 데이터 로드\n",
    "\n",
    "boston=load_boston()\n",
    "features=boston.data\n",
    "target=boston.target"
   ]
  },
  {
   "cell_type": "code",
   "execution_count": 57,
   "metadata": {},
   "outputs": [],
   "source": [
    "# 특성 표준화\n",
    "\n",
    "scaler=StandardScaler()\n",
    "features_standard=scaler.fit_transform(features)"
   ]
  },
  {
   "cell_type": "code",
   "execution_count": 58,
   "metadata": {},
   "outputs": [],
   "source": [
    "# alpha 를 지정한 Lasso 회귀모델 생성\n",
    "\n",
    "reg=Lasso(alpha=0.5)"
   ]
  },
  {
   "cell_type": "code",
   "execution_count": 59,
   "metadata": {},
   "outputs": [],
   "source": [
    "# 모델 훈련\n",
    "\n",
    "model=reg.fit(features_standard, target)"
   ]
  },
  {
   "cell_type": "markdown",
   "metadata": {},
   "source": [
    "라쏘 회귀모델의 특징은 모델의 계수를 0까지 줄일 수 있다는 것이다.\n",
    "\n",
    "이를 이용하여 특성의 수를 줄일 수 있다."
   ]
  },
  {
   "cell_type": "code",
   "execution_count": 60,
   "metadata": {},
   "outputs": [
    {
     "data": {
      "text/plain": [
       "array([-0.11526463,  0.        , -0.        ,  0.39707879, -0.        ,\n",
       "        2.97425861, -0.        , -0.17056942, -0.        , -0.        ,\n",
       "       -1.59844856,  0.54313871, -3.66614361])"
      ]
     },
     "execution_count": 60,
     "metadata": {},
     "output_type": "execute_result"
    }
   ],
   "source": [
    "model.coef_"
   ]
  },
  {
   "cell_type": "code",
   "execution_count": 61,
   "metadata": {},
   "outputs": [
    {
     "data": {
      "text/plain": [
       "array([-0.,  0., -0.,  0., -0.,  0., -0.,  0., -0., -0., -0.,  0., -0.])"
      ]
     },
     "execution_count": 61,
     "metadata": {},
     "output_type": "execute_result"
    }
   ],
   "source": [
    "''' alpha 값을 너무 크게 지정하면 어떤 특성도 사용하지 않을 수도 있다'''\n",
    "\n",
    "reg_a10=Lasso(alpha=10)\n",
    "model_a10=reg_a10.fit(features_standard, target)\n",
    "model_a10.coef_"
   ]
  },
  {
   "cell_type": "markdown",
   "metadata": {},
   "source": [
    "Lasso 의 alpha 값을 찾기위해 LassoCV 클래스를 사용할 수 있다"
   ]
  },
  {
   "cell_type": "code",
   "execution_count": 62,
   "metadata": {},
   "outputs": [],
   "source": [
    "from sklearn.linear_model import LassoCV"
   ]
  },
  {
   "cell_type": "code",
   "execution_count": 63,
   "metadata": {},
   "outputs": [],
   "source": [
    "# 세 개의 alpha 값에 대한 라쏘 회귀 생성\n",
    "\n",
    "lasso_cv=LassoCV(alphas=[0.1,1.0,10.0], cv=5)"
   ]
  },
  {
   "cell_type": "code",
   "execution_count": 64,
   "metadata": {},
   "outputs": [],
   "source": [
    "# 회귀 모델 훈련\n",
    "\n",
    "model_cv=lasso_cv.fit(features_standard, target)"
   ]
  },
  {
   "cell_type": "code",
   "execution_count": 65,
   "metadata": {},
   "outputs": [
    {
     "data": {
      "text/plain": [
       "array([-0.63230364,  0.70840931, -0.        ,  0.65760723, -1.57419335,\n",
       "        2.82626903, -0.        , -2.42207901,  1.19593681, -0.84646778,\n",
       "       -1.92249345,  0.76216539, -3.72618383])"
      ]
     },
     "execution_count": 65,
     "metadata": {},
     "output_type": "execute_result"
    }
   ],
   "source": [
    "# 계수 확인\n",
    "\n",
    "model_cv.coef_"
   ]
  },
  {
   "cell_type": "code",
   "execution_count": 66,
   "metadata": {},
   "outputs": [
    {
     "data": {
      "text/plain": [
       "0.1"
      ]
     },
     "execution_count": 66,
     "metadata": {},
     "output_type": "execute_result"
    }
   ],
   "source": [
    "# 최선의 모델을 위한 alpha 값 확인\n",
    "\n",
    "model_cv.alpha_"
   ]
  },
  {
   "cell_type": "code",
   "execution_count": 67,
   "metadata": {},
   "outputs": [],
   "source": [
    "'''\n",
    "LassoCV는 alphas 매개변수에 탐색할 값을 명시적으로 정하지 않고 n_alphas 매개변수를 사용해 자동으로 탐색 대상 값을 생성할 수 있다.\n",
    "n_alphas의 기본값은 100으로, 탐색후보로 100개의 값을 선정한다\n",
    "'''\n",
    "\n",
    "lasso_cv=LassoCV(n_alphas=1000, cv=5)"
   ]
  },
  {
   "cell_type": "code",
   "execution_count": 68,
   "metadata": {},
   "outputs": [],
   "source": [
    "# 선형 회귀모델 훈련\n",
    "\n",
    "model_cv=lasso_cv.fit(features_standard, target)"
   ]
  },
  {
   "cell_type": "code",
   "execution_count": 69,
   "metadata": {},
   "outputs": [
    {
     "data": {
      "text/plain": [
       "array([-0.47509958,  0.51087329, -0.06951944,  0.64416411, -1.32325523,\n",
       "        2.90601026, -0.        , -2.05439547,  0.42015063, -0.19614605,\n",
       "       -1.85051983,  0.71550534, -3.72013448])"
      ]
     },
     "execution_count": 69,
     "metadata": {},
     "output_type": "execute_result"
    }
   ],
   "source": [
    "# 계수확인\n",
    "\n",
    "model_cv.coef_"
   ]
  },
  {
   "cell_type": "code",
   "execution_count": 70,
   "metadata": {},
   "outputs": [
    {
     "data": {
      "text/plain": [
       "0.1532617308309083"
      ]
     },
     "execution_count": 70,
     "metadata": {},
     "output_type": "execute_result"
    }
   ],
   "source": [
    "# alpha 값 확인\n",
    "\n",
    "model_cv.alpha_"
   ]
  }
 ],
 "metadata": {
  "kernelspec": {
   "display_name": "Python 3",
   "language": "python",
   "name": "python3"
  },
  "language_info": {
   "codemirror_mode": {
    "name": "ipython",
    "version": 3
   },
   "file_extension": ".py",
   "mimetype": "text/x-python",
   "name": "python",
   "nbconvert_exporter": "python",
   "pygments_lexer": "ipython3",
   "version": "3.7.6"
  }
 },
 "nbformat": 4,
 "nbformat_minor": 4
}
