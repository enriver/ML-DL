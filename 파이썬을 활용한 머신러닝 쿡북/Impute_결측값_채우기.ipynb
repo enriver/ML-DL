{
 "cells": [
  {
   "cell_type": "markdown",
   "metadata": {
    "id": "I5yIC2Cov7To"
   },
   "source": [
    "## KNN 알고리즘 사용\n",
    "\n",
    "- local에서 fancyimpute 가 설치가 되지 않아서 google colab 사용"
   ]
  },
  {
   "cell_type": "code",
   "execution_count": 3,
   "metadata": {
    "id": "1GIkJv1-vXuH"
   },
   "outputs": [],
   "source": [
    "import numpy as np\n",
    "from fancyimpute import KNN\n",
    "from sklearn.preprocessing import StandardScaler\n",
    "from sklearn.datasets import make_blobs"
   ]
  },
  {
   "cell_type": "code",
   "execution_count": 4,
   "metadata": {
    "id": "hzgBYfiZvgye"
   },
   "outputs": [],
   "source": [
    "features, _ = make_blobs(n_samples=1000, n_features=2, random_state=1)"
   ]
  },
  {
   "cell_type": "code",
   "execution_count": 5,
   "metadata": {
    "id": "GulZp6jEvt3u"
   },
   "outputs": [],
   "source": [
    "scaler=StandardScaler()\n",
    "standardized_features=scaler.fit_transform(features)"
   ]
  },
  {
   "cell_type": "code",
   "execution_count": 6,
   "metadata": {
    "id": "s5G9SuQdv0Fp"
   },
   "outputs": [],
   "source": [
    "# 첫번째 샘플의 첫번째 특성 삭제\n",
    "\n",
    "true_value=standardized_features[0,0]\n",
    "standardized_features[0,0]=np.nan"
   ]
  },
  {
   "cell_type": "code",
   "execution_count": 7,
   "metadata": {
    "id": "tOMrJcGqwIfB"
   },
   "outputs": [],
   "source": [
    "# 특성행렬의 누락된 값 예측\n",
    "\n",
    "features_knn_imputed=KNN(k=5, verbose=0).fit_transform(standardized_features)"
   ]
  },
  {
   "cell_type": "code",
   "execution_count": 8,
   "metadata": {
    "colab": {
     "base_uri": "https://localhost:8080/",
     "height": 53
    },
    "id": "_37wVlrQwYru",
    "outputId": "48c70968-8594-4351-9029-d5ab38e8d687"
   },
   "outputs": [
    {
     "name": "stdout",
     "output_type": "stream",
     "text": [
      "실제 값 :  0.8730186113995938\n",
      "대체된 값 :  1.0955332713113226\n"
     ]
    }
   ],
   "source": [
    "# 실제 값과 대치된 값 비교\n",
    "\n",
    "print('실제 값 : ', true_value)\n",
    "print('대체된 값 : ', features_knn_imputed[0,0])"
   ]
  },
  {
   "cell_type": "markdown",
   "metadata": {
    "id": "g9Tn1xIzwjW3"
   },
   "source": [
    "사이킷런의 SimpleImputer 모듈을 사용하여 특성의 평균, 중간값, 최빈값으로 누락된 값을 채울 수 있다"
   ]
  },
  {
   "cell_type": "code",
   "execution_count": 12,
   "metadata": {
    "id": "3P2azo-Wwf4p"
   },
   "outputs": [],
   "source": [
    "from sklearn.impute import SimpleImputer"
   ]
  },
  {
   "cell_type": "code",
   "execution_count": 13,
   "metadata": {
    "id": "pvL1zu4Uwpn1"
   },
   "outputs": [],
   "source": [
    "'''\n",
    "strategy 매개변수를 사용하여\n",
    "\n",
    "평균값 : mean\n",
    "중간값 : median\n",
    "최빈값 : most_frequent\n",
    "고정값 : constant\n",
    "\n",
    "방식으로 결측값을 대체할 수 있다.\n",
    "\n",
    "constant로 지정시에는 fill_value 매개변수에 지정된값으로 결측값을 대체한다\n",
    "'''\n",
    "\n",
    "simple_imputer=SimpleImputer(strategy='mean')\n",
    "features_simple_imputed=simple_imputer.fit_transform(features)"
   ]
  },
  {
   "cell_type": "code",
   "execution_count": 14,
   "metadata": {
    "colab": {
     "base_uri": "https://localhost:8080/",
     "height": 53
    },
    "id": "08w3yQrIyEHc",
    "outputId": "a149e7c3-301c-4a8c-8bfc-a6b4e4ddde79"
   },
   "outputs": [
    {
     "name": "stdout",
     "output_type": "stream",
     "text": [
      "실제 값:  0.8730186113995938\n",
      "대체된 값:  -3.058372724614996\n"
     ]
    }
   ],
   "source": [
    "print('실제 값: ', true_value)\n",
    "print('대체된 값: ', features_simple_imputed[0,0])"
   ]
  },
  {
   "cell_type": "code",
   "execution_count": null,
   "metadata": {
    "id": "8CdFD60eyJQR"
   },
   "outputs": [],
   "source": []
  }
 ],
 "metadata": {
  "colab": {
   "collapsed_sections": [],
   "name": "수치형데이터 다루기 - 결측값 채우기",
   "provenance": []
  },
  "kernelspec": {
   "display_name": "Python 3",
   "language": "python",
   "name": "python3"
  },
  "language_info": {
   "codemirror_mode": {
    "name": "ipython",
    "version": 3
   },
   "file_extension": ".py",
   "mimetype": "text/x-python",
   "name": "python",
   "nbconvert_exporter": "python",
   "pygments_lexer": "ipython3",
   "version": "3.7.6"
  }
 },
 "nbformat": 4,
 "nbformat_minor": 1
}
