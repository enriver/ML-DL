{
 "cells": [
  {
   "cell_type": "markdown",
   "metadata": {},
   "source": [
    "# 스태킹 앙상블 (Stacking Ensemble)\n",
    "\n",
    "---\n",
    "\n",
    "개별 알고리즘으로 예측한 데이터를 기반으로 다시 예측을 수행\n",
    "\n",
    "![stacking](./stacking.png)"
   ]
  },
  {
   "cell_type": "code",
   "execution_count": 1,
   "metadata": {},
   "outputs": [
    {
     "name": "stderr",
     "output_type": "stream",
     "text": [
      "C:\\Users\\river\\anaconda3\\lib\\importlib\\_bootstrap.py:219: RuntimeWarning: numpy.ufunc size changed, may indicate binary incompatibility. Expected 192 from C header, got 216 from PyObject\n",
      "  return f(*args, **kwds)\n"
     ]
    }
   ],
   "source": [
    "import numpy as np\n",
    "\n",
    "from sklearn.neighbors import KNeighborsClassifier\n",
    "from sklearn.ensemble import RandomForestClassifier, AdaBoostClassifier\n",
    "from sklearn.tree import DecisionTreeClassifier\n",
    "from sklearn.linear_model import LogisticRegression\n",
    "\n",
    "from sklearn.datasets import load_breast_cancer\n",
    "from sklearn.model_selection import train_test_split\n",
    "from sklearn.metrics import accuracy_score"
   ]
  },
  {
   "cell_type": "code",
   "execution_count": 2,
   "metadata": {},
   "outputs": [],
   "source": [
    "cancer_data=load_breast_cancer()\n",
    "\n",
    "X=cancer_data.data\n",
    "y=cancer_data.target\n",
    "\n",
    "x_train, x_test, y_train, y_test = train_test_split(X, y, test_size=0.2 , random_state=0)"
   ]
  },
  {
   "cell_type": "code",
   "execution_count": 3,
   "metadata": {},
   "outputs": [],
   "source": [
    "knn_clf=KNeighborsClassifier(n_neighbors=4)\n",
    "rf_clf=RandomForestClassifier(n_estimators=100, random_state=0)\n",
    "dt_clf=DecisionTreeClassifier()\n",
    "ada_clf=AdaBoostClassifier(n_estimators=100)\n",
    "\n",
    "# final model\n",
    "\n",
    "lr_final=LogisticRegression(C=10)"
   ]
  },
  {
   "cell_type": "code",
   "execution_count": 4,
   "metadata": {},
   "outputs": [
    {
     "data": {
      "text/plain": [
       "AdaBoostClassifier(n_estimators=100)"
      ]
     },
     "execution_count": 4,
     "metadata": {},
     "output_type": "execute_result"
    }
   ],
   "source": [
    "# fitting\n",
    "\n",
    "knn_clf.fit(x_train, y_train)\n",
    "rf_clf.fit(x_train, y_train)\n",
    "dt_clf.fit(x_train, y_train)\n",
    "ada_clf.fit(x_train,y_train)"
   ]
  },
  {
   "cell_type": "code",
   "execution_count": 5,
   "metadata": {},
   "outputs": [],
   "source": [
    "# predicted value\n",
    "\n",
    "knn_pred=knn_clf.predict(x_test)\n",
    "rf_pred=rf_clf.predict(x_test)\n",
    "dt_pred=dt_clf.predict(x_test)\n",
    "ada_pred=ada_clf.predict(x_test)"
   ]
  },
  {
   "cell_type": "code",
   "execution_count": 7,
   "metadata": {},
   "outputs": [
    {
     "name": "stdout",
     "output_type": "stream",
     "text": [
      "KNN Accuracy : 0.9211\n",
      "Random Forest Accuracy : 0.9649\n",
      "Decision Tree Accuracy : 0.9123\n",
      "AdaBoost Accuracy : 0.9561\n"
     ]
    }
   ],
   "source": [
    "print('KNN Accuracy : {0:.4f}'.format(accuracy_score(y_test, knn_pred)))\n",
    "print('Random Forest Accuracy : {0:.4f}'.format(accuracy_score(y_test, rf_pred)))\n",
    "print('Decision Tree Accuracy : {0:.4f}'.format(accuracy_score(y_test, dt_pred)))\n",
    "print('AdaBoost Accuracy : {0:.4f}'.format(accuracy_score(y_test, ada_pred)))"
   ]
  },
  {
   "cell_type": "markdown",
   "metadata": {},
   "source": [
    "예측한 모델의 값들을 이어붙혀서 새로운 학습 세트를 만든다"
   ]
  },
  {
   "cell_type": "code",
   "execution_count": 10,
   "metadata": {},
   "outputs": [
    {
     "data": {
      "text/plain": [
       "(114, 4)"
      ]
     },
     "execution_count": 10,
     "metadata": {},
     "output_type": "execute_result"
    }
   ],
   "source": [
    "pred_stack=np.c_[knn_pred, rf_pred, dt_pred, ada_pred]\n",
    "pred_stack.shape"
   ]
  },
  {
   "cell_type": "code",
   "execution_count": 11,
   "metadata": {},
   "outputs": [
    {
     "name": "stdout",
     "output_type": "stream",
     "text": [
      "Final meta model's accuracy score : 0.9737\n"
     ]
    }
   ],
   "source": [
    "lr_final.fit(pred_stack, y_test)\n",
    "\n",
    "final_pred=lr_final.predict(pred_stack)\n",
    "\n",
    "print(\"Final meta model's accuracy score : {0:.4f}\".format(accuracy_score(y_test, final_pred)))"
   ]
  },
  {
   "cell_type": "markdown",
   "metadata": {},
   "source": [
    "### 과적합 개선을 위한 CV 세트 기반의 스태킹 앙상블 (이해가 안됨..)\n",
    "\n",
    "![cv_stacking](./cv_stacking.png)"
   ]
  },
  {
   "cell_type": "code",
   "execution_count": 18,
   "metadata": {},
   "outputs": [],
   "source": [
    "from sklearn.model_selection import KFold\n",
    "from sklearn.metrics import mean_absolute_error\n",
    "\n",
    "# 개별 기반 모델에서 최종 메타 모델이 사용할 학습 및 테스트용 데이터를 생성하기 위한 함수\n",
    "def get_stacking_base_datasets(model, x_train_n, y_train_n, x_test_n, n_folds):\n",
    "    kf=KFold(n_splits=n_folds, shuffle=False)\n",
    "    \n",
    "    train_fold_pred=np.zeros((x_train_n.shape[0],1))\n",
    "    test_pred=np.zeros((x_test_n.shape[0],n_folds))\n",
    "    print(model.__class__.__name__, ' model 시작')\n",
    "    \n",
    "    for folder_counter, (train_index, valid_index) in enumerate(kf.split(x_train_n)):\n",
    "        # 입력된 학습 데이터에서 기반 모델이 학습/예측할 폴드 데이터 세트 추출\n",
    "        print('\\t 폴드 세트 : ', folder_counter, ' 시작')\n",
    "        x_tr=x_train_n[train_index]\n",
    "        y_tr=y_train_n[train_index]\n",
    "        x_te=x_train_n[valid_index]\n",
    "        \n",
    "        model.fit(x_tr, y_tr)\n",
    "        \n",
    "        train_fold_pred[valid_index, :]=model.predict(x_te).reshape(-1,1)\n",
    "        \n",
    "        test_pred[:, folder_counter]=model.predict(x_test_n)\n",
    "        \n",
    "    test_pred_mean=np.mean(test_pred, axis=1).reshape(-1,1)\n",
    "    \n",
    "    return train_fold_pred, test_pred_mean"
   ]
  },
  {
   "cell_type": "code",
   "execution_count": 20,
   "metadata": {},
   "outputs": [
    {
     "name": "stdout",
     "output_type": "stream",
     "text": [
      "KNeighborsClassifier  model 시작\n",
      "\t 폴드 세트 :  0  시작\n",
      "\t 폴드 세트 :  1  시작\n",
      "\t 폴드 세트 :  2  시작\n",
      "\t 폴드 세트 :  3  시작\n",
      "\t 폴드 세트 :  4  시작\n",
      "\t 폴드 세트 :  5  시작\n",
      "\t 폴드 세트 :  6  시작\n",
      "RandomForestClassifier  model 시작\n",
      "\t 폴드 세트 :  0  시작\n",
      "\t 폴드 세트 :  1  시작\n",
      "\t 폴드 세트 :  2  시작\n",
      "\t 폴드 세트 :  3  시작\n",
      "\t 폴드 세트 :  4  시작\n",
      "\t 폴드 세트 :  5  시작\n",
      "\t 폴드 세트 :  6  시작\n",
      "DecisionTreeClassifier  model 시작\n",
      "\t 폴드 세트 :  0  시작\n",
      "\t 폴드 세트 :  1  시작\n",
      "\t 폴드 세트 :  2  시작\n",
      "\t 폴드 세트 :  3  시작\n",
      "\t 폴드 세트 :  4  시작\n",
      "\t 폴드 세트 :  5  시작\n",
      "\t 폴드 세트 :  6  시작\n",
      "AdaBoostClassifier  model 시작\n",
      "\t 폴드 세트 :  0  시작\n",
      "\t 폴드 세트 :  1  시작\n",
      "\t 폴드 세트 :  2  시작\n",
      "\t 폴드 세트 :  3  시작\n",
      "\t 폴드 세트 :  4  시작\n",
      "\t 폴드 세트 :  5  시작\n",
      "\t 폴드 세트 :  6  시작\n"
     ]
    }
   ],
   "source": [
    "knn_train ,knn_test=get_stacking_base_datasets(knn_clf, x_train, y_train, x_test, 7)\n",
    "rf_train, rf_test=get_stacking_base_datasets(rf_clf, x_train, y_train, x_test, 7)\n",
    "dt_train, dt_test=get_stacking_base_datasets(dt_clf, x_train, y_train, x_test, 7)\n",
    "ada_train, ada_test=get_stacking_base_datasets(ada_clf, x_train, y_train, x_test, 7)"
   ]
  },
  {
   "cell_type": "code",
   "execution_count": 21,
   "metadata": {},
   "outputs": [],
   "source": [
    "stacking_final_x_train=np.c_[knn_train, rf_train, dt_train, ada_train]\n",
    "stacking_final_x_test=np.c_[knn_test, rf_test, dt_test, ada_test]"
   ]
  },
  {
   "cell_type": "code",
   "execution_count": 22,
   "metadata": {},
   "outputs": [
    {
     "name": "stdout",
     "output_type": "stream",
     "text": [
      "원본 학습 데이터 (455, 30) , 테스트 데이터 (114, 30)\n",
      "스태킹 학습 데이터 (455, 4) , 테스트 데이터 (114, 4)\n"
     ]
    }
   ],
   "source": [
    "print('원본 학습 데이터 {0} , 테스트 데이터 {1}'.format(x_train.shape , x_test.shape))\n",
    "print('스태킹 학습 데이터 {0} , 테스트 데이터 {1}'.format(stacking_final_x_train.shape, stacking_final_x_test.shape))"
   ]
  },
  {
   "cell_type": "code",
   "execution_count": 23,
   "metadata": {},
   "outputs": [
    {
     "name": "stdout",
     "output_type": "stream",
     "text": [
      "Final Meta model's accuracy score : 0.9737\n"
     ]
    }
   ],
   "source": [
    "lr_final.fit(stacking_final_x_train, y_train)\n",
    "\n",
    "stack_final=lr_final.predict(stacking_final_x_test)\n",
    "\n",
    "print(\"Final Meta model's accuracy score : {0:.4f}\".format(accuracy_score(y_test, stack_final)))"
   ]
  }
 ],
 "metadata": {
  "kernelspec": {
   "display_name": "Python 3",
   "language": "python",
   "name": "python3"
  },
  "language_info": {
   "codemirror_mode": {
    "name": "ipython",
    "version": 3
   },
   "file_extension": ".py",
   "mimetype": "text/x-python",
   "name": "python",
   "nbconvert_exporter": "python",
   "pygments_lexer": "ipython3",
   "version": "3.7.6"
  }
 },
 "nbformat": 4,
 "nbformat_minor": 4
}
