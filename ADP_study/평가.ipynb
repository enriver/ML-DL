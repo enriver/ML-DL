{
 "cells": [
  {
   "cell_type": "markdown",
   "metadata": {},
   "source": [
    "# 평가\n",
    "\n",
    "### 분류 모델\n",
    "\n",
    "- 정확도 (Accuracy)\n",
    "- 오차행렬 (Counfusion Matrix)\n",
    "- 정밀도 (Precision)\n",
    "- 재현율 (Recall)\n",
    "- F1 Score\n",
    "- ROC AUC"
   ]
  },
  {
   "cell_type": "markdown",
   "metadata": {},
   "source": [
    "### 정확도 (Accuracy)\n",
    "\n",
    "정확도 = 예측 결과가 동일한 데이터 건수 / 전체 예측 데이터 건수"
   ]
  },
  {
   "cell_type": "code",
   "execution_count": 3,
   "metadata": {},
   "outputs": [],
   "source": [
    "import numpy as np\n",
    "import pandas as pd\n",
    "from sklearn.datasets import load_digits\n",
    "from sklearn.model_selection import train_test_split\n",
    "from sklearn.base import BaseEstimator\n",
    "from sklearn.metrics import accuracy_score"
   ]
  },
  {
   "cell_type": "code",
   "execution_count": 121,
   "metadata": {},
   "outputs": [],
   "source": [
    "class MyFakeClassifier(BaseEstimator):\n",
    "    def fit(self, x,y):  # fit은 아무런 기능이 없음\n",
    "        pass\n",
    "    \n",
    "    def predict(self, x): # 입력값으로 들어오는 x 데이터의 크기만큼 모두 0으로 만들어서 변환\n",
    "        return np.zeros((len(x),1), dtype=bool)"
   ]
  },
  {
   "cell_type": "code",
   "execution_count": 122,
   "metadata": {},
   "outputs": [
    {
     "data": {
      "text/plain": [
       "array([0, 0, 0, ..., 0, 0, 0])"
      ]
     },
     "execution_count": 122,
     "metadata": {},
     "output_type": "execute_result"
    }
   ],
   "source": [
    "digits=load_digits()\n",
    "\n",
    "y=(digits.target==7).astype(int)  # 7이면 True 아니면 False\n",
    "y"
   ]
  },
  {
   "cell_type": "code",
   "execution_count": 123,
   "metadata": {},
   "outputs": [],
   "source": [
    "x_train, x_test, y_train, y_test=train_test_split(digits.data, y, random_state=412)"
   ]
  },
  {
   "cell_type": "code",
   "execution_count": 124,
   "metadata": {},
   "outputs": [
    {
     "name": "stdout",
     "output_type": "stream",
     "text": [
      "레이블 테스트 세트 크기 :  (450,)\n",
      "테스트 세트 레이블 0과 1의 분포도\n",
      "0    406\n",
      "1     44\n",
      "dtype: int64\n"
     ]
    }
   ],
   "source": [
    "# 불균형한 레이블 데이터 분포 확인\n",
    "\n",
    "print('레이블 테스트 세트 크기 : ', y_test.shape)\n",
    "print('테스트 세트 레이블 0과 1의 분포도')\n",
    "print(pd.Series(y_test).value_counts())"
   ]
  },
  {
   "cell_type": "code",
   "execution_count": 125,
   "metadata": {},
   "outputs": [
    {
     "name": "stdout",
     "output_type": "stream",
     "text": [
      "정확도 : 0.902\n"
     ]
    }
   ],
   "source": [
    "# Dummy Classifier로 학습/예측/정확도 평가\n",
    "\n",
    "fakeclf=MyFakeClassifier()\n",
    "fakeclf.fit(x_train, y_train)\n",
    "\n",
    "fake_pred=fakeclf.predict(x_test)\n",
    "\n",
    "print('정확도 : {:.3f}'.format(accuracy_score(y_test, fake_pred)))"
   ]
  },
  {
   "cell_type": "markdown",
   "metadata": {},
   "source": [
    "### 오차 행렬 (Confusion Matrix)\n",
    "\n",
    "![confusion_matrix](./confusion_matrix.jpg)\n",
    "\n",
    "- TN : 실제값도 N이고, 예측도 N으로 한 경우\n",
    "- FP : 실제값은 N인데, P로 예측한 경우\n",
    "- FN : 실제값은 P인데, N으로 예측한 경우\n",
    "- TP : 실제값도 P이고, 예측도 P로 한 경우"
   ]
  },
  {
   "cell_type": "code",
   "execution_count": 2,
   "metadata": {},
   "outputs": [],
   "source": [
    "from sklearn.metrics import confusion_matrix"
   ]
  },
  {
   "cell_type": "code",
   "execution_count": 8,
   "metadata": {},
   "outputs": [
    {
     "data": {
      "text/plain": [
       "array([[406,   0],\n",
       "       [ 44,   0]], dtype=int64)"
      ]
     },
     "execution_count": 8,
     "metadata": {},
     "output_type": "execute_result"
    }
   ],
   "source": [
    "confusion_matrix(y_test, fake_pred)"
   ]
  },
  {
   "cell_type": "markdown",
   "metadata": {},
   "source": [
    "ndarray가\n",
    "\n",
    "TN FP\n",
    "\n",
    "FN TP\n",
    "\n",
    "순으로 출력이 된다."
   ]
  },
  {
   "cell_type": "markdown",
   "metadata": {},
   "source": [
    "### 정밀도 (Precision) & 재현율 (Recall)\n",
    "\n",
    "- 정밀도 : TP / (FP+TP)  -> Positive 라고 예측한 값중에 실제 Positive 인 정도\n",
    "- 재현율 : TP / (FN+TP) -> Positive 인 값을 Positive 라고 예측한 정도\n",
    "\n",
    "재현율은 민감도(Sensitivy) 혹은 TPR (True Positive Rate) 라고도 불린다.\n",
    "\n",
    "--------\n",
    "sklearn.metrics 의 precision_score 와 recall_score 메소드를 사용할 수 있다."
   ]
  },
  {
   "cell_type": "markdown",
   "metadata": {},
   "source": [
    "#### 정밀도와 재현율의 트레이드 오프\n",
    "\n",
    "정밀도 또는 재현율을 특별히 강조해야 할 경우에는 결정 임계값 (threshold) 를 조절하여 수치를 높일 수 있다.\n",
    "\n",
    "하지만 정밀도와 재현율은 상호 보완적인 관계에 있기 때문에, 어느 한쪽을 올리면 다른 한쪽이 떨어질 수 있다. (Trade-off)"
   ]
  },
  {
   "cell_type": "code",
   "execution_count": 23,
   "metadata": {},
   "outputs": [
    {
     "name": "stdout",
     "output_type": "stream",
     "text": [
      "[[0. 0. 1.]\n",
      " [1. 0. 0.]\n",
      " [0. 0. 1.]]\n"
     ]
    }
   ],
   "source": [
    "from sklearn.preprocessing import Binarizer\n",
    "\n",
    "x=[[1,-1,2],\n",
    "  [2,0,0],\n",
    "  [0,1.1,1.2]]\n",
    "\n",
    "# x의 개별 원소들이 threshold 값보다 같거나 작으면 0을, 크면 1을 반환\n",
    "\n",
    "binarizer=Binarizer(threshold=1.1)\n",
    "\n",
    "print(binarizer.fit_transform(x))"
   ]
  },
  {
   "cell_type": "code",
   "execution_count": 24,
   "metadata": {},
   "outputs": [],
   "source": [
    "from sklearn.preprocessing import LabelEncoder\n",
    "\n",
    "# Null 처리 함수\n",
    "def fillna(df):\n",
    "    df['Age'].fillna(df['Age'].mean(),inplace=True)\n",
    "    df['Cabin'].fillna('N',inplace=True)\n",
    "    df['Embarked'].fillna('N',inplace=True)\n",
    "    df['Fare'].fillna(0,inplace=True)\n",
    "    return df\n",
    "\n",
    "# 머신러닝 알고리즘에 불필요한 속성 제거\n",
    "def drop_features(df):\n",
    "    df.drop(['PassengerId','Name','Ticket'],axis=1,inplace=True)\n",
    "    return df\n",
    "\n",
    "# 레이블 인코딩 수행. \n",
    "def format_features(df):\n",
    "    df['Cabin'] = df['Cabin'].str[:1]\n",
    "    features = ['Cabin','Sex','Embarked']\n",
    "    for feature in features:\n",
    "        le = LabelEncoder()\n",
    "        le = le.fit(df[feature])\n",
    "        df[feature] = le.transform(df[feature])\n",
    "    return df\n",
    "\n",
    "# 앞에서 설정한 Data Preprocessing 함수 호출\n",
    "def transform_features(df):\n",
    "    df = fillna(df)\n",
    "    df = drop_features(df)\n",
    "    df = format_features(df)\n",
    "    return df"
   ]
  },
  {
   "cell_type": "code",
   "execution_count": 29,
   "metadata": {},
   "outputs": [],
   "source": [
    "titanic_df = pd.read_csv('./titanic_train.csv')\n",
    "y_titanic_df = titanic_df['Survived']\n",
    "X_titanic_df= titanic_df.drop('Survived', axis=1)\n",
    "X_titanic_df = transform_features(X_titanic_df)\n",
    "X_train, X_test, y_train, y_test=train_test_split(X_titanic_df, y_titanic_df, \\\n",
    "                                                  test_size=0.2, random_state=11)"
   ]
  },
  {
   "cell_type": "code",
   "execution_count": 30,
   "metadata": {},
   "outputs": [
    {
     "name": "stdout",
     "output_type": "stream",
     "text": [
      "[[104  14]\n",
      " [ 13  48]]\n"
     ]
    },
    {
     "name": "stderr",
     "output_type": "stream",
     "text": [
      "C:\\Users\\river\\anaconda3\\lib\\site-packages\\sklearn\\linear_model\\_logistic.py:940: ConvergenceWarning: lbfgs failed to converge (status=1):\n",
      "STOP: TOTAL NO. of ITERATIONS REACHED LIMIT.\n",
      "\n",
      "Increase the number of iterations (max_iter) or scale the data as shown in:\n",
      "    https://scikit-learn.org/stable/modules/preprocessing.html\n",
      "Please also refer to the documentation for alternative solver options:\n",
      "    https://scikit-learn.org/stable/modules/linear_model.html#logistic-regression\n",
      "  extra_warning_msg=_LOGISTIC_SOLVER_CONVERGENCE_MSG)\n"
     ]
    }
   ],
   "source": [
    "from sklearn.linear_model import LogisticRegression\n",
    "\n",
    "logit=LogisticRegression()\n",
    "logit.fit(X_train, y_train)\n",
    "\n",
    "y_pred=logit.predict(X_test)\n",
    "\n",
    "print(confusion_matrix(y_test, y_pred))"
   ]
  },
  {
   "cell_type": "code",
   "execution_count": 31,
   "metadata": {},
   "outputs": [
    {
     "name": "stdout",
     "output_type": "stream",
     "text": [
      "pred_proba()결과 Shape : (179, 2)\n",
      "pred_proba array에서 앞 3개만 샘플로 추출 \n",
      ": [[0.46162417 0.53837583]\n",
      " [0.87858538 0.12141462]\n",
      " [0.87723741 0.12276259]]\n",
      "두개의 class 중에서 더 큰 확률을 클래스 값으로 예측 \n",
      " [[0.46162417 0.53837583 1.        ]\n",
      " [0.87858538 0.12141462 0.        ]\n",
      " [0.87723741 0.12276259 0.        ]]\n"
     ]
    }
   ],
   "source": [
    "# predict_proba 메소드를 사용하여 개별 데이터의 예측 확률을 확인할 수 있다.\n",
    "\n",
    "pred_proba = logit.predict_proba(X_test)\n",
    "y_pred  = logit.predict(X_test)\n",
    "print('pred_proba()결과 Shape : {0}'.format(pred_proba.shape))\n",
    "print('pred_proba array에서 앞 3개만 샘플로 추출 \\n:', pred_proba[:3])\n",
    "\n",
    "# 예측 확률 array 와 예측 결과값 array 를 concatenate 하여 예측 확률과 결과값을 한눈에 확인\n",
    "pred_proba_result = np.concatenate([pred_proba ,y_pred.reshape(-1,1)],axis=1)\n",
    "print('두개의 class 중에서 더 큰 확률을 클래스 값으로 예측 \\n',pred_proba_result[:3])"
   ]
  },
  {
   "cell_type": "markdown",
   "metadata": {},
   "source": [
    "#### 임계값 변환하기 (결과는 predict_proba를 사용하여 확인)"
   ]
  },
  {
   "cell_type": "code",
   "execution_count": 41,
   "metadata": {},
   "outputs": [],
   "source": [
    "from sklearn.metrics import precision_score, recall_score\n",
    "\n",
    "def get_clf_eval(y_test , pred):\n",
    "    confusion = confusion_matrix( y_test, pred)\n",
    "    accuracy = accuracy_score(y_test , pred)\n",
    "    precision = precision_score(y_test , pred)\n",
    "    recall = recall_score(y_test , pred)\n",
    "    print('오차 행렬')\n",
    "    print(confusion)\n",
    "    print('정확도: {0:.4f}, 정밀도: {1:.4f}, 재현율: {2:.4f}'.format(accuracy , precision ,recall))"
   ]
  },
  {
   "cell_type": "code",
   "execution_count": 42,
   "metadata": {},
   "outputs": [
    {
     "name": "stdout",
     "output_type": "stream",
     "text": [
      "오차 행렬\n",
      "[[104  14]\n",
      " [ 13  48]]\n",
      "정확도: 0.8492, 정밀도: 0.7742, 재현율: 0.7869\n"
     ]
    }
   ],
   "source": [
    "from sklearn.preprocessing import Binarizer\n",
    "\n",
    "custom_threshold=0.5\n",
    "\n",
    "pred_proba_1=pred_proba[:,1].reshape(-1,1) # Positive 클래스의 칼럼 하나만 추출\n",
    "\n",
    "# binarizer 적용\n",
    "\n",
    "binarizer=Binarizer(threshold=custom_threshold).fit(pred_proba_1)\n",
    "custom_predict=binarizer.transform(pred_proba_1)\n",
    "\n",
    "get_clf_eval(y_test, custom_predict)"
   ]
  },
  {
   "cell_type": "code",
   "execution_count": 44,
   "metadata": {},
   "outputs": [
    {
     "name": "stdout",
     "output_type": "stream",
     "text": [
      "오차 행렬\n",
      "[[99 19]\n",
      " [10 51]]\n",
      "정확도: 0.8380, 정밀도: 0.7286, 재현율: 0.8361\n"
     ]
    }
   ],
   "source": [
    "custom_threshold=0.4\n",
    "\n",
    "pred_proba_1=pred_proba[:,1].reshape(-1,1) # Positive 클래스의 칼럼 하나만 추출\n",
    "\n",
    "# binarizer 적용\n",
    "\n",
    "binarizer=Binarizer(threshold=custom_threshold).fit(pred_proba_1)\n",
    "custom_predict=binarizer.transform(pred_proba_1)\n",
    "\n",
    "get_clf_eval(y_test, custom_predict)"
   ]
  },
  {
   "cell_type": "markdown",
   "metadata": {},
   "source": [
    "threshold 를 낮췄을 때, 정밀도(Positive라고 예측한 경우중 실제 Positive) 와 재현율(실제 Positive인것을 Positive라고 예측) 가 변함을 확인할 수 있다."
   ]
  },
  {
   "cell_type": "code",
   "execution_count": 79,
   "metadata": {},
   "outputs": [
    {
     "name": "stdout",
     "output_type": "stream",
     "text": [
      "            0.40   0.45   0.50   0.55   0.60\n",
      "accuracy   0.838  0.849  0.849  0.866  0.877\n",
      "precision  0.729  0.766  0.774  0.836  0.882\n",
      "recall     0.836  0.803  0.787  0.754  0.738\n"
     ]
    }
   ],
   "source": [
    "# 임계값에 변화를 주며 확인\n",
    "\n",
    "thresholds=[0.4, 0.45, 0.5, 0.55, 0.6]\n",
    "\n",
    "\n",
    "def get_eval_by_threshold(y_test, pred_proba_1, thresholds):\n",
    "    metric_list=list()\n",
    "    \n",
    "    for i in thresholds:\n",
    "        binarizer=Binarizer(threshold=i).fit(pred_proba_1)\n",
    "        \n",
    "        custom_predict=binarizer.transform(pred_proba_1)\n",
    "        \n",
    "        accuracy=np.round(accuracy_score(y_test, custom_predict),3)\n",
    "        precision=np.round(precision_score(y_test, custom_predict),3)\n",
    "        recall=np.round(recall_score(y_test, custom_predict),3)\n",
    "        \n",
    "        metric_list.extend((accuracy, precision, recall))\n",
    "    \n",
    "    metric_list=np.array(metric_list).reshape(3,-1, order='F')\n",
    "    df=pd.DataFrame(data=metric_list, columns=thresholds, index=['accuracy','precision','recall'])\n",
    "    \n",
    "    print(df)\n",
    "    \n",
    "get_eval_by_threshold(y_test, pred_proba_1, thresholds)"
   ]
  },
  {
   "cell_type": "markdown",
   "metadata": {},
   "source": [
    "precision_recall_curve 라는 메소드를 통해 해당 내용을 구현할 수 있다\n",
    "\n",
    "#### precision_recall_curve"
   ]
  },
  {
   "cell_type": "code",
   "execution_count": 81,
   "metadata": {},
   "outputs": [
    {
     "name": "stdout",
     "output_type": "stream",
     "text": [
      "반환된 분류 결정 임계값 배열의 Shape :  (143,)\n"
     ]
    }
   ],
   "source": [
    "from sklearn.metrics import precision_recall_curve\n",
    "\n",
    "# 레이블 값이 1일 때의 예측 확률을 추출\n",
    "\n",
    "pred_proba_class1=logit.predict_proba(X_test)[:,1]\n",
    "\n",
    "# 실제값 데이터 세트와 레이블 값이 1일 때의 예측 확률을 precision_recall_curve 인자로 입력\n",
    "\n",
    "precisions, recalls, thresholds=precision_recall_curve(y_test, pred_proba_class1)\n",
    "print('반환된 분류 결정 임계값 배열의 Shape : ', thresholds.shape)"
   ]
  },
  {
   "cell_type": "code",
   "execution_count": 85,
   "metadata": {},
   "outputs": [
    {
     "name": "stdout",
     "output_type": "stream",
     "text": [
      "샘플 추출을 위한 임계값 배열의 index 10개 :  [  0  15  30  45  60  75  90 105 120 135]\n",
      "샘플용 10개의 임계값 :  [0.1  0.12 0.14 0.19 0.28 0.4  0.56 0.67 0.82 0.95]\n"
     ]
    }
   ],
   "source": [
    "# 샘플로 10건만 추출하면서, 임계값을 15step으로 추출\n",
    "\n",
    "thr_index=np.arange(0,thresholds.shape[0],15)\n",
    "\n",
    "print('샘플 추출을 위한 임계값 배열의 index 10개 : ',thr_index)\n",
    "print('샘플용 10개의 임계값 : ',np.round(thresholds[thr_index],2))"
   ]
  },
  {
   "cell_type": "code",
   "execution_count": 86,
   "metadata": {},
   "outputs": [
    {
     "name": "stdout",
     "output_type": "stream",
     "text": [
      "샘플 임계값별 정밀도 :  [0.389 0.44  0.466 0.539 0.647 0.729 0.836 0.949 0.958 1.   ]\n",
      "샘플 임계값별 재현율 :  [1.    0.967 0.902 0.902 0.902 0.836 0.754 0.607 0.377 0.148]\n"
     ]
    }
   ],
   "source": [
    "# 15 step 단위로 추출된 임계값에 따른 정밀도와 재현율 값\n",
    "\n",
    "print('샘플 임계값별 정밀도 : ',np.round(precisions[thr_index],3))\n",
    "print('샘플 임계값별 재현율 : ',np.round(recalls[thr_index],3))"
   ]
  },
  {
   "cell_type": "code",
   "execution_count": 91,
   "metadata": {},
   "outputs": [
    {
     "data": {
      "image/png": "[encoded data removed]",
      "text/plain": [
       "<Figure size 576x432 with 1 Axes>"
      ]
     },
     "metadata": {
      "needs_background": "light"
     },
     "output_type": "display_data"
    }
   ],
   "source": [
    "import matplotlib.pyplot as plt\n",
    "import matplotlib.ticker as ticker\n",
    "%matplotlib inline\n",
    "\n",
    "def precision_recall_curve_plot(y_test, pred_proba_c1):\n",
    "    precisions, recalls,thresholds=precision_recall_curve(y_test, pred_proba_c1)\n",
    "    \n",
    "    plt.figure(figsize=(8,6))\n",
    "    plt.plot(thresholds, precisions[:thresholds.shape[0]], linestyle='--', label='precision')\n",
    "    plt.plot(thresholds, recalls[:thresholds.shape[0]], label='recall')\n",
    "    \n",
    "    # threshold 값 x축의 scale을 0.1 단위로 변경\n",
    "    start, end= plt.xlim() # get current xlim\n",
    "    plt.xticks(np.round(np.arange(start, end, 0.1), 2)) # change xticks\n",
    "    \n",
    "    plt.xlabel('Threshold Value')\n",
    "    plt.ylabel('Precision and Recall value')\n",
    "    plt.legend()\n",
    "    plt.grid()\n",
    "    plt.show()\n",
    "    \n",
    "precision_recall_curve_plot(y_test, pred_proba_class1)"
   ]
  },
  {
   "cell_type": "markdown",
   "metadata": {},
   "source": [
    "임계값이 올라갈수록 정밀도가 올라가나, 재현율은 낮아짐을 확인할 수 있다."
   ]
  },
  {
   "cell_type": "markdown",
   "metadata": {},
   "source": [
    "#### 정밀도와 재현율의 맹점\n",
    "\n",
    "- Positive의 예측의 임계값을 변경함에 따라 정밀도와 재현율의 수치가 변경된다.\n",
    "\n",
    "\n",
    "정밀도가 100%가 되는 방법\n",
    "\n",
    "- 확실한 기준이 되는 경우만 Positive로 예측하고 나머지는 모두 Negative로 예측한다.\n",
    "- 정밀도는 TP/(TP+FP) 이기 때문에, Negative로 예측한 값이 틀려도 결과에 영향이 없다.\n",
    "\n",
    "재현율이 100%가 되는 방법\n",
    "\n",
    "- 모든 결과를 Positive로 예측한다.\n",
    "- 재현율은 TP/(TP+FN) 이기 때문에, Positive로 예측한 결과가 틀려도 결과에 영향이 없다.\n",
    "\n",
    "\n",
    "따라서, 정밀도 또는 재현율 중 하나만 스코어가 좋고 다른 하나는 스코어가 나쁜 분류는 성능이 좋지 않은 분류로 간주할 수 있다."
   ]
  },
  {
   "cell_type": "markdown",
   "metadata": {},
   "source": [
    "### F1 Score\n",
    "\n",
    "- F1 Score는 정밀도와 재현율을 결합한 지표이다.\n",
    "\n",
    "![f1_score](./f1_score.png)\n",
    "\n",
    "\n",
    "\n",
    "정밀도와 재현율이 어느 한쪽으로 치우치지 않을때 상대적으로 높은 값을 가진다."
   ]
  },
  {
   "cell_type": "code",
   "execution_count": 92,
   "metadata": {},
   "outputs": [
    {
     "name": "stdout",
     "output_type": "stream",
     "text": [
      "F1 Score : 0.780\n"
     ]
    }
   ],
   "source": [
    "from sklearn.metrics import f1_score\n",
    "\n",
    "f1=f1_score(y_test, y_pred) # y_pred=logit.predict(x_test)\n",
    "\n",
    "print('F1 Score : {:.3f}'.format(f1))"
   ]
  },
  {
   "cell_type": "code",
   "execution_count": 94,
   "metadata": {},
   "outputs": [
    {
     "name": "stdout",
     "output_type": "stream",
     "text": [
      "            0.40   0.45   0.50   0.55   0.60\n",
      "accuracy   0.838  0.849  0.849  0.866  0.877\n",
      "precision  0.729  0.766  0.774  0.836  0.882\n",
      "recall     0.836  0.803  0.787  0.754  0.738\n",
      "f1 score   0.779  0.784  0.780  0.793  0.804\n"
     ]
    }
   ],
   "source": [
    "# 임계값에 변화를 주며 확인\n",
    "\n",
    "thresholds=[0.4, 0.45, 0.5, 0.55, 0.6]\n",
    "\n",
    "\n",
    "def get_eval_by_threshold(y_test, pred_proba_1, thresholds):\n",
    "    metric_list=list()\n",
    "    \n",
    "    for i in thresholds:\n",
    "        binarizer=Binarizer(threshold=i).fit(pred_proba_1)\n",
    "        \n",
    "        custom_predict=binarizer.transform(pred_proba_1)\n",
    "        \n",
    "        accuracy=np.round(accuracy_score(y_test, custom_predict),3)\n",
    "        precision=np.round(precision_score(y_test, custom_predict),3)\n",
    "        recall=np.round(recall_score(y_test, custom_predict),3)\n",
    "        f1=np.round(f1_score(y_test, custom_predict),3)\n",
    "        \n",
    "        metric_list.extend((accuracy, precision, recall,f1))\n",
    "    \n",
    "    metric_list=np.array(metric_list).reshape(4,-1, order='F')\n",
    "    df=pd.DataFrame(data=metric_list, columns=thresholds, index=['accuracy','precision','recall','f1 score'])\n",
    "    \n",
    "    print(df)\n",
    "    \n",
    "get_eval_by_threshold(y_test, pred_proba_1, thresholds)"
   ]
  },
  {
   "cell_type": "markdown",
   "metadata": {},
   "source": [
    "임계값이 0.6 일때 F1스코어가 가장 높음을 확인할 수 있다.\n",
    "\n",
    "그러나 재현율이 가장 낮기도 하다."
   ]
  },
  {
   "cell_type": "markdown",
   "metadata": {},
   "source": [
    "### ROC curve & AUC\n",
    "\n",
    "ROC곡선은 FPR(False Positive Rate)이 변할 때, TPR(True Positive Rate)이 어떻게 변하는지를 나타내는 곡선이다.\n",
    "- TPR : 재현율과 동일하다 -> TP/(TP+FN)\n",
    "- 특이성 : TNR = TN/(TN+FP)\n",
    "\n",
    "- FPR : 1-특이성 = 1-(TN/(FP+TN)) = FP/(FP+TN)"
   ]
  },
  {
   "cell_type": "code",
   "execution_count": 104,
   "metadata": {},
   "outputs": [
    {
     "name": "stdout",
     "output_type": "stream",
     "text": [
      "샘플용 10개의 임계값 :  [1.97 0.75 0.63 0.59 0.49 0.4  0.31 0.15 0.12 0.11 0.1 ]\n"
     ]
    }
   ],
   "source": [
    "from sklearn.metrics import roc_curve\n",
    "\n",
    "pred_proba_class1=logit.predict_proba(X_test)[:,1]\n",
    "\n",
    "fpr,tpr,thresholds=roc_curve(y_test, pred_proba_class1)\n",
    "\n",
    "# 15 step 씩 끊어서 임계값 인덱스 생성\n",
    "\n",
    "thr_index=np.arange(0, thresholds.shape[0], 5)\n",
    "\n",
    "print('샘플용 10개의 임계값 : ', np.round(thresholds[thr_index],2))"
   ]
  },
  {
   "cell_type": "code",
   "execution_count": 108,
   "metadata": {},
   "outputs": [
    {
     "name": "stdout",
     "output_type": "stream",
     "text": [
      "샘플 임계값 별 FPR :  [0.    0.017 0.034 0.059 0.127 0.161 0.237 0.483 0.61  0.703 0.814]\n",
      "샘플 임계값 별 TPR :  [0.    0.475 0.672 0.754 0.787 0.852 0.885 0.902 0.934 0.967 0.984]\n"
     ]
    }
   ],
   "source": [
    "print('샘플 임계값 별 FPR : ', np.round(fpr[thr_index],3))\n",
    "print('샘플 임계값 별 TPR : ', np.round(tpr[thr_index],3))"
   ]
  },
  {
   "cell_type": "markdown",
   "metadata": {},
   "source": [
    "임계값이 1에 가까운 점에서 점점 작아지면서, FPR이 커진다. (임계값이 1에 가까울수록 Positive로 예측하지 않기 때문에, FP 자체의 값이 작음)\n",
    "\n",
    "FPR이 조금씩 커질 때 TPR은 가파르게 커진다."
   ]
  },
  {
   "cell_type": "code",
   "execution_count": 115,
   "metadata": {},
   "outputs": [
    {
     "data": {
      "image/png": "[encoded data removed]",
      "text/plain": [
       "<Figure size 432x288 with 1 Axes>"
      ]
     },
     "metadata": {
      "needs_background": "light"
     },
     "output_type": "display_data"
    }
   ],
   "source": [
    "def roc_curve_plot(y_test, pred_proba_c1):\n",
    "    fpr, tpr, thresholds=roc_curve(y_test, pred_proba_c1)\n",
    "    \n",
    "    plt.plot(fpr, tpr, label='ROC')\n",
    "    plt.plot([0,1],[0,1],'k--', label='random')\n",
    "    \n",
    "    start, end=plt.xlim()\n",
    "    plt.xticks(np.round(np.arange(start, end, 0.1),2))\n",
    "    plt.xlim(0,1) # 0~1 로 범위 맞춤\n",
    "    plt.ylim(0,1)\n",
    "    plt.xlabel('FPR(1-Specificity)')\n",
    "    plt.ylabel('TPR(Recall)')\n",
    "    plt.legend()\n",
    "    \n",
    "roc_curve_plot(y_test, pred_proba_class1)"
   ]
  },
  {
   "cell_type": "code",
   "execution_count": 119,
   "metadata": {},
   "outputs": [
    {
     "name": "stdout",
     "output_type": "stream",
     "text": [
      "ROC AUC 값 : 0.8341\n"
     ]
    }
   ],
   "source": [
    "from sklearn.metrics import roc_auc_score\n",
    "\n",
    "y_pred=logit.predict(X_test)\n",
    "roc_score=roc_auc_score(y_test, y_pred)\n",
    "\n",
    "print('ROC AUC 값 : {:.4f}'.format(roc_score))"
   ]
  }
 ],
 "metadata": {
  "kernelspec": {
   "display_name": "Python 3",
   "language": "python",
   "name": "python3"
  },
  "language_info": {
   "codemirror_mode": {
    "name": "ipython",
    "version": 3
   },
   "file_extension": ".py",
   "mimetype": "text/x-python",
   "name": "python",
   "nbconvert_exporter": "python",
   "pygments_lexer": "ipython3",
   "version": "3.7.6"
  }
 },
 "nbformat": 4,
 "nbformat_minor": 4
}
