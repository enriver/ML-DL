{
 "cells": [
  {
   "cell_type": "markdown",
   "metadata": {},
   "source": [
    "## 결정 트리 분류기 훈련하기"
   ]
  },
  {
   "cell_type": "code",
   "execution_count": 1,
   "metadata": {},
   "outputs": [],
   "source": [
    "from sklearn.tree import DecisionTreeClassifier\n",
    "from sklearn import datasets"
   ]
  },
  {
   "cell_type": "code",
   "execution_count": 2,
   "metadata": {},
   "outputs": [],
   "source": [
    "# 데이터 로드\n",
    "\n",
    "iris=datasets.load_iris()\n",
    "features=iris.data\n",
    "target=iris.target"
   ]
  },
  {
   "cell_type": "code",
   "execution_count": 3,
   "metadata": {},
   "outputs": [],
   "source": [
    "# 결정틜 분류기 생성\n",
    "\n",
    "decisiontree=DecisionTreeClassifier(random_state=0)"
   ]
  },
  {
   "cell_type": "code",
   "execution_count": 8,
   "metadata": {},
   "outputs": [],
   "source": [
    "# 모델 훈련\n",
    "\n",
    "model=decisiontree.fit(features,target)"
   ]
  },
  {
   "cell_type": "markdown",
   "metadata": {},
   "source": [
    "결정트리 학습기는 노드에서 불순도(impurity)가 가장 크게 감소하는 결정 규칙을 찾는다.\n",
    "\n",
    "불순도를 측정하는 방법은 여러가지가 있지만, DecisionTreeClassifier 는 기본적으로 지니 불순도(Gini Impurity)를 사용한다.\n",
    "\n",
    "불순도를 낮추는 결정 규칙을 찾는 과정은 모든 리프노드가 순수해지거나 어떤 임계값에 도달할 때까지 반복된다."
   ]
  },
  {
   "cell_type": "code",
   "execution_count": 9,
   "metadata": {},
   "outputs": [],
   "source": [
    "# 모델의 훈련과정 확인하기\n",
    "\n",
    "observation=[[5,4,3,2]] # 새로운 샘플"
   ]
  },
  {
   "cell_type": "code",
   "execution_count": 10,
   "metadata": {},
   "outputs": [
    {
     "data": {
      "text/plain": [
       "array([1])"
      ]
     },
     "execution_count": 10,
     "metadata": {},
     "output_type": "execute_result"
    }
   ],
   "source": [
    "# 샘플의 클래스 예측\n",
    "\n",
    "model.predict(observation)"
   ]
  },
  {
   "cell_type": "code",
   "execution_count": 11,
   "metadata": {},
   "outputs": [
    {
     "data": {
      "text/plain": [
       "array([[0., 1., 0.]])"
      ]
     },
     "execution_count": 11,
     "metadata": {},
     "output_type": "execute_result"
    }
   ],
   "source": [
    "# 샘플의 클래스 예측 확률 확인\n",
    "\n",
    "model.predict_proba(observation)"
   ]
  },
  {
   "cell_type": "code",
   "execution_count": 12,
   "metadata": {},
   "outputs": [],
   "source": [
    "# 다른 불순도 지표를 사용하고 싶을때, criterion 매개변수 사용\n",
    "\n",
    "decisiontree_entropy=DecisionTreeClassifier(criterion='entropy', random_state=0)"
   ]
  },
  {
   "cell_type": "code",
   "execution_count": 13,
   "metadata": {},
   "outputs": [],
   "source": [
    "# 모델 훈련\n",
    "\n",
    "model_entropy=decisiontree_entropy.fit(features,target)"
   ]
  },
  {
   "cell_type": "markdown",
   "metadata": {},
   "source": [
    "#### 지니 불순도는 클래스가 균등하게 분포되어 있을 때 최대가 된다.\n",
    "\n",
    "예를 들어, 이진 클래스일 경우 클래스 샘플 비율이 0.5 일때 가장 큰 값ㅇ ㅣ된다.\n",
    "\n",
    "G(t)=1-0.5^2-0.5^2=0.5\n",
    "\n",
    "\n",
    "\n",
    "#### 엔트로피 불순도도 클래스가 균드앟게 분포되어 있을 때 최대가 된다.\n",
    "\n",
    "H(t)=-0.5*log2(0.5)-0.5*log2(0.5)=1"
   ]
  },
  {
   "cell_type": "markdown",
   "metadata": {},
   "source": [
    "## 결정 트리 회귀 훈련하기"
   ]
  },
  {
   "cell_type": "code",
   "execution_count": 14,
   "metadata": {},
   "outputs": [],
   "source": [
    "from sklearn.tree import DecisionTreeRegressor\n",
    "from sklearn import datasets"
   ]
  },
  {
   "cell_type": "code",
   "execution_count": 16,
   "metadata": {},
   "outputs": [],
   "source": [
    "boston=datasets.load_boston()\n",
    "features=boston.data[:,0:2]\n",
    "target=boston.target"
   ]
  },
  {
   "cell_type": "code",
   "execution_count": 17,
   "metadata": {},
   "outputs": [],
   "source": [
    "decisiontree=DecisionTreeRegressor(random_state=0)"
   ]
  },
  {
   "cell_type": "code",
   "execution_count": 18,
   "metadata": {},
   "outputs": [],
   "source": [
    "model=decisiontree.fit(features,target)"
   ]
  },
  {
   "cell_type": "raw",
   "metadata": {},
   "source": [
    "결정 트리 회귀는 결정 트리 분류와 작동 방식이 비슷하다. 지니 불순도나 엔트로피를 감소하는 대신\n",
    "\n",
    "기본적으로 얼마나 평균 제곱 오차(MSE)를 감소시키는지에 따라 분할한다."
   ]
  },
  {
   "cell_type": "code",
   "execution_count": 19,
   "metadata": {},
   "outputs": [],
   "source": [
    "# 결정트리의 모델 훈련 과정 확인\n",
    "\n",
    "observation=[[0.02,16]]"
   ]
  },
  {
   "cell_type": "code",
   "execution_count": 20,
   "metadata": {},
   "outputs": [
    {
     "data": {
      "text/plain": [
       "array([33.])"
      ]
     },
     "execution_count": 20,
     "metadata": {},
     "output_type": "execute_result"
    }
   ],
   "source": [
    "# 샘플의 타깃 예측\n",
    "\n",
    "model.predict(observation)"
   ]
  },
  {
   "cell_type": "markdown",
   "metadata": {},
   "source": [
    "criterion 매개변수를 사용하여 분할 품질의 측정 방식을 선택할 수 있다."
   ]
  },
  {
   "cell_type": "code",
   "execution_count": 21,
   "metadata": {},
   "outputs": [],
   "source": [
    "decisiontree_mae=DecisionTreeRegressor(criterion='mae', random_state=0)"
   ]
  },
  {
   "cell_type": "code",
   "execution_count": 22,
   "metadata": {},
   "outputs": [],
   "source": [
    "# 모델 훈련\n",
    "\n",
    "model_mae=decisiontree_mae.fit(features, target)"
   ]
  },
  {
   "cell_type": "markdown",
   "metadata": {},
   "source": [
    "## 결정 트리 모델 시각화하기"
   ]
  },
  {
   "cell_type": "code",
   "execution_count": 26,
   "metadata": {},
   "outputs": [],
   "source": [
    "import pydotplus\n",
    "from sklearn.tree import DecisionTreeClassifier\n",
    "from sklearn import datasets\n",
    "from IPython.display import Image\n",
    "from sklearn import tree"
   ]
  },
  {
   "cell_type": "code",
   "execution_count": 27,
   "metadata": {},
   "outputs": [],
   "source": [
    "iris=datasets.load_iris()\n",
    "features=iris.data\n",
    "target=iris.target"
   ]
  },
  {
   "cell_type": "code",
   "execution_count": 28,
   "metadata": {},
   "outputs": [],
   "source": [
    "# 결정 트리 분류기 생성\n",
    "\n",
    "decisiontree=DecisionTreeClassifier(random_state=0)"
   ]
  },
  {
   "cell_type": "code",
   "execution_count": 29,
   "metadata": {},
   "outputs": [],
   "source": [
    "# 모델 훈련\n",
    "\n",
    "model=decisiontree.fit(features,target)"
   ]
  },
  {
   "cell_type": "code",
   "execution_count": 39,
   "metadata": {},
   "outputs": [
    {
     "ename": "InvocationException",
     "evalue": "GraphViz's executables not found",
     "output_type": "error",
     "traceback": [
      "\u001b[1;31m---------------------------------------------------------------------------\u001b[0m",
      "\u001b[1;31mInvocationException\u001b[0m                       Traceback (most recent call last)",
      "\u001b[1;32m<ipython-input-39-683da5914932>\u001b[0m in \u001b[0;36m<module>\u001b[1;34m\u001b[0m\n\u001b[0;32m      9\u001b[0m \u001b[1;31m# 그래프 출력\u001b[0m\u001b[1;33m\u001b[0m\u001b[1;33m\u001b[0m\u001b[1;33m\u001b[0m\u001b[0m\n\u001b[0;32m     10\u001b[0m \u001b[1;33m\u001b[0m\u001b[0m\n\u001b[1;32m---> 11\u001b[1;33m \u001b[0mImage\u001b[0m\u001b[1;33m(\u001b[0m\u001b[0mgraph\u001b[0m\u001b[1;33m.\u001b[0m\u001b[0mcreate_png\u001b[0m\u001b[1;33m(\u001b[0m\u001b[1;33m)\u001b[0m\u001b[1;33m)\u001b[0m\u001b[1;33m\u001b[0m\u001b[1;33m\u001b[0m\u001b[0m\n\u001b[0m",
      "\u001b[1;32m~\\anaconda3\\lib\\site-packages\\pydotplus\\graphviz.py\u001b[0m in \u001b[0;36m<lambda>\u001b[1;34m(f, prog)\u001b[0m\n\u001b[0;32m   1795\u001b[0m             self.__setattr__(\n\u001b[0;32m   1796\u001b[0m                 \u001b[1;34m'create_'\u001b[0m \u001b[1;33m+\u001b[0m \u001b[0mfrmt\u001b[0m\u001b[1;33m,\u001b[0m\u001b[1;33m\u001b[0m\u001b[1;33m\u001b[0m\u001b[0m\n\u001b[1;32m-> 1797\u001b[1;33m                 \u001b[1;32mlambda\u001b[0m \u001b[0mf\u001b[0m\u001b[1;33m=\u001b[0m\u001b[0mfrmt\u001b[0m\u001b[1;33m,\u001b[0m \u001b[0mprog\u001b[0m\u001b[1;33m=\u001b[0m\u001b[0mself\u001b[0m\u001b[1;33m.\u001b[0m\u001b[0mprog\u001b[0m\u001b[1;33m:\u001b[0m \u001b[0mself\u001b[0m\u001b[1;33m.\u001b[0m\u001b[0mcreate\u001b[0m\u001b[1;33m(\u001b[0m\u001b[0mformat\u001b[0m\u001b[1;33m=\u001b[0m\u001b[0mf\u001b[0m\u001b[1;33m,\u001b[0m \u001b[0mprog\u001b[0m\u001b[1;33m=\u001b[0m\u001b[0mprog\u001b[0m\u001b[1;33m)\u001b[0m\u001b[1;33m\u001b[0m\u001b[1;33m\u001b[0m\u001b[0m\n\u001b[0m\u001b[0;32m   1798\u001b[0m             )\n\u001b[0;32m   1799\u001b[0m             \u001b[0mf\u001b[0m \u001b[1;33m=\u001b[0m \u001b[0mself\u001b[0m\u001b[1;33m.\u001b[0m\u001b[0m__dict__\u001b[0m\u001b[1;33m[\u001b[0m\u001b[1;34m'create_'\u001b[0m \u001b[1;33m+\u001b[0m \u001b[0mfrmt\u001b[0m\u001b[1;33m]\u001b[0m\u001b[1;33m\u001b[0m\u001b[1;33m\u001b[0m\u001b[0m\n",
      "\u001b[1;32m~\\anaconda3\\lib\\site-packages\\pydotplus\\graphviz.py\u001b[0m in \u001b[0;36mcreate\u001b[1;34m(self, prog, format)\u001b[0m\n\u001b[0;32m   1958\u001b[0m             \u001b[1;32mif\u001b[0m \u001b[0mself\u001b[0m\u001b[1;33m.\u001b[0m\u001b[0mprogs\u001b[0m \u001b[1;32mis\u001b[0m \u001b[1;32mNone\u001b[0m\u001b[1;33m:\u001b[0m\u001b[1;33m\u001b[0m\u001b[1;33m\u001b[0m\u001b[0m\n\u001b[0;32m   1959\u001b[0m                 raise InvocationException(\n\u001b[1;32m-> 1960\u001b[1;33m                     'GraphViz\\'s executables not found')\n\u001b[0m\u001b[0;32m   1961\u001b[0m \u001b[1;33m\u001b[0m\u001b[0m\n\u001b[0;32m   1962\u001b[0m         \u001b[1;32mif\u001b[0m \u001b[0mprog\u001b[0m \u001b[1;32mnot\u001b[0m \u001b[1;32min\u001b[0m \u001b[0mself\u001b[0m\u001b[1;33m.\u001b[0m\u001b[0mprogs\u001b[0m\u001b[1;33m:\u001b[0m\u001b[1;33m\u001b[0m\u001b[1;33m\u001b[0m\u001b[0m\n",
      "\u001b[1;31mInvocationException\u001b[0m: GraphViz's executables not found"
     ]
    }
   ],
   "source": [
    "# DOT 데이터 생성\n",
    "\n",
    "dot_data=tree.export_graphviz(decisiontree, out_file=None, feature_names=iris.feature_names, class_names=iris.target_names)\n",
    "\n",
    "# 그래프 생성\n",
    "\n",
    "graph=pydotplus.graph_from_dot_data(dot_data)\n",
    "\n",
    "# 그래프 출력\n",
    "\n",
    "Image(graph.create_png())"
   ]
  },
  {
   "cell_type": "code",
   "execution_count": 40,
   "metadata": {},
   "outputs": [],
   "source": [
    "import matplotlib.pyplot as plt"
   ]
  },
  {
   "cell_type": "code",
   "execution_count": 42,
   "metadata": {},
   "outputs": [
    {
     "data": {
      "image/png": "[encoded data removed]",
      "text/plain": [
       "<Figure size 1440x1080 with 1 Axes>"
      ]
     },
     "metadata": {
      "needs_background": "light"
     },
     "output_type": "display_data"
    }
   ],
   "source": [
    "plt.figure(figsize=(20,15))\n",
    "tree.plot_tree(model, filled=True, feature_names=iris.feature_names, class_names=iris.target_names, rounded=True, fontsize=14)\n",
    "plt.show()"
   ]
  },
  {
   "cell_type": "markdown",
   "metadata": {},
   "source": [
    "## 랜덤 포레스트 분류기 훈련하기"
   ]
  },
  {
   "cell_type": "code",
   "execution_count": 43,
   "metadata": {},
   "outputs": [],
   "source": [
    "from sklearn.ensemble import RandomForestClassifier\n",
    "from sklearn import datasets"
   ]
  },
  {
   "cell_type": "code",
   "execution_count": 44,
   "metadata": {},
   "outputs": [],
   "source": [
    "iris=datasets.load_iris()\n",
    "features=iris.data\n",
    "target=iris.target"
   ]
  },
  {
   "cell_type": "code",
   "execution_count": 45,
   "metadata": {},
   "outputs": [],
   "source": [
    "# 랜덤 포레스트 분류기 객체 생성\n",
    "\n",
    "randomforest=RandomForestClassifier(random_state=0, n_jobs=-1)"
   ]
  },
  {
   "cell_type": "code",
   "execution_count": 46,
   "metadata": {},
   "outputs": [],
   "source": [
    "# 모델 훈련\n",
    "\n",
    "model=randomforest.fit(features, target)"
   ]
  },
  {
   "cell_type": "markdown",
   "metadata": {},
   "source": [
    "결정트리의 일반적인 문제는 훈련 데이터에 너무 가깝게 맞추려는 (과대적합) 하려는 성질이 있다는 것이다.\n",
    "\n",
    "이 때문에 랜덤 포레스트라 불리는 앙상블 방법이 널리 사용된다.\n",
    "\n",
    "랜덤 포레스트는 많은 결정트리를 훈련하지만 각 트리는 부트스트랩 샘플을 사용한다.\n",
    "\n",
    "-> 즉, 원본 샘플 수와 동일하게 중복을 포함하여 랜덤하게 샘플을 뽑는다.\n",
    "\n",
    "또 각 노드는 최적의 분할을 결정할 때 특성의 일부만 사용한다.\n",
    "\n",
    "이 랜덤한 결정 트리의 숲이 투표하여 예측 클래스를 결정한다."
   ]
  },
  {
   "cell_type": "code",
   "execution_count": 54,
   "metadata": {},
   "outputs": [
    {
     "data": {
      "text/plain": [
       "array([1])"
      ]
     },
     "execution_count": 54,
     "metadata": {},
     "output_type": "execute_result"
    }
   ],
   "source": [
    "# 랜덤포레스트는 결정트리와 작동 방식이 비슷하다.\n",
    "\n",
    "observation=[[5,4,3,2]]\n",
    "\n",
    "model.predict(observation)"
   ]
  },
  {
   "cell_type": "code",
   "execution_count": 55,
   "metadata": {},
   "outputs": [],
   "source": [
    "# 랜덤포레스트는 결정트리처럼 불순도 측정 방식을 바꿀 수 있다.\n",
    "\n",
    "randomforest_entropy=RandomForestClassifier(criterion='entropy', random_state=0)"
   ]
  },
  {
   "cell_type": "code",
   "execution_count": 56,
   "metadata": {},
   "outputs": [],
   "source": [
    "# 모델 훈련\n",
    "\n",
    "model_entropy=randomforest_entropy.fit(features,target)"
   ]
  },
  {
   "cell_type": "markdown",
   "metadata": {},
   "source": [
    "개별 결정트리가 아니ㅏ므로 RandomForestClassifier 에만 있거나 특별히 중요한 매개변수가 있다.\n",
    "\n",
    "- max_features : 각 노드에서 사용할 특성의 최대 개수를 결정한다. 이 매개변수는 정수(특성의 수), 실수(특정 개수 비율), sqrt(특성 개수의 제곱근)을 입력할 수 있다. Default 값은 auto 로 sqrt와 동작이 같다.\n",
    "\n",
    "- bootstrap : 트리에 사용할 샘플을 중복을 허용한 샘플리으로 만들지(기본값) 아닐지를 결정한다.\n",
    "\n",
    "- n_estimators : 랜덤 포레스트에서 만들 결정 트리 개수를 지정한다.\n",
    "\n",
    "- n_jobs : 많은 결정 트리를 만들때 코어를 모두 사용해 효율적이게 구성하는것이 좋다."
   ]
  },
  {
   "cell_type": "markdown",
   "metadata": {},
   "source": [
    "## 랜덤 포레스트 회귀 훈련하기"
   ]
  },
  {
   "cell_type": "code",
   "execution_count": 57,
   "metadata": {},
   "outputs": [],
   "source": [
    "from sklearn.ensemble import RandomForestRegressor\n",
    "from sklearn import datasets"
   ]
  },
  {
   "cell_type": "code",
   "execution_count": 59,
   "metadata": {},
   "outputs": [],
   "source": [
    "boston=datasets.load_boston()\n",
    "features=boston.data[:,0:2]\n",
    "target=boston.target"
   ]
  },
  {
   "cell_type": "code",
   "execution_count": 62,
   "metadata": {},
   "outputs": [],
   "source": [
    "# 랜덤 포레스트 회귀 객체 생성\n",
    "\n",
    "randomforest=RandomForestRegressor(random_state=0, n_jobs=-1, verbose=1)"
   ]
  },
  {
   "cell_type": "code",
   "execution_count": 63,
   "metadata": {},
   "outputs": [
    {
     "name": "stderr",
     "output_type": "stream",
     "text": [
      "[Parallel(n_jobs=-1)]: Using backend ThreadingBackend with 4 concurrent workers.\n",
      "[Parallel(n_jobs=-1)]: Done  42 tasks      | elapsed:    0.0s\n",
      "[Parallel(n_jobs=-1)]: Done 100 out of 100 | elapsed:    0.1s finished\n"
     ]
    }
   ],
   "source": [
    "# 모델 훈련\n",
    "\n",
    "model=randomforest.fit(features, target)"
   ]
  },
  {
   "cell_type": "markdown",
   "metadata": {},
   "source": [
    "랜덤포레스트 분류기와 마찬가지로 중요한 매개변수들이 있다.\n",
    "\n",
    "- max_features : 각 노드에서 사용할 최대 특성 개수\n",
    "- bootstrap : 중복을 허용한 샘플링 여부  (기본값 : True)\n",
    "- n_estimators : 사용할 결정 트리 개수 (기본값 : 100)"
   ]
  },
  {
   "cell_type": "markdown",
   "metadata": {},
   "source": [
    "## 랜덤 포레스트에서 중요한 특성 구분하기"
   ]
  },
  {
   "cell_type": "code",
   "execution_count": 64,
   "metadata": {},
   "outputs": [],
   "source": [
    "import numpy as np\n",
    "import matplotlib.pyplot as plt\n",
    "from sklearn.ensemble import RandomForestClassifier\n",
    "from sklearn import datasets"
   ]
  },
  {
   "cell_type": "code",
   "execution_count": 71,
   "metadata": {},
   "outputs": [
    {
     "data": {
      "text/plain": [
       "(150, 4)"
      ]
     },
     "execution_count": 71,
     "metadata": {},
     "output_type": "execute_result"
    }
   ],
   "source": [
    "# 데이터 로드\n",
    "\n",
    "iris=datasets.load_iris()\n",
    "features=iris.data\n",
    "target=iris.target\n",
    "\n",
    "features.shape"
   ]
  },
  {
   "cell_type": "code",
   "execution_count": 72,
   "metadata": {},
   "outputs": [],
   "source": [
    "# 랜덤 포레스트 분류기 객체 생성\n",
    "\n",
    "randomforest=RandomForestClassifier(random_state=0, n_jobs=-1, verbose=1)"
   ]
  },
  {
   "cell_type": "code",
   "execution_count": 73,
   "metadata": {},
   "outputs": [
    {
     "name": "stderr",
     "output_type": "stream",
     "text": [
      "[Parallel(n_jobs=-1)]: Using backend ThreadingBackend with 4 concurrent workers.\n",
      "[Parallel(n_jobs=-1)]: Done  42 tasks      | elapsed:    0.0s\n",
      "[Parallel(n_jobs=-1)]: Done 100 out of 100 | elapsed:    0.0s finished\n"
     ]
    }
   ],
   "source": [
    "# 모델 훈련\n",
    "\n",
    "model=randomforest.fit(features, target)"
   ]
  },
  {
   "cell_type": "code",
   "execution_count": 74,
   "metadata": {},
   "outputs": [
    {
     "data": {
      "text/plain": [
       "array([0.09090795, 0.02453104, 0.46044474, 0.42411627])"
      ]
     },
     "execution_count": 74,
     "metadata": {},
     "output_type": "execute_result"
    }
   ],
   "source": [
    "# 특성 중요도 계산\n",
    "\n",
    "importances=model.feature_importances_\n",
    "importances"
   ]
  },
  {
   "cell_type": "code",
   "execution_count": 76,
   "metadata": {},
   "outputs": [
    {
     "data": {
      "text/plain": [
       "array([2, 3, 0, 1], dtype=int64)"
      ]
     },
     "execution_count": 76,
     "metadata": {},
     "output_type": "execute_result"
    }
   ],
   "source": [
    "# 특성 중요도를 내림차순으로 정렬\n",
    "\n",
    "indices=np.argsort(importances)[::-1]\n",
    "indices"
   ]
  },
  {
   "cell_type": "code",
   "execution_count": 78,
   "metadata": {},
   "outputs": [
    {
     "data": {
      "text/plain": [
       "['petal length (cm)',\n",
       " 'petal width (cm)',\n",
       " 'sepal length (cm)',\n",
       " 'sepal width (cm)']"
      ]
     },
     "execution_count": 78,
     "metadata": {},
     "output_type": "execute_result"
    }
   ],
   "source": [
    "# 정렬된 특성 중요도에 따라 특성의 이름 나열\n",
    "\n",
    "names=[iris.feature_names[i] for i in indices]\n",
    "names"
   ]
  },
  {
   "cell_type": "code",
   "execution_count": 80,
   "metadata": {},
   "outputs": [
    {
     "data": {
      "image/png": "[encoded data removed]",
      "text/plain": [
       "<Figure size 432x288 with 1 Axes>"
      ]
     },
     "metadata": {
      "needs_background": "light"
     },
     "output_type": "display_data"
    }
   ],
   "source": [
    "# 그래프 생성\n",
    "\n",
    "plt.figure()\n",
    "plt.title(\"Feature Importance\")\n",
    "\n",
    "# 막대 그래프 추가\n",
    "plt.bar(range(features.shape[1]), importances[indices])\n",
    "\n",
    "# x축 레이블로 특성 이름을 사용\n",
    "plt.xticks(range(features.shape[1]), names, rotation=90)\n",
    "\n",
    "# 그래프 출력\n",
    "plt.show()"
   ]
  },
  {
   "cell_type": "markdown",
   "metadata": {},
   "source": [
    "결정 트리의 주요 장점은 해석이 용이하다는 것이다.\n",
    "\n",
    "그러나 랜덤포레스트는 수십, 수백, 수천개의 결정트리를 그리기 때문에 직관적으로 모델을 시각화하기가 어렵다.\n",
    "\n",
    "따라서, 각 특성의 상대적 중요도를 비교하는 방법으로 시각화를 하고 있다.\n",
    "\n",
    "\n",
    "특성 중요도에 관해서는 두가지를 유념해야 한다.\n",
    "\n",
    "\n",
    "\n",
    "1) 사이킷런에서는 순서가 없는 범주형 특성을 여러 개의 이진 특성으로 변환해야 한다. 특성의 중요도 또한 여러 개의 이진 특성으로 나뉘게 된다.    원본 범주형 특성이 아주 중요하더라도 개별 이진 특성은 중요하지 않게 보일 수 있다.\n",
    "\n",
    "2) 두 특성의 상관관계가 있다면 한 특성이 중요하게 나타났을때 다른 특성은 중요하지 않게 보일 수도 있다."
   ]
  },
  {
   "cell_type": "code",
   "execution_count": 81,
   "metadata": {},
   "outputs": [
    {
     "data": {
      "text/plain": [
       "array([0.09090795, 0.02453104, 0.46044474, 0.42411627])"
      ]
     },
     "execution_count": 81,
     "metadata": {},
     "output_type": "execute_result"
    }
   ],
   "source": [
    "# 특성 중요도 확인\n",
    "\n",
    "model.feature_importances_"
   ]
  },
  {
   "cell_type": "markdown",
   "metadata": {},
   "source": [
    "값이 클수록 더 중요한 특성이며 이는 곧 불순도를 가장 낮추는 특성이라는 뜻이다.\n",
    "\n",
    "각 특성의 합은 1이다."
   ]
  },
  {
   "cell_type": "markdown",
   "metadata": {},
   "source": [
    "랜덤 포레스트의 특성 중요도는 결정 트리의 중요도를 특성별로 평균하여 특성 중요도를 구한다.\n",
    "\n",
    "최종적으로 특성 중요도가 합이 1이 되도록 정규화하며, 한 특성에 치우치지 않고 데이터의 다양한 면을 바라본다는것이 특징이다."
   ]
  },
  {
   "cell_type": "code",
   "execution_count": 82,
   "metadata": {},
   "outputs": [],
   "source": [
    "# 결정 트리 분류기\n",
    "\n",
    "decisiontree=DecisionTreeClassifier(random_state=0,)"
   ]
  },
  {
   "cell_type": "code",
   "execution_count": 83,
   "metadata": {},
   "outputs": [],
   "source": [
    "# 모델 훈련\n",
    "\n",
    "model=decisiontree.fit(features,target)"
   ]
  },
  {
   "cell_type": "code",
   "execution_count": 84,
   "metadata": {},
   "outputs": [
    {
     "data": {
      "image/png": "[encoded data removed]",
      "text/plain": [
       "<Figure size 432x288 with 1 Axes>"
      ]
     },
     "metadata": {
      "needs_background": "light"
     },
     "output_type": "display_data"
    }
   ],
   "source": [
    "# 랜덤 포레스트와 결정 트리의 특성 중요도 비교\n",
    "\n",
    "fig, ax=plt.subplots()\n",
    "rects1= ax.bar(np.arange(features.shape[1])-0.25,\n",
    "              randomforest.feature_importances_,0.5,\n",
    "              label='Random Forest')\n",
    "rects2=ax.bar(np.arange(features.shape[1])+0.25,\n",
    "             model.feature_importances_,0.5,\n",
    "             label='Decision Tree')\n",
    "plt.xticks(range(features.shape[1]), names, rotation=90)\n",
    "plt.legend()\n",
    "plt.show()"
   ]
  },
  {
   "cell_type": "markdown",
   "metadata": {},
   "source": [
    "결정트리와 달리 랜덤포레스트는 특정 특성에 치우치지 않고, 다양한 특성을 고려함을 볼 수 있다."
   ]
  },
  {
   "cell_type": "markdown",
   "metadata": {},
   "source": [
    "## 랜덤 포레스트에서 중요한 특성 선택하기"
   ]
  },
  {
   "cell_type": "code",
   "execution_count": 85,
   "metadata": {},
   "outputs": [],
   "source": [
    "from sklearn.ensemble import RandomForestClassifier\n",
    "from sklearn import datasets\n",
    "from sklearn.feature_selection import SelectFromModel"
   ]
  },
  {
   "cell_type": "code",
   "execution_count": 86,
   "metadata": {},
   "outputs": [],
   "source": [
    "iris=datasets.load_iris()\n",
    "features=iris.data\n",
    "target=iris.target"
   ]
  },
  {
   "cell_type": "code",
   "execution_count": 87,
   "metadata": {},
   "outputs": [],
   "source": [
    "# 랜덤 포레스트 분류기 생성\n",
    "\n",
    "randomforest=RandomForestClassifier(random_state=0, n_jobs=-1)"
   ]
  },
  {
   "cell_type": "code",
   "execution_count": 88,
   "metadata": {},
   "outputs": [],
   "source": [
    "# 특성 중요도가 임계값보다 크거나 같은 특성으로 객체 생성\n",
    "\n",
    "selector=SelectFromModel(randomforest, threshold=0.3)"
   ]
  },
  {
   "cell_type": "code",
   "execution_count": 89,
   "metadata": {},
   "outputs": [],
   "source": [
    "# selector를 사용하여 새로운 특성 행렬 생성\n",
    "\n",
    "features_important=selector.fit_transform(features, target)"
   ]
  },
  {
   "cell_type": "code",
   "execution_count": 90,
   "metadata": {},
   "outputs": [],
   "source": [
    "# 가장 중요한 특성을 사용하여 랜덤 포레스트 모델 훈련\n",
    "\n",
    "model=randomforest.fit(features_important, target)"
   ]
  },
  {
   "cell_type": "markdown",
   "metadata": {},
   "source": [
    "모델의 특성 개수를 감소시켜야 할 경우가 있다.\n",
    "\n",
    "사이킷런에서는 두 단계의 워크플로를 사용하여 줄어든 특성으로 모델을 만들 수 있다.\n",
    "\n",
    "1) 모든 특성을 사용해 랜덤 포레스트 모델을 훈련한다.\n",
    "2) 그다음 중요한 특성만 포함된 새로운 특성 행렬을 만들어 새 모델을 훈련한다.\n",
    "\n",
    "그러나, 이 방식에도 문제는 존재한다.\n",
    "\n",
    "1. 원-핫 인코딩된 순서가 없는 범주형 특성의 특성 중요도는 여러 개의 이진 특성으로 희석된다.\n",
    "2. 상관관계가 높은 특성의 중요도는 양쪽 특성에 고루 분산되는 것이 아니라 한 특성에 집중된다."
   ]
  },
  {
   "cell_type": "markdown",
   "metadata": {},
   "source": [
    "## 불균형한 클래스 다루기"
   ]
  },
  {
   "cell_type": "code",
   "execution_count": 91,
   "metadata": {},
   "outputs": [],
   "source": [
    "import numpy as np\n",
    "from sklearn.ensemble import RandomForestClassifier\n",
    "from sklearn import datasets"
   ]
  },
  {
   "cell_type": "code",
   "execution_count": 92,
   "metadata": {},
   "outputs": [],
   "source": [
    "iris=datasets.load_iris()\n",
    "features=iris.data\n",
    "target=iris.target"
   ]
  },
  {
   "cell_type": "code",
   "execution_count": 93,
   "metadata": {},
   "outputs": [],
   "source": [
    "# 처음 40개의 샘플을 제거하여 불균형한 데이터를 만든다.\n",
    "\n",
    "features=features[40:,:]\n",
    "target=target[40:]"
   ]
  },
  {
   "cell_type": "code",
   "execution_count": 94,
   "metadata": {},
   "outputs": [],
   "source": [
    "# 0인 클래스 이외에는 모두 1인 타깃 벡터를 만든다.\n",
    "\n",
    "target=np.where((target==0),0,1)"
   ]
  },
  {
   "cell_type": "code",
   "execution_count": 96,
   "metadata": {},
   "outputs": [],
   "source": [
    "# 랜덤 포레스트 분류기 객체를 만든다.\n",
    "\n",
    "randomforest=RandomForestClassifier(random_state=0, n_jobs=-1, class_weight='balanced')"
   ]
  },
  {
   "cell_type": "markdown",
   "metadata": {},
   "source": [
    "RandomForestClassifier 클래스의 class_weighted 매개변수를 사용하여 불균형한 클래스를 교정할 수 있다.\n",
    "\n",
    "클래스 이름과 원하는 상대적 가중치를 딕셔너리(ex: {'male':0.2,'female':0.8} ) 로 만들어 주입하면\n",
    "\n",
    "그에 따라 RandomForestClassifier 가 클래스에 가중치를 부여한다.\n",
    "\n",
    "\n",
    "좀 더 유용한 매개변수값은 'balanced' 이다. 이 옵션은 데이터에 등장한 비율의 역수로 클래스 가중치를 자동으로 부여한다."
   ]
  },
  {
   "cell_type": "code",
   "execution_count": 97,
   "metadata": {},
   "outputs": [
    {
     "data": {
      "text/plain": [
       "5.5"
      ]
     },
     "execution_count": 97,
     "metadata": {},
     "output_type": "execute_result"
    }
   ],
   "source": [
    "# 작은 클래스의 가중치 계산\n",
    "\n",
    "110/(2*10)"
   ]
  },
  {
   "cell_type": "code",
   "execution_count": 98,
   "metadata": {},
   "outputs": [
    {
     "data": {
      "text/plain": [
       "0.55"
      ]
     },
     "execution_count": 98,
     "metadata": {},
     "output_type": "execute_result"
    }
   ],
   "source": [
    "# 큰 크래스의 가중치 계산\n",
    "\n",
    "110/(2*100)"
   ]
  },
  {
   "cell_type": "markdown",
   "metadata": {},
   "source": [
    "## 트리 크기 제어하기"
   ]
  },
  {
   "cell_type": "code",
   "execution_count": 99,
   "metadata": {},
   "outputs": [],
   "source": [
    "from sklearn.tree import DecisionTreeClassifier\n",
    "from sklearn import datasets"
   ]
  },
  {
   "cell_type": "code",
   "execution_count": 100,
   "metadata": {},
   "outputs": [],
   "source": [
    "# 데이터 로드\n",
    "\n",
    "iris=datasets.load_iris()\n",
    "features=iris.data\n",
    "target=iris.target"
   ]
  },
  {
   "cell_type": "code",
   "execution_count": 101,
   "metadata": {},
   "outputs": [],
   "source": [
    "# 결정트리 분류기 생성\n",
    "\n",
    "decisiontree=DecisionTreeClassifier(random_state=0,\n",
    "                                   max_depth=None,\n",
    "                                   min_samples_split=2,\n",
    "                                   min_samples_leaf=1,\n",
    "                                   min_weight_fraction_leaf=0,\n",
    "                                   max_leaf_nodes=None,\n",
    "                                   min_impurity_decrease=0)"
   ]
  },
  {
   "cell_type": "code",
   "execution_count": 102,
   "metadata": {},
   "outputs": [],
   "source": [
    "# 모델 훈련\n",
    "\n",
    "model=decisiontree.fit(features, target)"
   ]
  },
  {
   "cell_type": "markdown",
   "metadata": {},
   "source": [
    "#### 사이킷런의 트리 기반 학습 알고리즘의 매개변수\n",
    "\n",
    "- max_depth : 트리의 최대깊이. None 이면 불순도가 0이 될때까지 트리가 성장한다.\n",
    "- min_samples_split : 노드를 분할하기 위한 최소 샘플 개수. 정수가 입력되면 최솟값으로 사용ㅇ된다. 실수가 입력되면 전체 샘플 개수의 비율을 의미한다.\n",
    "- min_samples_leaf : 리프 노드가 되기 위한 최소 샘플 개수. min_samples_split 과 동일한 매개변수값을 사용한다.\n",
    "- max_leaf_nodes : 리프 노드의 최대 개수\n",
    "- min_impurity_split : 분할하기 위한 불순도 최소 감소량\n",
    "\n",
    "\n",
    "대부분 max_depth 와 min_impurity_split 만 사용하기는 한다. 얕은 트리로 만든 모델이 간단하고 분산이 낮기 때문이다."
   ]
  },
  {
   "cell_type": "markdown",
   "metadata": {},
   "source": [
    "트리기반 모델에서 과대적합을 막는 방법은 트리의 성장을 제한하는 것이다.\n",
    "\n",
    "트리가 모두 성장한 후 노드를 줄이는 방법을 '사후 가지치기(post-pruning)' 라고 하고, 성장하기 전에 막는 방법을 '사전 가지치기(pre-pruning)' 이라고 한다.\n",
    "\n",
    "사이킷런 사전 가지치기만 지원한다.\n",
    "\n",
    "\n",
    "트리 모델에서 과대적합을 줄이려면 min_ 으로 시작하는 매개변수값을 증가시키거나 max_ 로 시작하는 매개변수값을 줄이면 된다."
   ]
  },
  {
   "cell_type": "markdown",
   "metadata": {},
   "source": [
    "## 부스팅을 사용하여 성능 향상하기"
   ]
  },
  {
   "cell_type": "code",
   "execution_count": 103,
   "metadata": {},
   "outputs": [],
   "source": [
    "from sklearn.ensemble import AdaBoostClassifier\n",
    "from sklearn import datasets"
   ]
  },
  {
   "cell_type": "code",
   "execution_count": 104,
   "metadata": {},
   "outputs": [],
   "source": [
    "iris=datasets.load_iris()\n",
    "features=iris.data\n",
    "target=iris.target"
   ]
  },
  {
   "cell_type": "code",
   "execution_count": 105,
   "metadata": {},
   "outputs": [],
   "source": [
    "# 에이다부스트 트리 분류기의 객체 생성\n",
    "\n",
    "adaboost=AdaBoostClassifier(random_state=0)"
   ]
  },
  {
   "cell_type": "code",
   "execution_count": 106,
   "metadata": {},
   "outputs": [],
   "source": [
    "# 모델 훈련\n",
    "\n",
    "model=adaboost.fit(features, target)"
   ]
  },
  {
   "cell_type": "markdown",
   "metadata": {},
   "source": [
    "랜덤 포레스트에서 랜덤한 결정 트리의 앙상블이 타깃 벡터를 예측한다.\n",
    "\n",
    "에이다부스트(Adaboost)로 부르는 부스팅 형식은 이전 모델이 잘못 예측한 샘플에 높은 우선순위를 부여하는 식으로\n",
    "\n",
    "약한 모델을 연속적으로 훈련한다. 구체적인 모델의 훈련과정은 다음과 같다.\n",
    "\n",
    "\n",
    "\n",
    "1. 모든 샘플 Xi 에 초기 가중치 값 Wi=1/n 을 할당한다. 여기서 n 은 전체 데이터 샘플의 갯수이다.\n",
    "\n",
    "2. 이 데이터에서 약한 모델을 훈련한다.\n",
    "\n",
    "3. 각 샘플에 대하여 모델이 Xi를 올바르게 예측하면 Wi를 낮추고, 잘못 예측하면 Wi를 높인다.\n",
    "\n",
    "4. Wi가 큰 샘플에 높은 우선순위를 두는 새로운 약한 모델을 훈련한다.\n",
    "\n",
    "5. 데이터가 완벽하게 예측되거나 지정된 개수만큼 모델을 훈련할 때까지 단계 4와 5를 반복한다."
   ]
  },
  {
   "cell_type": "markdown",
   "metadata": {},
   "source": [
    "최종 결과는 더 어려운 샘플에 초점을 맞추는 약한 모델들을 모은 앙상블 모델이다.\n",
    "\n",
    "사이킷런에는 AdaBoostClassifier 와 AdaBoostRegressor 클래스에 에이다부스트가 구현되어 있다.\n",
    "\n",
    "중요한 매개변수는 다음과 같다.\n",
    "\n",
    "- base_estimator : 약한 모델을 훈련하는데 사용할 학습 알고리즘이다. 기본값은 트리 이다.\n",
    "- n_estimators : 반복적으로 훈련할 모델의 개수이다.\n",
    "- learning_rate : 각 모델이 부여하는 가중치 정도로 기본값은 1이다. 학습률을 감소하면 가중치 감소나 증가량이 줄어들기 때문에 모델의 훈련 속도를 느리게 만든다( 하지만 이따금 더 나은 성능을 만든다 )\n",
    "- loss : AdaBoostRegressor 에만 해당되는 것으로 가중치를 업데이트할 때 사용하는 손실함수(loss function)을 지정한다. 기본값은 선형 손실함수이지만 square 나 exponential 로 바꿀 수 있다."
   ]
  },
  {
   "cell_type": "markdown",
   "metadata": {},
   "source": [
    "AdaBoostClassifier 는 깊이가 1인 분류용 결정 트리 DecisionTreeClassifier(max_depth=1) 을 사용하고\n",
    "\n",
    "AdaBoostRegressor 는 깊이가 3인 회귀용 결정 트리 DecisionTreeRegressor(max_depth=3) 을 사용한다.\n",
    "\n",
    "\n",
    "\n",
    "AdaBoostClassifier 에서 예측할 때는 각 학습기ㅔ 부여된 가중치를 더하여 가장 높은 점수의 클래스가 예측 결과가 된다.\n",
    "개별 학습기의 가중치는 샘플 가중치를 고려한 예측 정확도를 기반으로 계산된다.\n",
    "\n",
    "\n",
    "AdaBoostRegressor 의 예측은 개별 학습기의 결과를 정렬하여 예측기 가중치의 누적값이 중간 지점에 있는 결과를 사용한다.\n",
    "\n",
    "\n",
    "그레이디언트 부스팅 (Gradient Boosting)은 에이다부스트와는 달리 이전 학습기가 만든 잔여 오차에 새로운 트리를 훈련하는 방식으로\n",
    "앙상블 모델을 구성하여 높은 성능을 낸다.\n",
    "\n",
    "GradientBoostingClassifier 와 GradientBoostingRegressor 는 모두 깊이가 3이고, criterion이 'friedman_mse' 인 DecisionTreeRegressor를 사용한다."
   ]
  },
  {
   "cell_type": "code",
   "execution_count": 107,
   "metadata": {},
   "outputs": [],
   "source": [
    "from sklearn.ensemble import GradientBoostingClassifier"
   ]
  },
  {
   "cell_type": "code",
   "execution_count": 108,
   "metadata": {},
   "outputs": [],
   "source": [
    "# 그레이디언트 부스팅 분류기이 객체 생성\n",
    "\n",
    "gradientboost=GradientBoostingClassifier(random_state=0)"
   ]
  },
  {
   "cell_type": "code",
   "execution_count": 109,
   "metadata": {},
   "outputs": [],
   "source": [
    "# 모델 훈련\n",
    "\n",
    "model=gradientboost.fit(features, target)"
   ]
  },
  {
   "cell_type": "markdown",
   "metadata": {},
   "source": [
    "현재 가장 인기가 많은 머신러닝 알고리즘 중 하나는 XGBoost, LightGBM 과 같은 라이브러리에 구현된\n",
    "히스토그램 기반의 그레이디언트 부스팅이다.\n",
    "\n",
    "히스토그램 기반의 그레이디언트 부스팅의 종류로 HistGradientBoostingClassifier 와 HistGradientBoostingRegressor 도 있는데,\n",
    "이 알고리즘은 훈련 데이터를 정수 구간(bin)으로 변환한 후 훈련하기 떄문에 일반적인 그래디언 부스팅보다 훨씬 빠르다.\n",
    "\n",
    "구간의 최대 개수를 지정하는 max_bins 의 기본값은 256이며, 이보다 크게 지정할 수는 없다.\n",
    "\n",
    "이 클래스들은 아직 실험적이기 때문에, 명시적을 사용한다는것을 선언해야 한다."
   ]
  },
  {
   "cell_type": "code",
   "execution_count": 110,
   "metadata": {},
   "outputs": [],
   "source": [
    "from sklearn.experimental import enable_hist_gradient_boosting\n",
    "from sklearn.ensemble import HistGradientBoostingClassifier"
   ]
  },
  {
   "cell_type": "code",
   "execution_count": 111,
   "metadata": {},
   "outputs": [],
   "source": [
    "# 히스토그램 기반의 그레이디언트 부스팅 분류기의 객체 생성\n",
    "\n",
    "histgradientboost=HistGradientBoostingClassifier(random_state=0)"
   ]
  },
  {
   "cell_type": "code",
   "execution_count": 112,
   "metadata": {},
   "outputs": [],
   "source": [
    "model=histgradientboost.fit(features, target)"
   ]
  },
  {
   "cell_type": "markdown",
   "metadata": {},
   "source": [
    "## OOB 데이터로 랜덤 포레스트 평가하기\n",
    "### 교차검증을 사용하지 않고 랜덤 포레스트 모델 평가하기 -> OOB 점수를 계산하여 해결"
   ]
  },
  {
   "cell_type": "code",
   "execution_count": 113,
   "metadata": {},
   "outputs": [],
   "source": [
    "from sklearn.ensemble import RandomForestClassifier\n",
    "from sklearn import datasets"
   ]
  },
  {
   "cell_type": "code",
   "execution_count": 114,
   "metadata": {},
   "outputs": [],
   "source": [
    "iris=datasets.load_iris()\n",
    "features=iris.data\n",
    "target=iris.target"
   ]
  },
  {
   "cell_type": "code",
   "execution_count": 115,
   "metadata": {},
   "outputs": [],
   "source": [
    "# 랜덤 포레스트 분류기 객체 생성\n",
    "\n",
    "randomforest=RandomForestClassifier(random_state=0, n_jobs=-1, n_estimators=1000, oob_score=True)  # 사용할 결정트리 1000개"
   ]
  },
  {
   "cell_type": "code",
   "execution_count": 116,
   "metadata": {},
   "outputs": [],
   "source": [
    "# 모델 훈련\n",
    "\n",
    "model=randomforest.fit(features, target)"
   ]
  },
  {
   "cell_type": "code",
   "execution_count": 117,
   "metadata": {},
   "outputs": [
    {
     "data": {
      "text/plain": [
       "0.9533333333333334"
      ]
     },
     "execution_count": 117,
     "metadata": {},
     "output_type": "execute_result"
    }
   ],
   "source": [
    "# OOB 오차 확인\n",
    "\n",
    "randomforest.oob_score_"
   ]
  },
  {
   "cell_type": "markdown",
   "metadata": {},
   "source": [
    "랜덤 포레스트에서 각 결정트리는 부트스트랩 샘플을 사용하여 훈련된다.\n",
    "\n",
    "즉 모든 트리는 서로 다른 일부 샘플을 훈련에 사용하지 않으며 이를 OOB 샘플이라 부른다.\n",
    "OOB 샘픙르 테스트 세트처럼 사용하여 랜덤 포레스트의 성능을 평가할 수 있다.\n",
    "\n",
    "특정 샘플을 사용하여 훈련되지 않은 트리를 통해 학습 알고리즘은 해당 샘플의 정답과 예측값을 비교한다.\n",
    "\n",
    "전체 점수를 계산하여 랜덤 포레스트의 성능을 측정한다. OOB점수는 교차검증(cross_val)을 대신할 수 있는 방법이다.\n",
    "\n",
    "사이킷런에서 OOB 점수를 계산하려면 랜덤포레스트 클래스의 객체를 oob_score=True 로 지정하여 초기화한다.\n",
    "\n",
    "이 점수는 oob_score_ 속성에 저장되어 있다."
   ]
  },
  {
   "cell_type": "code",
   "execution_count": 118,
   "metadata": {},
   "outputs": [],
   "source": [
    "'''\n",
    "랜덤 포레스트와 비슷하게 부트스트랩 샘플링을 사용하는 배깅(Bagging)도 OOB 점수를 계산할 수 있다\n",
    "배깅은 BaggingClassifier 와 BaggingRegressor 에 구현되어 있다.\n",
    "BaggingClassifier로 결정 트리의 앙상블을 만드려면 DecisionTreeClassifier 객체를 만들어 직접 전달해야 한다\n",
    "'''\n",
    "\n",
    "from sklearn.ensemble import BaggingClassifier\n",
    "from sklearn.tree import DecisionTreeClassifier"
   ]
  },
  {
   "cell_type": "code",
   "execution_count": 120,
   "metadata": {},
   "outputs": [],
   "source": [
    "# 배깅 분류기의 객체 생성\n",
    "\n",
    "bagging=BaggingClassifier(DecisionTreeClassifier(), n_estimators=100, random_state=0, n_jobs=-1, oob_score=True, verbose=1)"
   ]
  },
  {
   "cell_type": "code",
   "execution_count": 121,
   "metadata": {},
   "outputs": [
    {
     "name": "stderr",
     "output_type": "stream",
     "text": [
      "[Parallel(n_jobs=4)]: Using backend LokyBackend with 4 concurrent workers.\n",
      "[Parallel(n_jobs=4)]: Done   2 out of   4 | elapsed:    4.7s remaining:    4.7s\n",
      "[Parallel(n_jobs=4)]: Done   4 out of   4 | elapsed:    4.7s finished\n"
     ]
    }
   ],
   "source": [
    "# 모델 훈련\n",
    "\n",
    "model=bagging.fit(features,target)"
   ]
  },
  {
   "cell_type": "code",
   "execution_count": 122,
   "metadata": {},
   "outputs": [
    {
     "data": {
      "text/plain": [
       "0.96"
      ]
     },
     "execution_count": 122,
     "metadata": {},
     "output_type": "execute_result"
    }
   ],
   "source": [
    "# OOB 오차 확인\n",
    "\n",
    "model.oob_score_"
   ]
  }
 ],
 "metadata": {
  "kernelspec": {
   "display_name": "Python 3",
   "language": "python",
   "name": "python3"
  },
  "language_info": {
   "codemirror_mode": {
    "name": "ipython",
    "version": 3
   },
   "file_extension": ".py",
   "mimetype": "text/x-python",
   "name": "python",
   "nbconvert_exporter": "python",
   "pygments_lexer": "ipython3",
   "version": "3.7.6"
  }
 },
 "nbformat": 4,
 "nbformat_minor": 4
}
